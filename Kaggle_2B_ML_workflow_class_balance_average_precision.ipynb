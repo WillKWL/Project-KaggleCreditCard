{
  "cells": [
    {
      "cell_type": "markdown",
      "metadata": {
        "id": "view-in-github",
        "colab_type": "text"
      },
      "source": [
        "<a href=\"https://colab.research.google.com/github/WillKWL/Project-KaggleCreditCard/blob/main/Kaggle_2B_ML_workflow_class_balance_average_precision.ipynb\" target=\"_parent\"><img src=\"https://colab.research.google.com/assets/colab-badge.svg\" alt=\"Open In Colab\"/></a>"
      ]
    },
    {
      "cell_type": "markdown",
      "metadata": {
        "id": "HILH9JcUtCBi"
      },
      "source": [
        "# Import libraries"
      ]
    },
    {
      "cell_type": "code",
      "execution_count": null,
      "metadata": {
        "id": "C0cp3cgw6V1S"
      },
      "outputs": [],
      "source": [
        "import pandas as pd\n",
        "import numpy as np\n",
        "import numpy as np\n",
        "import re\n",
        "import matplotlib.pyplot as plt\n",
        "pd.set_option(\"display.max_rows\", 10)\n",
        "pd.set_option(\"display.max_columns\", None)\n",
        "plt.rcParams[\"figure.figsize\"] = [20, 5]\n",
        "from matplotlib.pyplot import figure\n",
        "import copy\n",
        "from tqdm import tqdm\n",
        "import seaborn as sns\n",
        "from datetime import datetime\n",
        "\n",
        "# packages for data_preparation pipeline\n",
        "from scipy.stats import zscore\n",
        "from matplotlib.patches import Rectangle\n",
        "from sklearn.base import BaseEstimator, TransformerMixin\n",
        "from sklearn.cluster import KMeans\n",
        "from sklearn.compose import make_column_selector, ColumnTransformer\n",
        "from sklearn.decomposition import PCA \n",
        "from sklearn.ensemble import IsolationForest, RandomForestClassifier, ExtraTreesClassifier\n",
        "from sklearn.feature_selection import SelectFromModel\n",
        "from sklearn.metrics import silhouette_score, average_precision_score\n",
        "from sklearn.preprocessing import QuantileTransformer, MinMaxScaler\n",
        "from sklearn.pipeline import make_pipeline, Pipeline\n",
        "import sklearn\n",
        "sklearn.set_config(display='diagram')\n",
        "\n",
        "# packages for classification algorithm\n",
        "from sklearn.neighbors import KNeighborsClassifier\n",
        "from sklearn.linear_model import SGDClassifier, LogisticRegression\n",
        "from sklearn.svm import LinearSVC, SVC\n",
        "from sklearn.tree import DecisionTreeClassifier\n",
        "from sklearn.ensemble import RandomForestClassifier, GradientBoostingClassifier\n",
        "from xgboost import XGBClassifier, XGBRFClassifier\n",
        "\n",
        "# packages for model evaluation\n",
        "from sklearn.model_selection import cross_val_score\n",
        "from sklearn.dummy import DummyClassifier\n",
        "from sklearn.model_selection import cross_val_predict\n",
        "from sklearn.metrics import confusion_matrix\n",
        "from sklearn.metrics import precision_score, recall_score, f1_score\n",
        "from sklearn.metrics import precision_recall_curve\n",
        "from sklearn.metrics import roc_curve, roc_auc_score\n",
        "\n",
        "# packages for hyperparameter tuning\n",
        "from sklearn.experimental import enable_halving_search_cv \n",
        "from sklearn.model_selection import RandomizedSearchCV, HalvingRandomSearchCV, GridSearchCV\n",
        "from scipy.stats import randint, uniform, loguniform\n",
        "from sklearn.utils import parallel_backend\n",
        "\n",
        "# packages for loading and dumping models\n",
        "from google.colab import drive, files\n",
        "import os\n",
        "from joblib import dump, load\n",
        "\n",
        "# packages for ensemble learning\n",
        "from sklearn.ensemble import AdaBoostClassifier, BaggingClassifier, VotingClassifier, StackingClassifier"
      ]
    },
    {
      "cell_type": "code",
      "execution_count": null,
      "metadata": {
        "id": "HbBBgXt19mUx"
      },
      "outputs": [],
      "source": [
        "# def warn(*args, **kwargs):\n",
        "#     pass\n",
        "# import warnings\n",
        "# warnings.warn = warn"
      ]
    },
    {
      "cell_type": "code",
      "execution_count": null,
      "metadata": {
        "colab": {
          "base_uri": "https://localhost:8080/"
        },
        "id": "LizBmV3S0IFb",
        "outputId": "4aa638ff-9d52-4bb8-a921-9a70e53bb80a"
      },
      "outputs": [
        {
          "name": "stdout",
          "output_type": "stream",
          "text": [
            "Mounted at /content/drive\n"
          ]
        }
      ],
      "source": [
        "drive.mount('/content/drive')\n",
        "# save to google drive\n",
        "os.chdir('/content/drive/MyDrive/Colab Notebooks')"
      ]
    },
    {
      "cell_type": "markdown",
      "metadata": {
        "id": "29nmFtFC6V1t"
      },
      "source": [
        "# Read train set"
      ]
    },
    {
      "cell_type": "code",
      "execution_count": null,
      "metadata": {
        "colab": {
          "base_uri": "https://localhost:8080/",
          "height": 488
        },
        "id": "J6K5gqOUsOmF",
        "outputId": "acdee24a-5746-4619-885e-995c4b4211f9"
      },
      "outputs": [
        {
          "data": {
            "text/html": [
              "\n",
              "  <div id=\"df-ad1c3f85-5ed2-4e1b-a318-7dd41e3962fc\">\n",
              "    <div class=\"colab-df-container\">\n",
              "      <div>\n",
              "<style scoped>\n",
              "    .dataframe tbody tr th:only-of-type {\n",
              "        vertical-align: middle;\n",
              "    }\n",
              "\n",
              "    .dataframe tbody tr th {\n",
              "        vertical-align: top;\n",
              "    }\n",
              "\n",
              "    .dataframe thead th {\n",
              "        text-align: right;\n",
              "    }\n",
              "</style>\n",
              "<table border=\"1\" class=\"dataframe\">\n",
              "  <thead>\n",
              "    <tr style=\"text-align: right;\">\n",
              "      <th></th>\n",
              "      <th>V1</th>\n",
              "      <th>V2</th>\n",
              "      <th>V3</th>\n",
              "      <th>V4</th>\n",
              "      <th>V5</th>\n",
              "      <th>V6</th>\n",
              "      <th>V7</th>\n",
              "      <th>V8</th>\n",
              "      <th>V9</th>\n",
              "      <th>V10</th>\n",
              "      <th>V11</th>\n",
              "      <th>V12</th>\n",
              "      <th>V13</th>\n",
              "      <th>V14</th>\n",
              "      <th>V15</th>\n",
              "      <th>V16</th>\n",
              "      <th>V17</th>\n",
              "      <th>V18</th>\n",
              "      <th>V19</th>\n",
              "      <th>V20</th>\n",
              "      <th>V21</th>\n",
              "      <th>V22</th>\n",
              "      <th>V23</th>\n",
              "      <th>V24</th>\n",
              "      <th>V25</th>\n",
              "      <th>V26</th>\n",
              "      <th>V27</th>\n",
              "      <th>V28</th>\n",
              "      <th>Class</th>\n",
              "    </tr>\n",
              "  </thead>\n",
              "  <tbody>\n",
              "    <tr>\n",
              "      <th>0</th>\n",
              "      <td>1.955041</td>\n",
              "      <td>-0.380783</td>\n",
              "      <td>-0.315013</td>\n",
              "      <td>0.330155</td>\n",
              "      <td>-0.509374</td>\n",
              "      <td>-0.086197</td>\n",
              "      <td>-0.627978</td>\n",
              "      <td>0.035994</td>\n",
              "      <td>1.054560</td>\n",
              "      <td>-0.030441</td>\n",
              "      <td>0.624996</td>\n",
              "      <td>1.691496</td>\n",
              "      <td>1.255790</td>\n",
              "      <td>-0.253266</td>\n",
              "      <td>-0.331695</td>\n",
              "      <td>0.307252</td>\n",
              "      <td>-0.930844</td>\n",
              "      <td>0.651666</td>\n",
              "      <td>0.167987</td>\n",
              "      <td>-0.125390</td>\n",
              "      <td>0.238197</td>\n",
              "      <td>0.968305</td>\n",
              "      <td>0.053208</td>\n",
              "      <td>-0.278602</td>\n",
              "      <td>-0.044999</td>\n",
              "      <td>-0.216780</td>\n",
              "      <td>0.045168</td>\n",
              "      <td>-0.047145</td>\n",
              "      <td>0</td>\n",
              "    </tr>\n",
              "    <tr>\n",
              "      <th>1</th>\n",
              "      <td>-0.400975</td>\n",
              "      <td>-0.626943</td>\n",
              "      <td>1.555339</td>\n",
              "      <td>-2.017772</td>\n",
              "      <td>-0.107769</td>\n",
              "      <td>0.168310</td>\n",
              "      <td>0.017959</td>\n",
              "      <td>-0.401619</td>\n",
              "      <td>0.040378</td>\n",
              "      <td>0.611115</td>\n",
              "      <td>-1.945070</td>\n",
              "      <td>-0.726597</td>\n",
              "      <td>1.060888</td>\n",
              "      <td>-1.193347</td>\n",
              "      <td>0.631053</td>\n",
              "      <td>-0.160123</td>\n",
              "      <td>-1.630444</td>\n",
              "      <td>2.106866</td>\n",
              "      <td>-1.692780</td>\n",
              "      <td>-0.470372</td>\n",
              "      <td>-0.153485</td>\n",
              "      <td>0.421703</td>\n",
              "      <td>0.113442</td>\n",
              "      <td>-1.004095</td>\n",
              "      <td>-1.176695</td>\n",
              "      <td>0.361924</td>\n",
              "      <td>-0.370469</td>\n",
              "      <td>-0.144792</td>\n",
              "      <td>0</td>\n",
              "    </tr>\n",
              "    <tr>\n",
              "      <th>2</th>\n",
              "      <td>0.072509</td>\n",
              "      <td>0.820566</td>\n",
              "      <td>-0.561351</td>\n",
              "      <td>-0.709897</td>\n",
              "      <td>1.080399</td>\n",
              "      <td>-0.359429</td>\n",
              "      <td>0.787858</td>\n",
              "      <td>0.117276</td>\n",
              "      <td>-0.131275</td>\n",
              "      <td>-0.638222</td>\n",
              "      <td>0.521931</td>\n",
              "      <td>-0.072768</td>\n",
              "      <td>-1.008237</td>\n",
              "      <td>-0.640249</td>\n",
              "      <td>-0.801946</td>\n",
              "      <td>0.678131</td>\n",
              "      <td>0.044374</td>\n",
              "      <td>0.521919</td>\n",
              "      <td>0.198772</td>\n",
              "      <td>0.012227</td>\n",
              "      <td>-0.314638</td>\n",
              "      <td>-0.872959</td>\n",
              "      <td>0.083391</td>\n",
              "      <td>0.148178</td>\n",
              "      <td>-0.431459</td>\n",
              "      <td>0.119690</td>\n",
              "      <td>0.206395</td>\n",
              "      <td>0.070288</td>\n",
              "      <td>0</td>\n",
              "    </tr>\n",
              "    <tr>\n",
              "      <th>3</th>\n",
              "      <td>-0.535045</td>\n",
              "      <td>1.014587</td>\n",
              "      <td>1.750679</td>\n",
              "      <td>2.769390</td>\n",
              "      <td>0.500089</td>\n",
              "      <td>1.002270</td>\n",
              "      <td>0.847902</td>\n",
              "      <td>-0.081323</td>\n",
              "      <td>0.371579</td>\n",
              "      <td>0.560595</td>\n",
              "      <td>-0.855437</td>\n",
              "      <td>-4.179628</td>\n",
              "      <td>0.286872</td>\n",
              "      <td>1.271254</td>\n",
              "      <td>-1.011647</td>\n",
              "      <td>1.458600</td>\n",
              "      <td>-0.613260</td>\n",
              "      <td>0.814931</td>\n",
              "      <td>-2.147124</td>\n",
              "      <td>-0.253757</td>\n",
              "      <td>0.063525</td>\n",
              "      <td>0.443431</td>\n",
              "      <td>-0.072754</td>\n",
              "      <td>0.448192</td>\n",
              "      <td>-0.655203</td>\n",
              "      <td>-0.181038</td>\n",
              "      <td>-0.093013</td>\n",
              "      <td>-0.064931</td>\n",
              "      <td>0</td>\n",
              "    </tr>\n",
              "    <tr>\n",
              "      <th>4</th>\n",
              "      <td>-4.026938</td>\n",
              "      <td>1.897371</td>\n",
              "      <td>-0.429786</td>\n",
              "      <td>-0.029571</td>\n",
              "      <td>-0.855751</td>\n",
              "      <td>-0.480406</td>\n",
              "      <td>-0.435632</td>\n",
              "      <td>1.313760</td>\n",
              "      <td>0.536044</td>\n",
              "      <td>1.221746</td>\n",
              "      <td>0.472626</td>\n",
              "      <td>1.595929</td>\n",
              "      <td>0.777603</td>\n",
              "      <td>0.187685</td>\n",
              "      <td>-1.060579</td>\n",
              "      <td>0.143332</td>\n",
              "      <td>0.007803</td>\n",
              "      <td>-0.055817</td>\n",
              "      <td>0.712695</td>\n",
              "      <td>-0.012320</td>\n",
              "      <td>-0.480691</td>\n",
              "      <td>-0.230369</td>\n",
              "      <td>0.250717</td>\n",
              "      <td>0.066399</td>\n",
              "      <td>0.470787</td>\n",
              "      <td>0.245335</td>\n",
              "      <td>0.286904</td>\n",
              "      <td>-0.322672</td>\n",
              "      <td>0</td>\n",
              "    </tr>\n",
              "    <tr>\n",
              "      <th>...</th>\n",
              "      <td>...</td>\n",
              "      <td>...</td>\n",
              "      <td>...</td>\n",
              "      <td>...</td>\n",
              "      <td>...</td>\n",
              "      <td>...</td>\n",
              "      <td>...</td>\n",
              "      <td>...</td>\n",
              "      <td>...</td>\n",
              "      <td>...</td>\n",
              "      <td>...</td>\n",
              "      <td>...</td>\n",
              "      <td>...</td>\n",
              "      <td>...</td>\n",
              "      <td>...</td>\n",
              "      <td>...</td>\n",
              "      <td>...</td>\n",
              "      <td>...</td>\n",
              "      <td>...</td>\n",
              "      <td>...</td>\n",
              "      <td>...</td>\n",
              "      <td>...</td>\n",
              "      <td>...</td>\n",
              "      <td>...</td>\n",
              "      <td>...</td>\n",
              "      <td>...</td>\n",
              "      <td>...</td>\n",
              "      <td>...</td>\n",
              "      <td>...</td>\n",
              "    </tr>\n",
              "    <tr>\n",
              "      <th>227840</th>\n",
              "      <td>1.173488</td>\n",
              "      <td>0.100792</td>\n",
              "      <td>0.490512</td>\n",
              "      <td>0.461596</td>\n",
              "      <td>-0.296377</td>\n",
              "      <td>-0.213165</td>\n",
              "      <td>-0.165254</td>\n",
              "      <td>0.119221</td>\n",
              "      <td>-0.114199</td>\n",
              "      <td>0.079128</td>\n",
              "      <td>1.585195</td>\n",
              "      <td>0.777009</td>\n",
              "      <td>-0.476319</td>\n",
              "      <td>0.600937</td>\n",
              "      <td>0.658885</td>\n",
              "      <td>0.239566</td>\n",
              "      <td>-0.356782</td>\n",
              "      <td>-0.410923</td>\n",
              "      <td>-0.182494</td>\n",
              "      <td>-0.157534</td>\n",
              "      <td>-0.186027</td>\n",
              "      <td>-0.574283</td>\n",
              "      <td>0.161405</td>\n",
              "      <td>-0.006140</td>\n",
              "      <td>0.091444</td>\n",
              "      <td>0.109235</td>\n",
              "      <td>-0.020922</td>\n",
              "      <td>0.003967</td>\n",
              "      <td>0</td>\n",
              "    </tr>\n",
              "    <tr>\n",
              "      <th>227841</th>\n",
              "      <td>-0.775981</td>\n",
              "      <td>0.144023</td>\n",
              "      <td>-1.142399</td>\n",
              "      <td>-1.241113</td>\n",
              "      <td>1.940358</td>\n",
              "      <td>3.912076</td>\n",
              "      <td>-0.466107</td>\n",
              "      <td>1.360620</td>\n",
              "      <td>0.400697</td>\n",
              "      <td>-0.654029</td>\n",
              "      <td>-0.421422</td>\n",
              "      <td>0.346437</td>\n",
              "      <td>-0.041877</td>\n",
              "      <td>0.384625</td>\n",
              "      <td>0.785702</td>\n",
              "      <td>0.057999</td>\n",
              "      <td>-0.462528</td>\n",
              "      <td>-0.063197</td>\n",
              "      <td>0.094703</td>\n",
              "      <td>-0.295730</td>\n",
              "      <td>0.037078</td>\n",
              "      <td>-0.019575</td>\n",
              "      <td>0.241830</td>\n",
              "      <td>0.682820</td>\n",
              "      <td>-1.635109</td>\n",
              "      <td>-0.770941</td>\n",
              "      <td>0.066006</td>\n",
              "      <td>0.137056</td>\n",
              "      <td>0</td>\n",
              "    </tr>\n",
              "    <tr>\n",
              "      <th>227842</th>\n",
              "      <td>-0.146609</td>\n",
              "      <td>0.992946</td>\n",
              "      <td>1.524591</td>\n",
              "      <td>0.485774</td>\n",
              "      <td>0.349308</td>\n",
              "      <td>-0.815198</td>\n",
              "      <td>1.076640</td>\n",
              "      <td>-0.395316</td>\n",
              "      <td>-0.491303</td>\n",
              "      <td>-0.212753</td>\n",
              "      <td>-0.382362</td>\n",
              "      <td>0.022804</td>\n",
              "      <td>0.331641</td>\n",
              "      <td>-0.019493</td>\n",
              "      <td>0.690200</td>\n",
              "      <td>-0.144778</td>\n",
              "      <td>-0.539887</td>\n",
              "      <td>-0.068375</td>\n",
              "      <td>-0.229614</td>\n",
              "      <td>0.007155</td>\n",
              "      <td>0.052649</td>\n",
              "      <td>0.354089</td>\n",
              "      <td>-0.291198</td>\n",
              "      <td>0.402849</td>\n",
              "      <td>0.237383</td>\n",
              "      <td>-0.398467</td>\n",
              "      <td>-0.121139</td>\n",
              "      <td>-0.196195</td>\n",
              "      <td>0</td>\n",
              "    </tr>\n",
              "    <tr>\n",
              "      <th>227843</th>\n",
              "      <td>-2.948638</td>\n",
              "      <td>2.354849</td>\n",
              "      <td>-2.521201</td>\n",
              "      <td>-3.798905</td>\n",
              "      <td>1.866302</td>\n",
              "      <td>2.727695</td>\n",
              "      <td>-0.471769</td>\n",
              "      <td>2.217537</td>\n",
              "      <td>0.580199</td>\n",
              "      <td>-0.027572</td>\n",
              "      <td>-0.418939</td>\n",
              "      <td>0.570400</td>\n",
              "      <td>-0.294107</td>\n",
              "      <td>0.927786</td>\n",
              "      <td>-0.090065</td>\n",
              "      <td>0.426113</td>\n",
              "      <td>-0.396148</td>\n",
              "      <td>-0.946837</td>\n",
              "      <td>-1.143752</td>\n",
              "      <td>0.417396</td>\n",
              "      <td>-0.332759</td>\n",
              "      <td>-1.047514</td>\n",
              "      <td>0.143326</td>\n",
              "      <td>0.678869</td>\n",
              "      <td>0.319710</td>\n",
              "      <td>0.426309</td>\n",
              "      <td>0.496912</td>\n",
              "      <td>0.335822</td>\n",
              "      <td>0</td>\n",
              "    </tr>\n",
              "    <tr>\n",
              "      <th>227844</th>\n",
              "      <td>1.233174</td>\n",
              "      <td>-0.784851</td>\n",
              "      <td>0.386784</td>\n",
              "      <td>-0.698559</td>\n",
              "      <td>-1.034018</td>\n",
              "      <td>-0.637028</td>\n",
              "      <td>-0.502369</td>\n",
              "      <td>-0.188057</td>\n",
              "      <td>-0.749637</td>\n",
              "      <td>0.543016</td>\n",
              "      <td>-0.546288</td>\n",
              "      <td>-0.407529</td>\n",
              "      <td>0.903848</td>\n",
              "      <td>-0.346209</td>\n",
              "      <td>0.893667</td>\n",
              "      <td>1.447832</td>\n",
              "      <td>-0.040565</td>\n",
              "      <td>-1.314021</td>\n",
              "      <td>0.673568</td>\n",
              "      <td>0.337732</td>\n",
              "      <td>0.027634</td>\n",
              "      <td>-0.234522</td>\n",
              "      <td>-0.059544</td>\n",
              "      <td>-0.109073</td>\n",
              "      <td>0.290326</td>\n",
              "      <td>-0.393074</td>\n",
              "      <td>0.001217</td>\n",
              "      <td>0.038588</td>\n",
              "      <td>0</td>\n",
              "    </tr>\n",
              "  </tbody>\n",
              "</table>\n",
              "<p>227845 rows × 29 columns</p>\n",
              "</div>\n",
              "      <button class=\"colab-df-convert\" onclick=\"convertToInteractive('df-ad1c3f85-5ed2-4e1b-a318-7dd41e3962fc')\"\n",
              "              title=\"Convert this dataframe to an interactive table.\"\n",
              "              style=\"display:none;\">\n",
              "        \n",
              "  <svg xmlns=\"http://www.w3.org/2000/svg\" height=\"24px\"viewBox=\"0 0 24 24\"\n",
              "       width=\"24px\">\n",
              "    <path d=\"M0 0h24v24H0V0z\" fill=\"none\"/>\n",
              "    <path d=\"M18.56 5.44l.94 2.06.94-2.06 2.06-.94-2.06-.94-.94-2.06-.94 2.06-2.06.94zm-11 1L8.5 8.5l.94-2.06 2.06-.94-2.06-.94L8.5 2.5l-.94 2.06-2.06.94zm10 10l.94 2.06.94-2.06 2.06-.94-2.06-.94-.94-2.06-.94 2.06-2.06.94z\"/><path d=\"M17.41 7.96l-1.37-1.37c-.4-.4-.92-.59-1.43-.59-.52 0-1.04.2-1.43.59L10.3 9.45l-7.72 7.72c-.78.78-.78 2.05 0 2.83L4 21.41c.39.39.9.59 1.41.59.51 0 1.02-.2 1.41-.59l7.78-7.78 2.81-2.81c.8-.78.8-2.07 0-2.86zM5.41 20L4 18.59l7.72-7.72 1.47 1.35L5.41 20z\"/>\n",
              "  </svg>\n",
              "      </button>\n",
              "      \n",
              "  <style>\n",
              "    .colab-df-container {\n",
              "      display:flex;\n",
              "      flex-wrap:wrap;\n",
              "      gap: 12px;\n",
              "    }\n",
              "\n",
              "    .colab-df-convert {\n",
              "      background-color: #E8F0FE;\n",
              "      border: none;\n",
              "      border-radius: 50%;\n",
              "      cursor: pointer;\n",
              "      display: none;\n",
              "      fill: #1967D2;\n",
              "      height: 32px;\n",
              "      padding: 0 0 0 0;\n",
              "      width: 32px;\n",
              "    }\n",
              "\n",
              "    .colab-df-convert:hover {\n",
              "      background-color: #E2EBFA;\n",
              "      box-shadow: 0px 1px 2px rgba(60, 64, 67, 0.3), 0px 1px 3px 1px rgba(60, 64, 67, 0.15);\n",
              "      fill: #174EA6;\n",
              "    }\n",
              "\n",
              "    [theme=dark] .colab-df-convert {\n",
              "      background-color: #3B4455;\n",
              "      fill: #D2E3FC;\n",
              "    }\n",
              "\n",
              "    [theme=dark] .colab-df-convert:hover {\n",
              "      background-color: #434B5C;\n",
              "      box-shadow: 0px 1px 3px 1px rgba(0, 0, 0, 0.15);\n",
              "      filter: drop-shadow(0px 1px 2px rgba(0, 0, 0, 0.3));\n",
              "      fill: #FFFFFF;\n",
              "    }\n",
              "  </style>\n",
              "\n",
              "      <script>\n",
              "        const buttonEl =\n",
              "          document.querySelector('#df-ad1c3f85-5ed2-4e1b-a318-7dd41e3962fc button.colab-df-convert');\n",
              "        buttonEl.style.display =\n",
              "          google.colab.kernel.accessAllowed ? 'block' : 'none';\n",
              "\n",
              "        async function convertToInteractive(key) {\n",
              "          const element = document.querySelector('#df-ad1c3f85-5ed2-4e1b-a318-7dd41e3962fc');\n",
              "          const dataTable =\n",
              "            await google.colab.kernel.invokeFunction('convertToInteractive',\n",
              "                                                     [key], {});\n",
              "          if (!dataTable) return;\n",
              "\n",
              "          const docLinkHtml = 'Like what you see? Visit the ' +\n",
              "            '<a target=\"_blank\" href=https://colab.research.google.com/notebooks/data_table.ipynb>data table notebook</a>'\n",
              "            + ' to learn more about interactive tables.';\n",
              "          element.innerHTML = '';\n",
              "          dataTable['output_type'] = 'display_data';\n",
              "          await google.colab.output.renderOutput(dataTable, element);\n",
              "          const docLink = document.createElement('div');\n",
              "          docLink.innerHTML = docLinkHtml;\n",
              "          element.appendChild(docLink);\n",
              "        }\n",
              "      </script>\n",
              "    </div>\n",
              "  </div>\n",
              "  "
            ],
            "text/plain": [
              "              V1        V2        V3        V4        V5        V6        V7  \\\n",
              "0       1.955041 -0.380783 -0.315013  0.330155 -0.509374 -0.086197 -0.627978   \n",
              "1      -0.400975 -0.626943  1.555339 -2.017772 -0.107769  0.168310  0.017959   \n",
              "2       0.072509  0.820566 -0.561351 -0.709897  1.080399 -0.359429  0.787858   \n",
              "3      -0.535045  1.014587  1.750679  2.769390  0.500089  1.002270  0.847902   \n",
              "4      -4.026938  1.897371 -0.429786 -0.029571 -0.855751 -0.480406 -0.435632   \n",
              "...          ...       ...       ...       ...       ...       ...       ...   \n",
              "227840  1.173488  0.100792  0.490512  0.461596 -0.296377 -0.213165 -0.165254   \n",
              "227841 -0.775981  0.144023 -1.142399 -1.241113  1.940358  3.912076 -0.466107   \n",
              "227842 -0.146609  0.992946  1.524591  0.485774  0.349308 -0.815198  1.076640   \n",
              "227843 -2.948638  2.354849 -2.521201 -3.798905  1.866302  2.727695 -0.471769   \n",
              "227844  1.233174 -0.784851  0.386784 -0.698559 -1.034018 -0.637028 -0.502369   \n",
              "\n",
              "              V8        V9       V10       V11       V12       V13       V14  \\\n",
              "0       0.035994  1.054560 -0.030441  0.624996  1.691496  1.255790 -0.253266   \n",
              "1      -0.401619  0.040378  0.611115 -1.945070 -0.726597  1.060888 -1.193347   \n",
              "2       0.117276 -0.131275 -0.638222  0.521931 -0.072768 -1.008237 -0.640249   \n",
              "3      -0.081323  0.371579  0.560595 -0.855437 -4.179628  0.286872  1.271254   \n",
              "4       1.313760  0.536044  1.221746  0.472626  1.595929  0.777603  0.187685   \n",
              "...          ...       ...       ...       ...       ...       ...       ...   \n",
              "227840  0.119221 -0.114199  0.079128  1.585195  0.777009 -0.476319  0.600937   \n",
              "227841  1.360620  0.400697 -0.654029 -0.421422  0.346437 -0.041877  0.384625   \n",
              "227842 -0.395316 -0.491303 -0.212753 -0.382362  0.022804  0.331641 -0.019493   \n",
              "227843  2.217537  0.580199 -0.027572 -0.418939  0.570400 -0.294107  0.927786   \n",
              "227844 -0.188057 -0.749637  0.543016 -0.546288 -0.407529  0.903848 -0.346209   \n",
              "\n",
              "             V15       V16       V17       V18       V19       V20       V21  \\\n",
              "0      -0.331695  0.307252 -0.930844  0.651666  0.167987 -0.125390  0.238197   \n",
              "1       0.631053 -0.160123 -1.630444  2.106866 -1.692780 -0.470372 -0.153485   \n",
              "2      -0.801946  0.678131  0.044374  0.521919  0.198772  0.012227 -0.314638   \n",
              "3      -1.011647  1.458600 -0.613260  0.814931 -2.147124 -0.253757  0.063525   \n",
              "4      -1.060579  0.143332  0.007803 -0.055817  0.712695 -0.012320 -0.480691   \n",
              "...          ...       ...       ...       ...       ...       ...       ...   \n",
              "227840  0.658885  0.239566 -0.356782 -0.410923 -0.182494 -0.157534 -0.186027   \n",
              "227841  0.785702  0.057999 -0.462528 -0.063197  0.094703 -0.295730  0.037078   \n",
              "227842  0.690200 -0.144778 -0.539887 -0.068375 -0.229614  0.007155  0.052649   \n",
              "227843 -0.090065  0.426113 -0.396148 -0.946837 -1.143752  0.417396 -0.332759   \n",
              "227844  0.893667  1.447832 -0.040565 -1.314021  0.673568  0.337732  0.027634   \n",
              "\n",
              "             V22       V23       V24       V25       V26       V27       V28  \\\n",
              "0       0.968305  0.053208 -0.278602 -0.044999 -0.216780  0.045168 -0.047145   \n",
              "1       0.421703  0.113442 -1.004095 -1.176695  0.361924 -0.370469 -0.144792   \n",
              "2      -0.872959  0.083391  0.148178 -0.431459  0.119690  0.206395  0.070288   \n",
              "3       0.443431 -0.072754  0.448192 -0.655203 -0.181038 -0.093013 -0.064931   \n",
              "4      -0.230369  0.250717  0.066399  0.470787  0.245335  0.286904 -0.322672   \n",
              "...          ...       ...       ...       ...       ...       ...       ...   \n",
              "227840 -0.574283  0.161405 -0.006140  0.091444  0.109235 -0.020922  0.003967   \n",
              "227841 -0.019575  0.241830  0.682820 -1.635109 -0.770941  0.066006  0.137056   \n",
              "227842  0.354089 -0.291198  0.402849  0.237383 -0.398467 -0.121139 -0.196195   \n",
              "227843 -1.047514  0.143326  0.678869  0.319710  0.426309  0.496912  0.335822   \n",
              "227844 -0.234522 -0.059544 -0.109073  0.290326 -0.393074  0.001217  0.038588   \n",
              "\n",
              "       Class  \n",
              "0          0  \n",
              "1          0  \n",
              "2          0  \n",
              "3          0  \n",
              "4          0  \n",
              "...      ...  \n",
              "227840     0  \n",
              "227841     0  \n",
              "227842     0  \n",
              "227843     0  \n",
              "227844     0  \n",
              "\n",
              "[227845 rows x 29 columns]"
            ]
          },
          "execution_count": 5,
          "metadata": {},
          "output_type": "execute_result"
        }
      ],
      "source": [
        "train_set = pd.read_pickle(\"kaggle_creditcard_train.pkl\")\n",
        "train_set"
      ]
    },
    {
      "cell_type": "markdown",
      "metadata": {
        "id": "x76bSyOwJUot"
      },
      "source": [
        "# Exploratory data analysis\n",
        "- features = PCA\n",
        "- Y = Class"
      ]
    },
    {
      "cell_type": "code",
      "execution_count": null,
      "metadata": {
        "colab": {
          "base_uri": "https://localhost:8080/"
        },
        "id": "cT8ru6Rt3E0k",
        "outputId": "bccdefb4-0f46-4241-c79e-b5affddf4180"
      },
      "outputs": [
        {
          "name": "stdout",
          "output_type": "stream",
          "text": [
            "<class 'pandas.core.frame.DataFrame'>\n",
            "RangeIndex: 227845 entries, 0 to 227844\n",
            "Data columns (total 29 columns):\n",
            " #   Column  Non-Null Count   Dtype   \n",
            "---  ------  --------------   -----   \n",
            " 0   V1      227845 non-null  float64 \n",
            " 1   V2      227845 non-null  float64 \n",
            " 2   V3      227845 non-null  float64 \n",
            " 3   V4      227845 non-null  float64 \n",
            " 4   V5      227845 non-null  float64 \n",
            " 5   V6      227845 non-null  float64 \n",
            " 6   V7      227845 non-null  float64 \n",
            " 7   V8      227845 non-null  float64 \n",
            " 8   V9      227845 non-null  float64 \n",
            " 9   V10     227845 non-null  float64 \n",
            " 10  V11     227845 non-null  float64 \n",
            " 11  V12     227845 non-null  float64 \n",
            " 12  V13     227845 non-null  float64 \n",
            " 13  V14     227845 non-null  float64 \n",
            " 14  V15     227845 non-null  float64 \n",
            " 15  V16     227845 non-null  float64 \n",
            " 16  V17     227845 non-null  float64 \n",
            " 17  V18     227845 non-null  float64 \n",
            " 18  V19     227845 non-null  float64 \n",
            " 19  V20     227845 non-null  float64 \n",
            " 20  V21     227845 non-null  float64 \n",
            " 21  V22     227845 non-null  float64 \n",
            " 22  V23     227845 non-null  float64 \n",
            " 23  V24     227845 non-null  float64 \n",
            " 24  V25     227845 non-null  float64 \n",
            " 25  V26     227845 non-null  float64 \n",
            " 26  V27     227845 non-null  float64 \n",
            " 27  V28     227845 non-null  float64 \n",
            " 28  Class   227845 non-null  category\n",
            "dtypes: category(1), float64(28)\n",
            "memory usage: 48.9 MB\n"
          ]
        }
      ],
      "source": [
        "train_set.info()"
      ]
    },
    {
      "cell_type": "code",
      "execution_count": null,
      "metadata": {
        "colab": {
          "base_uri": "https://localhost:8080/",
          "height": 364
        },
        "id": "qKCFTIKvJUcl",
        "outputId": "0b8ab625-e453-4a8e-aa99-9eec11d6c69e"
      },
      "outputs": [
        {
          "data": {
            "text/html": [
              "\n",
              "  <div id=\"df-e6277d76-06be-4f9f-bf2c-8428ebd81e93\">\n",
              "    <div class=\"colab-df-container\">\n",
              "      <div>\n",
              "<style scoped>\n",
              "    .dataframe tbody tr th:only-of-type {\n",
              "        vertical-align: middle;\n",
              "    }\n",
              "\n",
              "    .dataframe tbody tr th {\n",
              "        vertical-align: top;\n",
              "    }\n",
              "\n",
              "    .dataframe thead th {\n",
              "        text-align: right;\n",
              "    }\n",
              "</style>\n",
              "<table border=\"1\" class=\"dataframe\">\n",
              "  <thead>\n",
              "    <tr style=\"text-align: right;\">\n",
              "      <th></th>\n",
              "      <th>V1</th>\n",
              "      <th>V2</th>\n",
              "      <th>V3</th>\n",
              "      <th>V4</th>\n",
              "      <th>V5</th>\n",
              "      <th>V6</th>\n",
              "      <th>V7</th>\n",
              "      <th>V8</th>\n",
              "      <th>V9</th>\n",
              "      <th>V10</th>\n",
              "      <th>V11</th>\n",
              "      <th>V12</th>\n",
              "      <th>V13</th>\n",
              "      <th>V14</th>\n",
              "      <th>V15</th>\n",
              "      <th>V16</th>\n",
              "      <th>V17</th>\n",
              "      <th>V18</th>\n",
              "      <th>V19</th>\n",
              "      <th>V20</th>\n",
              "      <th>V21</th>\n",
              "      <th>V22</th>\n",
              "      <th>V23</th>\n",
              "      <th>V24</th>\n",
              "      <th>V25</th>\n",
              "      <th>V26</th>\n",
              "      <th>V27</th>\n",
              "      <th>V28</th>\n",
              "    </tr>\n",
              "  </thead>\n",
              "  <tbody>\n",
              "    <tr>\n",
              "      <th>count</th>\n",
              "      <td>227845.000000</td>\n",
              "      <td>227845.000000</td>\n",
              "      <td>227845.000000</td>\n",
              "      <td>227845.000000</td>\n",
              "      <td>227845.000000</td>\n",
              "      <td>227845.000000</td>\n",
              "      <td>227845.000000</td>\n",
              "      <td>227845.000000</td>\n",
              "      <td>227845.000000</td>\n",
              "      <td>227845.000000</td>\n",
              "      <td>227845.000000</td>\n",
              "      <td>227845.000000</td>\n",
              "      <td>227845.000000</td>\n",
              "      <td>227845.000000</td>\n",
              "      <td>227845.000000</td>\n",
              "      <td>227845.000000</td>\n",
              "      <td>227845.000000</td>\n",
              "      <td>227845.000000</td>\n",
              "      <td>227845.000000</td>\n",
              "      <td>227845.000000</td>\n",
              "      <td>227845.000000</td>\n",
              "      <td>227845.000000</td>\n",
              "      <td>227845.000000</td>\n",
              "      <td>227845.000000</td>\n",
              "      <td>227845.000000</td>\n",
              "      <td>227845.000000</td>\n",
              "      <td>227845.000000</td>\n",
              "      <td>227845.000000</td>\n",
              "    </tr>\n",
              "    <tr>\n",
              "      <th>mean</th>\n",
              "      <td>0.000916</td>\n",
              "      <td>-0.000384</td>\n",
              "      <td>-0.000920</td>\n",
              "      <td>-0.001458</td>\n",
              "      <td>0.000997</td>\n",
              "      <td>-0.000613</td>\n",
              "      <td>0.001090</td>\n",
              "      <td>-0.000383</td>\n",
              "      <td>0.000961</td>\n",
              "      <td>-0.001250</td>\n",
              "      <td>0.000577</td>\n",
              "      <td>-0.001405</td>\n",
              "      <td>0.000066</td>\n",
              "      <td>0.000004</td>\n",
              "      <td>0.000023</td>\n",
              "      <td>0.000668</td>\n",
              "      <td>0.000616</td>\n",
              "      <td>-0.000344</td>\n",
              "      <td>0.000113</td>\n",
              "      <td>0.000398</td>\n",
              "      <td>0.000215</td>\n",
              "      <td>-0.001215</td>\n",
              "      <td>0.000175</td>\n",
              "      <td>-0.000217</td>\n",
              "      <td>-0.000979</td>\n",
              "      <td>-0.000192</td>\n",
              "      <td>-0.000032</td>\n",
              "      <td>0.000257</td>\n",
              "    </tr>\n",
              "    <tr>\n",
              "      <th>std</th>\n",
              "      <td>1.958337</td>\n",
              "      <td>1.656602</td>\n",
              "      <td>1.514545</td>\n",
              "      <td>1.415853</td>\n",
              "      <td>1.387667</td>\n",
              "      <td>1.336803</td>\n",
              "      <td>1.243493</td>\n",
              "      <td>1.188643</td>\n",
              "      <td>1.097553</td>\n",
              "      <td>1.086659</td>\n",
              "      <td>1.021130</td>\n",
              "      <td>1.001724</td>\n",
              "      <td>0.995426</td>\n",
              "      <td>0.959456</td>\n",
              "      <td>0.914004</td>\n",
              "      <td>0.877394</td>\n",
              "      <td>0.851612</td>\n",
              "      <td>0.838031</td>\n",
              "      <td>0.814306</td>\n",
              "      <td>0.774045</td>\n",
              "      <td>0.732617</td>\n",
              "      <td>0.725311</td>\n",
              "      <td>0.627103</td>\n",
              "      <td>0.605446</td>\n",
              "      <td>0.521764</td>\n",
              "      <td>0.482443</td>\n",
              "      <td>0.401821</td>\n",
              "      <td>0.329776</td>\n",
              "    </tr>\n",
              "    <tr>\n",
              "      <th>min</th>\n",
              "      <td>-56.407510</td>\n",
              "      <td>-72.715728</td>\n",
              "      <td>-48.325589</td>\n",
              "      <td>-5.683171</td>\n",
              "      <td>-113.743307</td>\n",
              "      <td>-26.160506</td>\n",
              "      <td>-43.557242</td>\n",
              "      <td>-73.216718</td>\n",
              "      <td>-13.320155</td>\n",
              "      <td>-24.588262</td>\n",
              "      <td>-4.797473</td>\n",
              "      <td>-18.683715</td>\n",
              "      <td>-5.791881</td>\n",
              "      <td>-19.214325</td>\n",
              "      <td>-4.391307</td>\n",
              "      <td>-14.129855</td>\n",
              "      <td>-25.162799</td>\n",
              "      <td>-9.498746</td>\n",
              "      <td>-7.213527</td>\n",
              "      <td>-54.497720</td>\n",
              "      <td>-34.830382</td>\n",
              "      <td>-10.933144</td>\n",
              "      <td>-44.807735</td>\n",
              "      <td>-2.836627</td>\n",
              "      <td>-10.295397</td>\n",
              "      <td>-2.604551</td>\n",
              "      <td>-9.895244</td>\n",
              "      <td>-15.430084</td>\n",
              "    </tr>\n",
              "    <tr>\n",
              "      <th>25%</th>\n",
              "      <td>-0.919918</td>\n",
              "      <td>-0.597971</td>\n",
              "      <td>-0.890786</td>\n",
              "      <td>-0.849270</td>\n",
              "      <td>-0.688802</td>\n",
              "      <td>-0.768573</td>\n",
              "      <td>-0.552156</td>\n",
              "      <td>-0.208431</td>\n",
              "      <td>-0.642386</td>\n",
              "      <td>-0.536120</td>\n",
              "      <td>-0.763311</td>\n",
              "      <td>-0.406727</td>\n",
              "      <td>-0.647707</td>\n",
              "      <td>-0.425856</td>\n",
              "      <td>-0.581592</td>\n",
              "      <td>-0.467322</td>\n",
              "      <td>-0.484129</td>\n",
              "      <td>-0.498850</td>\n",
              "      <td>-0.455756</td>\n",
              "      <td>-0.211969</td>\n",
              "      <td>-0.228730</td>\n",
              "      <td>-0.542809</td>\n",
              "      <td>-0.161296</td>\n",
              "      <td>-0.354887</td>\n",
              "      <td>-0.317835</td>\n",
              "      <td>-0.327476</td>\n",
              "      <td>-0.070960</td>\n",
              "      <td>-0.052980</td>\n",
              "    </tr>\n",
              "    <tr>\n",
              "      <th>50%</th>\n",
              "      <td>0.017978</td>\n",
              "      <td>0.066050</td>\n",
              "      <td>0.179041</td>\n",
              "      <td>-0.020959</td>\n",
              "      <td>-0.054711</td>\n",
              "      <td>-0.274846</td>\n",
              "      <td>0.041272</td>\n",
              "      <td>0.022233</td>\n",
              "      <td>-0.050414</td>\n",
              "      <td>-0.094026</td>\n",
              "      <td>-0.031764</td>\n",
              "      <td>0.139452</td>\n",
              "      <td>-0.014114</td>\n",
              "      <td>0.051191</td>\n",
              "      <td>0.048299</td>\n",
              "      <td>0.067910</td>\n",
              "      <td>-0.065443</td>\n",
              "      <td>-0.004699</td>\n",
              "      <td>0.004464</td>\n",
              "      <td>-0.062614</td>\n",
              "      <td>-0.029639</td>\n",
              "      <td>0.005491</td>\n",
              "      <td>-0.010595</td>\n",
              "      <td>0.040766</td>\n",
              "      <td>0.015101</td>\n",
              "      <td>-0.052011</td>\n",
              "      <td>0.001359</td>\n",
              "      <td>0.011366</td>\n",
              "    </tr>\n",
              "    <tr>\n",
              "      <th>75%</th>\n",
              "      <td>1.315548</td>\n",
              "      <td>0.803898</td>\n",
              "      <td>1.025399</td>\n",
              "      <td>0.741630</td>\n",
              "      <td>0.611173</td>\n",
              "      <td>0.396056</td>\n",
              "      <td>0.570639</td>\n",
              "      <td>0.327504</td>\n",
              "      <td>0.599040</td>\n",
              "      <td>0.450669</td>\n",
              "      <td>0.740126</td>\n",
              "      <td>0.617962</td>\n",
              "      <td>0.661502</td>\n",
              "      <td>0.494204</td>\n",
              "      <td>0.648036</td>\n",
              "      <td>0.523986</td>\n",
              "      <td>0.400649</td>\n",
              "      <td>0.500715</td>\n",
              "      <td>0.458395</td>\n",
              "      <td>0.133017</td>\n",
              "      <td>0.186080</td>\n",
              "      <td>0.527408</td>\n",
              "      <td>0.148202</td>\n",
              "      <td>0.439790</td>\n",
              "      <td>0.350453</td>\n",
              "      <td>0.240813</td>\n",
              "      <td>0.091400</td>\n",
              "      <td>0.078464</td>\n",
              "    </tr>\n",
              "    <tr>\n",
              "      <th>max</th>\n",
              "      <td>2.454930</td>\n",
              "      <td>22.057729</td>\n",
              "      <td>4.187811</td>\n",
              "      <td>16.875344</td>\n",
              "      <td>34.801666</td>\n",
              "      <td>73.301626</td>\n",
              "      <td>120.589494</td>\n",
              "      <td>20.007208</td>\n",
              "      <td>10.392889</td>\n",
              "      <td>15.245686</td>\n",
              "      <td>12.018913</td>\n",
              "      <td>7.848392</td>\n",
              "      <td>7.126883</td>\n",
              "      <td>10.526766</td>\n",
              "      <td>8.877742</td>\n",
              "      <td>17.315112</td>\n",
              "      <td>9.253526</td>\n",
              "      <td>5.041069</td>\n",
              "      <td>5.591971</td>\n",
              "      <td>39.420904</td>\n",
              "      <td>27.202839</td>\n",
              "      <td>10.503090</td>\n",
              "      <td>22.528412</td>\n",
              "      <td>4.584549</td>\n",
              "      <td>7.519589</td>\n",
              "      <td>3.517346</td>\n",
              "      <td>31.612198</td>\n",
              "      <td>33.847808</td>\n",
              "    </tr>\n",
              "  </tbody>\n",
              "</table>\n",
              "</div>\n",
              "      <button class=\"colab-df-convert\" onclick=\"convertToInteractive('df-e6277d76-06be-4f9f-bf2c-8428ebd81e93')\"\n",
              "              title=\"Convert this dataframe to an interactive table.\"\n",
              "              style=\"display:none;\">\n",
              "        \n",
              "  <svg xmlns=\"http://www.w3.org/2000/svg\" height=\"24px\"viewBox=\"0 0 24 24\"\n",
              "       width=\"24px\">\n",
              "    <path d=\"M0 0h24v24H0V0z\" fill=\"none\"/>\n",
              "    <path d=\"M18.56 5.44l.94 2.06.94-2.06 2.06-.94-2.06-.94-.94-2.06-.94 2.06-2.06.94zm-11 1L8.5 8.5l.94-2.06 2.06-.94-2.06-.94L8.5 2.5l-.94 2.06-2.06.94zm10 10l.94 2.06.94-2.06 2.06-.94-2.06-.94-.94-2.06-.94 2.06-2.06.94z\"/><path d=\"M17.41 7.96l-1.37-1.37c-.4-.4-.92-.59-1.43-.59-.52 0-1.04.2-1.43.59L10.3 9.45l-7.72 7.72c-.78.78-.78 2.05 0 2.83L4 21.41c.39.39.9.59 1.41.59.51 0 1.02-.2 1.41-.59l7.78-7.78 2.81-2.81c.8-.78.8-2.07 0-2.86zM5.41 20L4 18.59l7.72-7.72 1.47 1.35L5.41 20z\"/>\n",
              "  </svg>\n",
              "      </button>\n",
              "      \n",
              "  <style>\n",
              "    .colab-df-container {\n",
              "      display:flex;\n",
              "      flex-wrap:wrap;\n",
              "      gap: 12px;\n",
              "    }\n",
              "\n",
              "    .colab-df-convert {\n",
              "      background-color: #E8F0FE;\n",
              "      border: none;\n",
              "      border-radius: 50%;\n",
              "      cursor: pointer;\n",
              "      display: none;\n",
              "      fill: #1967D2;\n",
              "      height: 32px;\n",
              "      padding: 0 0 0 0;\n",
              "      width: 32px;\n",
              "    }\n",
              "\n",
              "    .colab-df-convert:hover {\n",
              "      background-color: #E2EBFA;\n",
              "      box-shadow: 0px 1px 2px rgba(60, 64, 67, 0.3), 0px 1px 3px 1px rgba(60, 64, 67, 0.15);\n",
              "      fill: #174EA6;\n",
              "    }\n",
              "\n",
              "    [theme=dark] .colab-df-convert {\n",
              "      background-color: #3B4455;\n",
              "      fill: #D2E3FC;\n",
              "    }\n",
              "\n",
              "    [theme=dark] .colab-df-convert:hover {\n",
              "      background-color: #434B5C;\n",
              "      box-shadow: 0px 1px 3px 1px rgba(0, 0, 0, 0.15);\n",
              "      filter: drop-shadow(0px 1px 2px rgba(0, 0, 0, 0.3));\n",
              "      fill: #FFFFFF;\n",
              "    }\n",
              "  </style>\n",
              "\n",
              "      <script>\n",
              "        const buttonEl =\n",
              "          document.querySelector('#df-e6277d76-06be-4f9f-bf2c-8428ebd81e93 button.colab-df-convert');\n",
              "        buttonEl.style.display =\n",
              "          google.colab.kernel.accessAllowed ? 'block' : 'none';\n",
              "\n",
              "        async function convertToInteractive(key) {\n",
              "          const element = document.querySelector('#df-e6277d76-06be-4f9f-bf2c-8428ebd81e93');\n",
              "          const dataTable =\n",
              "            await google.colab.kernel.invokeFunction('convertToInteractive',\n",
              "                                                     [key], {});\n",
              "          if (!dataTable) return;\n",
              "\n",
              "          const docLinkHtml = 'Like what you see? Visit the ' +\n",
              "            '<a target=\"_blank\" href=https://colab.research.google.com/notebooks/data_table.ipynb>data table notebook</a>'\n",
              "            + ' to learn more about interactive tables.';\n",
              "          element.innerHTML = '';\n",
              "          dataTable['output_type'] = 'display_data';\n",
              "          await google.colab.output.renderOutput(dataTable, element);\n",
              "          const docLink = document.createElement('div');\n",
              "          docLink.innerHTML = docLinkHtml;\n",
              "          element.appendChild(docLink);\n",
              "        }\n",
              "      </script>\n",
              "    </div>\n",
              "  </div>\n",
              "  "
            ],
            "text/plain": [
              "                  V1             V2             V3             V4  \\\n",
              "count  227845.000000  227845.000000  227845.000000  227845.000000   \n",
              "mean        0.000916      -0.000384      -0.000920      -0.001458   \n",
              "std         1.958337       1.656602       1.514545       1.415853   \n",
              "min       -56.407510     -72.715728     -48.325589      -5.683171   \n",
              "25%        -0.919918      -0.597971      -0.890786      -0.849270   \n",
              "50%         0.017978       0.066050       0.179041      -0.020959   \n",
              "75%         1.315548       0.803898       1.025399       0.741630   \n",
              "max         2.454930      22.057729       4.187811      16.875344   \n",
              "\n",
              "                  V5             V6             V7             V8  \\\n",
              "count  227845.000000  227845.000000  227845.000000  227845.000000   \n",
              "mean        0.000997      -0.000613       0.001090      -0.000383   \n",
              "std         1.387667       1.336803       1.243493       1.188643   \n",
              "min      -113.743307     -26.160506     -43.557242     -73.216718   \n",
              "25%        -0.688802      -0.768573      -0.552156      -0.208431   \n",
              "50%        -0.054711      -0.274846       0.041272       0.022233   \n",
              "75%         0.611173       0.396056       0.570639       0.327504   \n",
              "max        34.801666      73.301626     120.589494      20.007208   \n",
              "\n",
              "                  V9            V10            V11            V12  \\\n",
              "count  227845.000000  227845.000000  227845.000000  227845.000000   \n",
              "mean        0.000961      -0.001250       0.000577      -0.001405   \n",
              "std         1.097553       1.086659       1.021130       1.001724   \n",
              "min       -13.320155     -24.588262      -4.797473     -18.683715   \n",
              "25%        -0.642386      -0.536120      -0.763311      -0.406727   \n",
              "50%        -0.050414      -0.094026      -0.031764       0.139452   \n",
              "75%         0.599040       0.450669       0.740126       0.617962   \n",
              "max        10.392889      15.245686      12.018913       7.848392   \n",
              "\n",
              "                 V13            V14            V15            V16  \\\n",
              "count  227845.000000  227845.000000  227845.000000  227845.000000   \n",
              "mean        0.000066       0.000004       0.000023       0.000668   \n",
              "std         0.995426       0.959456       0.914004       0.877394   \n",
              "min        -5.791881     -19.214325      -4.391307     -14.129855   \n",
              "25%        -0.647707      -0.425856      -0.581592      -0.467322   \n",
              "50%        -0.014114       0.051191       0.048299       0.067910   \n",
              "75%         0.661502       0.494204       0.648036       0.523986   \n",
              "max         7.126883      10.526766       8.877742      17.315112   \n",
              "\n",
              "                 V17            V18            V19            V20  \\\n",
              "count  227845.000000  227845.000000  227845.000000  227845.000000   \n",
              "mean        0.000616      -0.000344       0.000113       0.000398   \n",
              "std         0.851612       0.838031       0.814306       0.774045   \n",
              "min       -25.162799      -9.498746      -7.213527     -54.497720   \n",
              "25%        -0.484129      -0.498850      -0.455756      -0.211969   \n",
              "50%        -0.065443      -0.004699       0.004464      -0.062614   \n",
              "75%         0.400649       0.500715       0.458395       0.133017   \n",
              "max         9.253526       5.041069       5.591971      39.420904   \n",
              "\n",
              "                 V21            V22            V23            V24  \\\n",
              "count  227845.000000  227845.000000  227845.000000  227845.000000   \n",
              "mean        0.000215      -0.001215       0.000175      -0.000217   \n",
              "std         0.732617       0.725311       0.627103       0.605446   \n",
              "min       -34.830382     -10.933144     -44.807735      -2.836627   \n",
              "25%        -0.228730      -0.542809      -0.161296      -0.354887   \n",
              "50%        -0.029639       0.005491      -0.010595       0.040766   \n",
              "75%         0.186080       0.527408       0.148202       0.439790   \n",
              "max        27.202839      10.503090      22.528412       4.584549   \n",
              "\n",
              "                 V25            V26            V27            V28  \n",
              "count  227845.000000  227845.000000  227845.000000  227845.000000  \n",
              "mean       -0.000979      -0.000192      -0.000032       0.000257  \n",
              "std         0.521764       0.482443       0.401821       0.329776  \n",
              "min       -10.295397      -2.604551      -9.895244     -15.430084  \n",
              "25%        -0.317835      -0.327476      -0.070960      -0.052980  \n",
              "50%         0.015101      -0.052011       0.001359       0.011366  \n",
              "75%         0.350453       0.240813       0.091400       0.078464  \n",
              "max         7.519589       3.517346      31.612198      33.847808  "
            ]
          },
          "execution_count": 6,
          "metadata": {},
          "output_type": "execute_result"
        }
      ],
      "source": [
        "train_set.describe()"
      ]
    },
    {
      "cell_type": "code",
      "execution_count": null,
      "metadata": {
        "colab": {
          "base_uri": "https://localhost:8080/"
        },
        "id": "5EDRaN5C8ioz",
        "outputId": "d3335c0b-f0e7-4f1c-e5eb-a6677bda43c1"
      },
      "outputs": [
        {
          "name": "stdout",
          "output_type": "stream",
          "text": [
            "number of numeric columns: 28\n"
          ]
        }
      ],
      "source": [
        "numeric_col = train_set.select_dtypes(include=np.number).columns.values.tolist()\n",
        "print(f\"number of numeric columns: {len(numeric_col)}\")"
      ]
    },
    {
      "cell_type": "code",
      "execution_count": null,
      "metadata": {
        "colab": {
          "base_uri": "https://localhost:8080/",
          "height": 598
        },
        "id": "uqMTX7yaHm-x",
        "outputId": "d98a45fe-0e0b-4911-ef9e-c533cb0d1689"
      },
      "outputs": [
        {
          "data": {
            "image/png": "[encoded data removed]",
            "text/plain": [
              "<Figure size 1440x720 with 30 Axes>"
            ]
          },
          "metadata": {},
          "output_type": "display_data"
        }
      ],
      "source": [
        "# plot distributions of each numeric column\n",
        "train_set.hist(bins=20, layout = (5, int(len(numeric_col) / 5) + 1), figsize= (20,10), xlabelsize=0)\n",
        "plt.show()"
      ]
    },
    {
      "cell_type": "markdown",
      "metadata": {
        "id": "ELtJUILIrUlA"
      },
      "source": [
        "## Class imbalance in y"
      ]
    },
    {
      "cell_type": "code",
      "execution_count": null,
      "metadata": {
        "colab": {
          "base_uri": "https://localhost:8080/"
        },
        "id": "S_m67pPbrYSy",
        "outputId": "09c0456d-df15-4dde-99c4-a215a592dae8"
      },
      "outputs": [
        {
          "data": {
            "text/plain": [
              "0    99.827075\n",
              "1     0.172925\n",
              "Name: Class, dtype: float64"
            ]
          },
          "execution_count": 15,
          "metadata": {},
          "output_type": "execute_result"
        }
      ],
      "source": [
        "# % of data in each class\n",
        "train_set.Class.value_counts(normalize=True)*100"
      ]
    },
    {
      "cell_type": "markdown",
      "metadata": {
        "id": "_fs0DzCUJirq"
      },
      "source": [
        "# Data preparation"
      ]
    },
    {
      "cell_type": "code",
      "execution_count": null,
      "metadata": {
        "id": "xzatIOuYvnbn"
      },
      "outputs": [],
      "source": [
        "# make a copy and split X and y\n",
        "X_train = train_set.drop(columns = [\"Class\", \"Amount\"]).reset_index(drop = True).copy(deep = True)\n",
        "# amount = train_set[\"Amount\"].values\n",
        "y_train = train_set[[\"Class\"]].values.reshape(-1,)"
      ]
    },
    {
      "cell_type": "code",
      "execution_count": null,
      "metadata": {
        "colab": {
          "base_uri": "https://localhost:8080/",
          "height": 488
        },
        "id": "IPS7bDnZxECz",
        "outputId": "02c3bd5e-ec4a-486b-f7b8-91b0ba1ac1d6"
      },
      "outputs": [
        {
          "data": {
            "text/html": [
              "\n",
              "  <div id=\"df-93cfe66d-63a8-4a45-a49d-e07b4e669549\">\n",
              "    <div class=\"colab-df-container\">\n",
              "      <div>\n",
              "<style scoped>\n",
              "    .dataframe tbody tr th:only-of-type {\n",
              "        vertical-align: middle;\n",
              "    }\n",
              "\n",
              "    .dataframe tbody tr th {\n",
              "        vertical-align: top;\n",
              "    }\n",
              "\n",
              "    .dataframe thead th {\n",
              "        text-align: right;\n",
              "    }\n",
              "</style>\n",
              "<table border=\"1\" class=\"dataframe\">\n",
              "  <thead>\n",
              "    <tr style=\"text-align: right;\">\n",
              "      <th></th>\n",
              "      <th>V1</th>\n",
              "      <th>V2</th>\n",
              "      <th>V3</th>\n",
              "      <th>V4</th>\n",
              "      <th>V5</th>\n",
              "      <th>V6</th>\n",
              "      <th>V7</th>\n",
              "      <th>V8</th>\n",
              "      <th>V9</th>\n",
              "      <th>V10</th>\n",
              "      <th>V11</th>\n",
              "      <th>V12</th>\n",
              "      <th>V13</th>\n",
              "      <th>V14</th>\n",
              "      <th>V15</th>\n",
              "      <th>V16</th>\n",
              "      <th>V17</th>\n",
              "      <th>V18</th>\n",
              "      <th>V19</th>\n",
              "      <th>V20</th>\n",
              "      <th>V21</th>\n",
              "      <th>V22</th>\n",
              "      <th>V23</th>\n",
              "      <th>V24</th>\n",
              "      <th>V25</th>\n",
              "      <th>V26</th>\n",
              "      <th>V27</th>\n",
              "      <th>V28</th>\n",
              "    </tr>\n",
              "  </thead>\n",
              "  <tbody>\n",
              "    <tr>\n",
              "      <th>0</th>\n",
              "      <td>1.955041</td>\n",
              "      <td>-0.380783</td>\n",
              "      <td>-0.315013</td>\n",
              "      <td>0.330155</td>\n",
              "      <td>-0.509374</td>\n",
              "      <td>-0.086197</td>\n",
              "      <td>-0.627978</td>\n",
              "      <td>0.035994</td>\n",
              "      <td>1.054560</td>\n",
              "      <td>-0.030441</td>\n",
              "      <td>0.624996</td>\n",
              "      <td>1.691496</td>\n",
              "      <td>1.255790</td>\n",
              "      <td>-0.253266</td>\n",
              "      <td>-0.331695</td>\n",
              "      <td>0.307252</td>\n",
              "      <td>-0.930844</td>\n",
              "      <td>0.651666</td>\n",
              "      <td>0.167987</td>\n",
              "      <td>-0.125390</td>\n",
              "      <td>0.238197</td>\n",
              "      <td>0.968305</td>\n",
              "      <td>0.053208</td>\n",
              "      <td>-0.278602</td>\n",
              "      <td>-0.044999</td>\n",
              "      <td>-0.216780</td>\n",
              "      <td>0.045168</td>\n",
              "      <td>-0.047145</td>\n",
              "    </tr>\n",
              "    <tr>\n",
              "      <th>1</th>\n",
              "      <td>-0.400975</td>\n",
              "      <td>-0.626943</td>\n",
              "      <td>1.555339</td>\n",
              "      <td>-2.017772</td>\n",
              "      <td>-0.107769</td>\n",
              "      <td>0.168310</td>\n",
              "      <td>0.017959</td>\n",
              "      <td>-0.401619</td>\n",
              "      <td>0.040378</td>\n",
              "      <td>0.611115</td>\n",
              "      <td>-1.945070</td>\n",
              "      <td>-0.726597</td>\n",
              "      <td>1.060888</td>\n",
              "      <td>-1.193347</td>\n",
              "      <td>0.631053</td>\n",
              "      <td>-0.160123</td>\n",
              "      <td>-1.630444</td>\n",
              "      <td>2.106866</td>\n",
              "      <td>-1.692780</td>\n",
              "      <td>-0.470372</td>\n",
              "      <td>-0.153485</td>\n",
              "      <td>0.421703</td>\n",
              "      <td>0.113442</td>\n",
              "      <td>-1.004095</td>\n",
              "      <td>-1.176695</td>\n",
              "      <td>0.361924</td>\n",
              "      <td>-0.370469</td>\n",
              "      <td>-0.144792</td>\n",
              "    </tr>\n",
              "    <tr>\n",
              "      <th>2</th>\n",
              "      <td>0.072509</td>\n",
              "      <td>0.820566</td>\n",
              "      <td>-0.561351</td>\n",
              "      <td>-0.709897</td>\n",
              "      <td>1.080399</td>\n",
              "      <td>-0.359429</td>\n",
              "      <td>0.787858</td>\n",
              "      <td>0.117276</td>\n",
              "      <td>-0.131275</td>\n",
              "      <td>-0.638222</td>\n",
              "      <td>0.521931</td>\n",
              "      <td>-0.072768</td>\n",
              "      <td>-1.008237</td>\n",
              "      <td>-0.640249</td>\n",
              "      <td>-0.801946</td>\n",
              "      <td>0.678131</td>\n",
              "      <td>0.044374</td>\n",
              "      <td>0.521919</td>\n",
              "      <td>0.198772</td>\n",
              "      <td>0.012227</td>\n",
              "      <td>-0.314638</td>\n",
              "      <td>-0.872959</td>\n",
              "      <td>0.083391</td>\n",
              "      <td>0.148178</td>\n",
              "      <td>-0.431459</td>\n",
              "      <td>0.119690</td>\n",
              "      <td>0.206395</td>\n",
              "      <td>0.070288</td>\n",
              "    </tr>\n",
              "    <tr>\n",
              "      <th>3</th>\n",
              "      <td>-0.535045</td>\n",
              "      <td>1.014587</td>\n",
              "      <td>1.750679</td>\n",
              "      <td>2.769390</td>\n",
              "      <td>0.500089</td>\n",
              "      <td>1.002270</td>\n",
              "      <td>0.847902</td>\n",
              "      <td>-0.081323</td>\n",
              "      <td>0.371579</td>\n",
              "      <td>0.560595</td>\n",
              "      <td>-0.855437</td>\n",
              "      <td>-4.179628</td>\n",
              "      <td>0.286872</td>\n",
              "      <td>1.271254</td>\n",
              "      <td>-1.011647</td>\n",
              "      <td>1.458600</td>\n",
              "      <td>-0.613260</td>\n",
              "      <td>0.814931</td>\n",
              "      <td>-2.147124</td>\n",
              "      <td>-0.253757</td>\n",
              "      <td>0.063525</td>\n",
              "      <td>0.443431</td>\n",
              "      <td>-0.072754</td>\n",
              "      <td>0.448192</td>\n",
              "      <td>-0.655203</td>\n",
              "      <td>-0.181038</td>\n",
              "      <td>-0.093013</td>\n",
              "      <td>-0.064931</td>\n",
              "    </tr>\n",
              "    <tr>\n",
              "      <th>4</th>\n",
              "      <td>-4.026938</td>\n",
              "      <td>1.897371</td>\n",
              "      <td>-0.429786</td>\n",
              "      <td>-0.029571</td>\n",
              "      <td>-0.855751</td>\n",
              "      <td>-0.480406</td>\n",
              "      <td>-0.435632</td>\n",
              "      <td>1.313760</td>\n",
              "      <td>0.536044</td>\n",
              "      <td>1.221746</td>\n",
              "      <td>0.472626</td>\n",
              "      <td>1.595929</td>\n",
              "      <td>0.777603</td>\n",
              "      <td>0.187685</td>\n",
              "      <td>-1.060579</td>\n",
              "      <td>0.143332</td>\n",
              "      <td>0.007803</td>\n",
              "      <td>-0.055817</td>\n",
              "      <td>0.712695</td>\n",
              "      <td>-0.012320</td>\n",
              "      <td>-0.480691</td>\n",
              "      <td>-0.230369</td>\n",
              "      <td>0.250717</td>\n",
              "      <td>0.066399</td>\n",
              "      <td>0.470787</td>\n",
              "      <td>0.245335</td>\n",
              "      <td>0.286904</td>\n",
              "      <td>-0.322672</td>\n",
              "    </tr>\n",
              "    <tr>\n",
              "      <th>...</th>\n",
              "      <td>...</td>\n",
              "      <td>...</td>\n",
              "      <td>...</td>\n",
              "      <td>...</td>\n",
              "      <td>...</td>\n",
              "      <td>...</td>\n",
              "      <td>...</td>\n",
              "      <td>...</td>\n",
              "      <td>...</td>\n",
              "      <td>...</td>\n",
              "      <td>...</td>\n",
              "      <td>...</td>\n",
              "      <td>...</td>\n",
              "      <td>...</td>\n",
              "      <td>...</td>\n",
              "      <td>...</td>\n",
              "      <td>...</td>\n",
              "      <td>...</td>\n",
              "      <td>...</td>\n",
              "      <td>...</td>\n",
              "      <td>...</td>\n",
              "      <td>...</td>\n",
              "      <td>...</td>\n",
              "      <td>...</td>\n",
              "      <td>...</td>\n",
              "      <td>...</td>\n",
              "      <td>...</td>\n",
              "      <td>...</td>\n",
              "    </tr>\n",
              "    <tr>\n",
              "      <th>227840</th>\n",
              "      <td>1.173488</td>\n",
              "      <td>0.100792</td>\n",
              "      <td>0.490512</td>\n",
              "      <td>0.461596</td>\n",
              "      <td>-0.296377</td>\n",
              "      <td>-0.213165</td>\n",
              "      <td>-0.165254</td>\n",
              "      <td>0.119221</td>\n",
              "      <td>-0.114199</td>\n",
              "      <td>0.079128</td>\n",
              "      <td>1.585195</td>\n",
              "      <td>0.777009</td>\n",
              "      <td>-0.476319</td>\n",
              "      <td>0.600937</td>\n",
              "      <td>0.658885</td>\n",
              "      <td>0.239566</td>\n",
              "      <td>-0.356782</td>\n",
              "      <td>-0.410923</td>\n",
              "      <td>-0.182494</td>\n",
              "      <td>-0.157534</td>\n",
              "      <td>-0.186027</td>\n",
              "      <td>-0.574283</td>\n",
              "      <td>0.161405</td>\n",
              "      <td>-0.006140</td>\n",
              "      <td>0.091444</td>\n",
              "      <td>0.109235</td>\n",
              "      <td>-0.020922</td>\n",
              "      <td>0.003967</td>\n",
              "    </tr>\n",
              "    <tr>\n",
              "      <th>227841</th>\n",
              "      <td>-0.775981</td>\n",
              "      <td>0.144023</td>\n",
              "      <td>-1.142399</td>\n",
              "      <td>-1.241113</td>\n",
              "      <td>1.940358</td>\n",
              "      <td>3.912076</td>\n",
              "      <td>-0.466107</td>\n",
              "      <td>1.360620</td>\n",
              "      <td>0.400697</td>\n",
              "      <td>-0.654029</td>\n",
              "      <td>-0.421422</td>\n",
              "      <td>0.346437</td>\n",
              "      <td>-0.041877</td>\n",
              "      <td>0.384625</td>\n",
              "      <td>0.785702</td>\n",
              "      <td>0.057999</td>\n",
              "      <td>-0.462528</td>\n",
              "      <td>-0.063197</td>\n",
              "      <td>0.094703</td>\n",
              "      <td>-0.295730</td>\n",
              "      <td>0.037078</td>\n",
              "      <td>-0.019575</td>\n",
              "      <td>0.241830</td>\n",
              "      <td>0.682820</td>\n",
              "      <td>-1.635109</td>\n",
              "      <td>-0.770941</td>\n",
              "      <td>0.066006</td>\n",
              "      <td>0.137056</td>\n",
              "    </tr>\n",
              "    <tr>\n",
              "      <th>227842</th>\n",
              "      <td>-0.146609</td>\n",
              "      <td>0.992946</td>\n",
              "      <td>1.524591</td>\n",
              "      <td>0.485774</td>\n",
              "      <td>0.349308</td>\n",
              "      <td>-0.815198</td>\n",
              "      <td>1.076640</td>\n",
              "      <td>-0.395316</td>\n",
              "      <td>-0.491303</td>\n",
              "      <td>-0.212753</td>\n",
              "      <td>-0.382362</td>\n",
              "      <td>0.022804</td>\n",
              "      <td>0.331641</td>\n",
              "      <td>-0.019493</td>\n",
              "      <td>0.690200</td>\n",
              "      <td>-0.144778</td>\n",
              "      <td>-0.539887</td>\n",
              "      <td>-0.068375</td>\n",
              "      <td>-0.229614</td>\n",
              "      <td>0.007155</td>\n",
              "      <td>0.052649</td>\n",
              "      <td>0.354089</td>\n",
              "      <td>-0.291198</td>\n",
              "      <td>0.402849</td>\n",
              "      <td>0.237383</td>\n",
              "      <td>-0.398467</td>\n",
              "      <td>-0.121139</td>\n",
              "      <td>-0.196195</td>\n",
              "    </tr>\n",
              "    <tr>\n",
              "      <th>227843</th>\n",
              "      <td>-2.948638</td>\n",
              "      <td>2.354849</td>\n",
              "      <td>-2.521201</td>\n",
              "      <td>-3.798905</td>\n",
              "      <td>1.866302</td>\n",
              "      <td>2.727695</td>\n",
              "      <td>-0.471769</td>\n",
              "      <td>2.217537</td>\n",
              "      <td>0.580199</td>\n",
              "      <td>-0.027572</td>\n",
              "      <td>-0.418939</td>\n",
              "      <td>0.570400</td>\n",
              "      <td>-0.294107</td>\n",
              "      <td>0.927786</td>\n",
              "      <td>-0.090065</td>\n",
              "      <td>0.426113</td>\n",
              "      <td>-0.396148</td>\n",
              "      <td>-0.946837</td>\n",
              "      <td>-1.143752</td>\n",
              "      <td>0.417396</td>\n",
              "      <td>-0.332759</td>\n",
              "      <td>-1.047514</td>\n",
              "      <td>0.143326</td>\n",
              "      <td>0.678869</td>\n",
              "      <td>0.319710</td>\n",
              "      <td>0.426309</td>\n",
              "      <td>0.496912</td>\n",
              "      <td>0.335822</td>\n",
              "    </tr>\n",
              "    <tr>\n",
              "      <th>227844</th>\n",
              "      <td>1.233174</td>\n",
              "      <td>-0.784851</td>\n",
              "      <td>0.386784</td>\n",
              "      <td>-0.698559</td>\n",
              "      <td>-1.034018</td>\n",
              "      <td>-0.637028</td>\n",
              "      <td>-0.502369</td>\n",
              "      <td>-0.188057</td>\n",
              "      <td>-0.749637</td>\n",
              "      <td>0.543016</td>\n",
              "      <td>-0.546288</td>\n",
              "      <td>-0.407529</td>\n",
              "      <td>0.903848</td>\n",
              "      <td>-0.346209</td>\n",
              "      <td>0.893667</td>\n",
              "      <td>1.447832</td>\n",
              "      <td>-0.040565</td>\n",
              "      <td>-1.314021</td>\n",
              "      <td>0.673568</td>\n",
              "      <td>0.337732</td>\n",
              "      <td>0.027634</td>\n",
              "      <td>-0.234522</td>\n",
              "      <td>-0.059544</td>\n",
              "      <td>-0.109073</td>\n",
              "      <td>0.290326</td>\n",
              "      <td>-0.393074</td>\n",
              "      <td>0.001217</td>\n",
              "      <td>0.038588</td>\n",
              "    </tr>\n",
              "  </tbody>\n",
              "</table>\n",
              "<p>227845 rows × 28 columns</p>\n",
              "</div>\n",
              "      <button class=\"colab-df-convert\" onclick=\"convertToInteractive('df-93cfe66d-63a8-4a45-a49d-e07b4e669549')\"\n",
              "              title=\"Convert this dataframe to an interactive table.\"\n",
              "              style=\"display:none;\">\n",
              "        \n",
              "  <svg xmlns=\"http://www.w3.org/2000/svg\" height=\"24px\"viewBox=\"0 0 24 24\"\n",
              "       width=\"24px\">\n",
              "    <path d=\"M0 0h24v24H0V0z\" fill=\"none\"/>\n",
              "    <path d=\"M18.56 5.44l.94 2.06.94-2.06 2.06-.94-2.06-.94-.94-2.06-.94 2.06-2.06.94zm-11 1L8.5 8.5l.94-2.06 2.06-.94-2.06-.94L8.5 2.5l-.94 2.06-2.06.94zm10 10l.94 2.06.94-2.06 2.06-.94-2.06-.94-.94-2.06-.94 2.06-2.06.94z\"/><path d=\"M17.41 7.96l-1.37-1.37c-.4-.4-.92-.59-1.43-.59-.52 0-1.04.2-1.43.59L10.3 9.45l-7.72 7.72c-.78.78-.78 2.05 0 2.83L4 21.41c.39.39.9.59 1.41.59.51 0 1.02-.2 1.41-.59l7.78-7.78 2.81-2.81c.8-.78.8-2.07 0-2.86zM5.41 20L4 18.59l7.72-7.72 1.47 1.35L5.41 20z\"/>\n",
              "  </svg>\n",
              "      </button>\n",
              "      \n",
              "  <style>\n",
              "    .colab-df-container {\n",
              "      display:flex;\n",
              "      flex-wrap:wrap;\n",
              "      gap: 12px;\n",
              "    }\n",
              "\n",
              "    .colab-df-convert {\n",
              "      background-color: #E8F0FE;\n",
              "      border: none;\n",
              "      border-radius: 50%;\n",
              "      cursor: pointer;\n",
              "      display: none;\n",
              "      fill: #1967D2;\n",
              "      height: 32px;\n",
              "      padding: 0 0 0 0;\n",
              "      width: 32px;\n",
              "    }\n",
              "\n",
              "    .colab-df-convert:hover {\n",
              "      background-color: #E2EBFA;\n",
              "      box-shadow: 0px 1px 2px rgba(60, 64, 67, 0.3), 0px 1px 3px 1px rgba(60, 64, 67, 0.15);\n",
              "      fill: #174EA6;\n",
              "    }\n",
              "\n",
              "    [theme=dark] .colab-df-convert {\n",
              "      background-color: #3B4455;\n",
              "      fill: #D2E3FC;\n",
              "    }\n",
              "\n",
              "    [theme=dark] .colab-df-convert:hover {\n",
              "      background-color: #434B5C;\n",
              "      box-shadow: 0px 1px 3px 1px rgba(0, 0, 0, 0.15);\n",
              "      filter: drop-shadow(0px 1px 2px rgba(0, 0, 0, 0.3));\n",
              "      fill: #FFFFFF;\n",
              "    }\n",
              "  </style>\n",
              "\n",
              "      <script>\n",
              "        const buttonEl =\n",
              "          document.querySelector('#df-93cfe66d-63a8-4a45-a49d-e07b4e669549 button.colab-df-convert');\n",
              "        buttonEl.style.display =\n",
              "          google.colab.kernel.accessAllowed ? 'block' : 'none';\n",
              "\n",
              "        async function convertToInteractive(key) {\n",
              "          const element = document.querySelector('#df-93cfe66d-63a8-4a45-a49d-e07b4e669549');\n",
              "          const dataTable =\n",
              "            await google.colab.kernel.invokeFunction('convertToInteractive',\n",
              "                                                     [key], {});\n",
              "          if (!dataTable) return;\n",
              "\n",
              "          const docLinkHtml = 'Like what you see? Visit the ' +\n",
              "            '<a target=\"_blank\" href=https://colab.research.google.com/notebooks/data_table.ipynb>data table notebook</a>'\n",
              "            + ' to learn more about interactive tables.';\n",
              "          element.innerHTML = '';\n",
              "          dataTable['output_type'] = 'display_data';\n",
              "          await google.colab.output.renderOutput(dataTable, element);\n",
              "          const docLink = document.createElement('div');\n",
              "          docLink.innerHTML = docLinkHtml;\n",
              "          element.appendChild(docLink);\n",
              "        }\n",
              "      </script>\n",
              "    </div>\n",
              "  </div>\n",
              "  "
            ],
            "text/plain": [
              "              V1        V2        V3        V4        V5        V6        V7  \\\n",
              "0       1.955041 -0.380783 -0.315013  0.330155 -0.509374 -0.086197 -0.627978   \n",
              "1      -0.400975 -0.626943  1.555339 -2.017772 -0.107769  0.168310  0.017959   \n",
              "2       0.072509  0.820566 -0.561351 -0.709897  1.080399 -0.359429  0.787858   \n",
              "3      -0.535045  1.014587  1.750679  2.769390  0.500089  1.002270  0.847902   \n",
              "4      -4.026938  1.897371 -0.429786 -0.029571 -0.855751 -0.480406 -0.435632   \n",
              "...          ...       ...       ...       ...       ...       ...       ...   \n",
              "227840  1.173488  0.100792  0.490512  0.461596 -0.296377 -0.213165 -0.165254   \n",
              "227841 -0.775981  0.144023 -1.142399 -1.241113  1.940358  3.912076 -0.466107   \n",
              "227842 -0.146609  0.992946  1.524591  0.485774  0.349308 -0.815198  1.076640   \n",
              "227843 -2.948638  2.354849 -2.521201 -3.798905  1.866302  2.727695 -0.471769   \n",
              "227844  1.233174 -0.784851  0.386784 -0.698559 -1.034018 -0.637028 -0.502369   \n",
              "\n",
              "              V8        V9       V10       V11       V12       V13       V14  \\\n",
              "0       0.035994  1.054560 -0.030441  0.624996  1.691496  1.255790 -0.253266   \n",
              "1      -0.401619  0.040378  0.611115 -1.945070 -0.726597  1.060888 -1.193347   \n",
              "2       0.117276 -0.131275 -0.638222  0.521931 -0.072768 -1.008237 -0.640249   \n",
              "3      -0.081323  0.371579  0.560595 -0.855437 -4.179628  0.286872  1.271254   \n",
              "4       1.313760  0.536044  1.221746  0.472626  1.595929  0.777603  0.187685   \n",
              "...          ...       ...       ...       ...       ...       ...       ...   \n",
              "227840  0.119221 -0.114199  0.079128  1.585195  0.777009 -0.476319  0.600937   \n",
              "227841  1.360620  0.400697 -0.654029 -0.421422  0.346437 -0.041877  0.384625   \n",
              "227842 -0.395316 -0.491303 -0.212753 -0.382362  0.022804  0.331641 -0.019493   \n",
              "227843  2.217537  0.580199 -0.027572 -0.418939  0.570400 -0.294107  0.927786   \n",
              "227844 -0.188057 -0.749637  0.543016 -0.546288 -0.407529  0.903848 -0.346209   \n",
              "\n",
              "             V15       V16       V17       V18       V19       V20       V21  \\\n",
              "0      -0.331695  0.307252 -0.930844  0.651666  0.167987 -0.125390  0.238197   \n",
              "1       0.631053 -0.160123 -1.630444  2.106866 -1.692780 -0.470372 -0.153485   \n",
              "2      -0.801946  0.678131  0.044374  0.521919  0.198772  0.012227 -0.314638   \n",
              "3      -1.011647  1.458600 -0.613260  0.814931 -2.147124 -0.253757  0.063525   \n",
              "4      -1.060579  0.143332  0.007803 -0.055817  0.712695 -0.012320 -0.480691   \n",
              "...          ...       ...       ...       ...       ...       ...       ...   \n",
              "227840  0.658885  0.239566 -0.356782 -0.410923 -0.182494 -0.157534 -0.186027   \n",
              "227841  0.785702  0.057999 -0.462528 -0.063197  0.094703 -0.295730  0.037078   \n",
              "227842  0.690200 -0.144778 -0.539887 -0.068375 -0.229614  0.007155  0.052649   \n",
              "227843 -0.090065  0.426113 -0.396148 -0.946837 -1.143752  0.417396 -0.332759   \n",
              "227844  0.893667  1.447832 -0.040565 -1.314021  0.673568  0.337732  0.027634   \n",
              "\n",
              "             V22       V23       V24       V25       V26       V27       V28  \n",
              "0       0.968305  0.053208 -0.278602 -0.044999 -0.216780  0.045168 -0.047145  \n",
              "1       0.421703  0.113442 -1.004095 -1.176695  0.361924 -0.370469 -0.144792  \n",
              "2      -0.872959  0.083391  0.148178 -0.431459  0.119690  0.206395  0.070288  \n",
              "3       0.443431 -0.072754  0.448192 -0.655203 -0.181038 -0.093013 -0.064931  \n",
              "4      -0.230369  0.250717  0.066399  0.470787  0.245335  0.286904 -0.322672  \n",
              "...          ...       ...       ...       ...       ...       ...       ...  \n",
              "227840 -0.574283  0.161405 -0.006140  0.091444  0.109235 -0.020922  0.003967  \n",
              "227841 -0.019575  0.241830  0.682820 -1.635109 -0.770941  0.066006  0.137056  \n",
              "227842  0.354089 -0.291198  0.402849  0.237383 -0.398467 -0.121139 -0.196195  \n",
              "227843 -1.047514  0.143326  0.678869  0.319710  0.426309  0.496912  0.335822  \n",
              "227844 -0.234522 -0.059544 -0.109073  0.290326 -0.393074  0.001217  0.038588  \n",
              "\n",
              "[227845 rows x 28 columns]"
            ]
          },
          "execution_count": 7,
          "metadata": {},
          "output_type": "execute_result"
        }
      ],
      "source": [
        "# X_train before data preparation\n",
        "X_train"
      ]
    },
    {
      "cell_type": "code",
      "execution_count": null,
      "metadata": {
        "colab": {
          "base_uri": "https://localhost:8080/"
        },
        "id": "bOoT312GxLJ0",
        "outputId": "b859e16c-f597-4bf9-9911-c4ba4ecf84c1"
      },
      "outputs": [
        {
          "data": {
            "text/plain": [
              "array([0, 0, 0, ..., 0, 0, 0])"
            ]
          },
          "execution_count": 7,
          "metadata": {},
          "output_type": "execute_result"
        }
      ],
      "source": [
        "# y_train before data preparation\n",
        "y_train"
      ]
    },
    {
      "cell_type": "markdown",
      "metadata": {
        "id": "5BS2aFnSsn0O"
      },
      "source": [
        "## Feature scaling - num_pipeline"
      ]
    },
    {
      "cell_type": "code",
      "execution_count": null,
      "metadata": {
        "id": "5-PGR66ehFR5"
      },
      "outputs": [],
      "source": [
        "# create customer transformer to suppress n_quantile <= n_samples warning\n",
        "class MyQuantileTransformer(BaseEstimator, TransformerMixin):\n",
        "  def __init__(self, output_distribution, random_state):\n",
        "    self.output_distribution = output_distribution\n",
        "    self.random_state = random_state\n",
        "  \n",
        "  def fit(self, X, y = None):\n",
        "    self.QuantileTransformer = QuantileTransformer(n_quantiles=min(1000, X.shape[0]), # set this to suppress warning due to small dataset\n",
        "                                                   output_distribution = self.output_distribution,\n",
        "                                                   random_state = self.random_state).fit(X)\n",
        "    return self\n",
        "  \n",
        "  def transform(self, X):\n",
        "    output = copy.deepcopy(X)\n",
        "    try:\n",
        "      self.output_names = X.columns\n",
        "    except AttributeError: \n",
        "      pass\n",
        "    output = self.QuantileTransformer.transform(output)\n",
        "    return output\n",
        "  \n",
        "  def get_feature_names_out(self, names = None):\n",
        "    try: \n",
        "      return self.output_names\n",
        "    except AttributeError:\n",
        "      pass\n",
        "\n",
        "# create customer transformer to pass as df instead of array\n",
        "class MyMinMaxScaler(BaseEstimator, TransformerMixin):\n",
        "  def __init__(self):\n",
        "    pass\n",
        "  \n",
        "  def fit(self, X, y = None):\n",
        "    self.MinMaxScaler_ = MinMaxScaler().fit(X)\n",
        "    return self\n",
        "  \n",
        "  def transform(self, X):\n",
        "    output = copy.deepcopy(X)\n",
        "    output = pd.DataFrame(self.MinMaxScaler_.transform(output),\n",
        "                          columns = X.columns)\n",
        "    self.output_names = X.columns\n",
        "    return output\n",
        "  \n",
        "  def get_feature_names_out(self, names = None):\n",
        "    return self.output_names"
      ]
    },
    {
      "cell_type": "code",
      "execution_count": null,
      "metadata": {
        "id": "VLqp69qumJ7D"
      },
      "outputs": [],
      "source": [
        "num_pipeline = make_pipeline(\n",
        "    \n",
        "    MyMinMaxScaler()\n",
        "    \n",
        "    # feature scaling + outlier removal by transforming features into quantiles\n",
        "      # some features have heavy tails, some look like normal so let's use transform them all to normal by quantile\n",
        "      # instead of taking log for every feature\n",
        "    # MyQuantileTransformer(output_distribution=\"uniform\", random_state=42)\n",
        ")"
      ]
    },
    {
      "cell_type": "code",
      "execution_count": null,
      "metadata": {
        "colab": {
          "base_uri": "https://localhost:8080/",
          "height": 488
        },
        "id": "fSKRAjDymidg",
        "outputId": "80bfa7cc-f86f-45d4-b4f5-b07c6f00cfb9"
      },
      "outputs": [
        {
          "data": {
            "text/html": [
              "\n",
              "  <div id=\"df-9775060f-91d0-457b-bfd4-950524a02198\">\n",
              "    <div class=\"colab-df-container\">\n",
              "      <div>\n",
              "<style scoped>\n",
              "    .dataframe tbody tr th:only-of-type {\n",
              "        vertical-align: middle;\n",
              "    }\n",
              "\n",
              "    .dataframe tbody tr th {\n",
              "        vertical-align: top;\n",
              "    }\n",
              "\n",
              "    .dataframe thead th {\n",
              "        text-align: right;\n",
              "    }\n",
              "</style>\n",
              "<table border=\"1\" class=\"dataframe\">\n",
              "  <thead>\n",
              "    <tr style=\"text-align: right;\">\n",
              "      <th></th>\n",
              "      <th>V1</th>\n",
              "      <th>V2</th>\n",
              "      <th>V3</th>\n",
              "      <th>V4</th>\n",
              "      <th>V5</th>\n",
              "      <th>V6</th>\n",
              "      <th>V7</th>\n",
              "      <th>V8</th>\n",
              "      <th>V9</th>\n",
              "      <th>V10</th>\n",
              "      <th>V11</th>\n",
              "      <th>V12</th>\n",
              "      <th>V13</th>\n",
              "      <th>V14</th>\n",
              "      <th>V15</th>\n",
              "      <th>V16</th>\n",
              "      <th>V17</th>\n",
              "      <th>V18</th>\n",
              "      <th>V19</th>\n",
              "      <th>V20</th>\n",
              "      <th>V21</th>\n",
              "      <th>V22</th>\n",
              "      <th>V23</th>\n",
              "      <th>V24</th>\n",
              "      <th>V25</th>\n",
              "      <th>V26</th>\n",
              "      <th>V27</th>\n",
              "      <th>V28</th>\n",
              "    </tr>\n",
              "  </thead>\n",
              "  <tbody>\n",
              "    <tr>\n",
              "      <th>0</th>\n",
              "      <td>0.991508</td>\n",
              "      <td>0.763241</td>\n",
              "      <td>0.914254</td>\n",
              "      <td>0.266566</td>\n",
              "      <td>0.762287</td>\n",
              "      <td>0.262153</td>\n",
              "      <td>0.261530</td>\n",
              "      <td>0.785772</td>\n",
              "      <td>0.606194</td>\n",
              "      <td>0.616505</td>\n",
              "      <td>0.322452</td>\n",
              "      <td>0.767945</td>\n",
              "      <td>0.545538</td>\n",
              "      <td>0.637537</td>\n",
              "      <td>0.305946</td>\n",
              "      <td>0.459123</td>\n",
              "      <td>0.704083</td>\n",
              "      <td>0.698111</td>\n",
              "      <td>0.576433</td>\n",
              "      <td>0.578930</td>\n",
              "      <td>0.565319</td>\n",
              "      <td>0.555202</td>\n",
              "      <td>0.666224</td>\n",
              "      <td>0.344693</td>\n",
              "      <td>0.575381</td>\n",
              "      <td>0.390038</td>\n",
              "      <td>0.239485</td>\n",
              "      <td>0.312167</td>\n",
              "    </tr>\n",
              "    <tr>\n",
              "      <th>1</th>\n",
              "      <td>0.951482</td>\n",
              "      <td>0.760643</td>\n",
              "      <td>0.949870</td>\n",
              "      <td>0.162484</td>\n",
              "      <td>0.764991</td>\n",
              "      <td>0.264712</td>\n",
              "      <td>0.265465</td>\n",
              "      <td>0.781077</td>\n",
              "      <td>0.563425</td>\n",
              "      <td>0.632611</td>\n",
              "      <td>0.169620</td>\n",
              "      <td>0.676807</td>\n",
              "      <td>0.530451</td>\n",
              "      <td>0.605929</td>\n",
              "      <td>0.378502</td>\n",
              "      <td>0.444260</td>\n",
              "      <td>0.683756</td>\n",
              "      <td>0.798195</td>\n",
              "      <td>0.431123</td>\n",
              "      <td>0.575257</td>\n",
              "      <td>0.559005</td>\n",
              "      <td>0.529703</td>\n",
              "      <td>0.667118</td>\n",
              "      <td>0.246933</td>\n",
              "      <td>0.511856</td>\n",
              "      <td>0.484568</td>\n",
              "      <td>0.229472</td>\n",
              "      <td>0.310186</td>\n",
              "    </tr>\n",
              "    <tr>\n",
              "      <th>2</th>\n",
              "      <td>0.959526</td>\n",
              "      <td>0.775917</td>\n",
              "      <td>0.909563</td>\n",
              "      <td>0.220461</td>\n",
              "      <td>0.772990</td>\n",
              "      <td>0.259406</td>\n",
              "      <td>0.270155</td>\n",
              "      <td>0.786643</td>\n",
              "      <td>0.556187</td>\n",
              "      <td>0.601247</td>\n",
              "      <td>0.316323</td>\n",
              "      <td>0.701450</td>\n",
              "      <td>0.370287</td>\n",
              "      <td>0.624526</td>\n",
              "      <td>0.270506</td>\n",
              "      <td>0.470918</td>\n",
              "      <td>0.732419</td>\n",
              "      <td>0.689188</td>\n",
              "      <td>0.578837</td>\n",
              "      <td>0.580396</td>\n",
              "      <td>0.556407</td>\n",
              "      <td>0.469307</td>\n",
              "      <td>0.666672</td>\n",
              "      <td>0.402201</td>\n",
              "      <td>0.553688</td>\n",
              "      <td>0.444999</td>\n",
              "      <td>0.243369</td>\n",
              "      <td>0.314550</td>\n",
              "    </tr>\n",
              "    <tr>\n",
              "      <th>3</th>\n",
              "      <td>0.949204</td>\n",
              "      <td>0.777964</td>\n",
              "      <td>0.953590</td>\n",
              "      <td>0.374695</td>\n",
              "      <td>0.769083</td>\n",
              "      <td>0.273097</td>\n",
              "      <td>0.270521</td>\n",
              "      <td>0.784513</td>\n",
              "      <td>0.577393</td>\n",
              "      <td>0.631342</td>\n",
              "      <td>0.234416</td>\n",
              "      <td>0.546662</td>\n",
              "      <td>0.470537</td>\n",
              "      <td>0.688797</td>\n",
              "      <td>0.254703</td>\n",
              "      <td>0.495738</td>\n",
              "      <td>0.713311</td>\n",
              "      <td>0.709340</td>\n",
              "      <td>0.395643</td>\n",
              "      <td>0.577563</td>\n",
              "      <td>0.562504</td>\n",
              "      <td>0.530717</td>\n",
              "      <td>0.664353</td>\n",
              "      <td>0.442628</td>\n",
              "      <td>0.541128</td>\n",
              "      <td>0.395876</td>\n",
              "      <td>0.236156</td>\n",
              "      <td>0.311806</td>\n",
              "    </tr>\n",
              "    <tr>\n",
              "      <th>4</th>\n",
              "      <td>0.889881</td>\n",
              "      <td>0.787278</td>\n",
              "      <td>0.912068</td>\n",
              "      <td>0.250619</td>\n",
              "      <td>0.759955</td>\n",
              "      <td>0.258190</td>\n",
              "      <td>0.262702</td>\n",
              "      <td>0.799478</td>\n",
              "      <td>0.584328</td>\n",
              "      <td>0.647940</td>\n",
              "      <td>0.313391</td>\n",
              "      <td>0.764344</td>\n",
              "      <td>0.508523</td>\n",
              "      <td>0.652364</td>\n",
              "      <td>0.251015</td>\n",
              "      <td>0.453910</td>\n",
              "      <td>0.731356</td>\n",
              "      <td>0.649453</td>\n",
              "      <td>0.618970</td>\n",
              "      <td>0.580134</td>\n",
              "      <td>0.553731</td>\n",
              "      <td>0.499284</td>\n",
              "      <td>0.669157</td>\n",
              "      <td>0.391181</td>\n",
              "      <td>0.604333</td>\n",
              "      <td>0.465523</td>\n",
              "      <td>0.245309</td>\n",
              "      <td>0.306576</td>\n",
              "    </tr>\n",
              "    <tr>\n",
              "      <th>...</th>\n",
              "      <td>...</td>\n",
              "      <td>...</td>\n",
              "      <td>...</td>\n",
              "      <td>...</td>\n",
              "      <td>...</td>\n",
              "      <td>...</td>\n",
              "      <td>...</td>\n",
              "      <td>...</td>\n",
              "      <td>...</td>\n",
              "      <td>...</td>\n",
              "      <td>...</td>\n",
              "      <td>...</td>\n",
              "      <td>...</td>\n",
              "      <td>...</td>\n",
              "      <td>...</td>\n",
              "      <td>...</td>\n",
              "      <td>...</td>\n",
              "      <td>...</td>\n",
              "      <td>...</td>\n",
              "      <td>...</td>\n",
              "      <td>...</td>\n",
              "      <td>...</td>\n",
              "      <td>...</td>\n",
              "      <td>...</td>\n",
              "      <td>...</td>\n",
              "      <td>...</td>\n",
              "      <td>...</td>\n",
              "      <td>...</td>\n",
              "    </tr>\n",
              "    <tr>\n",
              "      <th>227840</th>\n",
              "      <td>0.978230</td>\n",
              "      <td>0.768322</td>\n",
              "      <td>0.929593</td>\n",
              "      <td>0.272392</td>\n",
              "      <td>0.763721</td>\n",
              "      <td>0.260877</td>\n",
              "      <td>0.264349</td>\n",
              "      <td>0.786664</td>\n",
              "      <td>0.556907</td>\n",
              "      <td>0.619255</td>\n",
              "      <td>0.379551</td>\n",
              "      <td>0.733478</td>\n",
              "      <td>0.411461</td>\n",
              "      <td>0.666259</td>\n",
              "      <td>0.380599</td>\n",
              "      <td>0.456970</td>\n",
              "      <td>0.720763</td>\n",
              "      <td>0.625030</td>\n",
              "      <td>0.549064</td>\n",
              "      <td>0.578588</td>\n",
              "      <td>0.558481</td>\n",
              "      <td>0.483241</td>\n",
              "      <td>0.667831</td>\n",
              "      <td>0.381407</td>\n",
              "      <td>0.583040</td>\n",
              "      <td>0.443292</td>\n",
              "      <td>0.237893</td>\n",
              "      <td>0.313204</td>\n",
              "    </tr>\n",
              "    <tr>\n",
              "      <th>227841</th>\n",
              "      <td>0.945111</td>\n",
              "      <td>0.768778</td>\n",
              "      <td>0.898498</td>\n",
              "      <td>0.196913</td>\n",
              "      <td>0.778779</td>\n",
              "      <td>0.302352</td>\n",
              "      <td>0.262516</td>\n",
              "      <td>0.799981</td>\n",
              "      <td>0.578620</td>\n",
              "      <td>0.600850</td>\n",
              "      <td>0.260225</td>\n",
              "      <td>0.717250</td>\n",
              "      <td>0.445089</td>\n",
              "      <td>0.658986</td>\n",
              "      <td>0.390157</td>\n",
              "      <td>0.451196</td>\n",
              "      <td>0.717691</td>\n",
              "      <td>0.648946</td>\n",
              "      <td>0.570710</td>\n",
              "      <td>0.577117</td>\n",
              "      <td>0.562077</td>\n",
              "      <td>0.509118</td>\n",
              "      <td>0.669025</td>\n",
              "      <td>0.474244</td>\n",
              "      <td>0.486124</td>\n",
              "      <td>0.299517</td>\n",
              "      <td>0.239987</td>\n",
              "      <td>0.315905</td>\n",
              "    </tr>\n",
              "    <tr>\n",
              "      <th>227842</th>\n",
              "      <td>0.955803</td>\n",
              "      <td>0.777735</td>\n",
              "      <td>0.949285</td>\n",
              "      <td>0.273464</td>\n",
              "      <td>0.768068</td>\n",
              "      <td>0.254824</td>\n",
              "      <td>0.271915</td>\n",
              "      <td>0.781145</td>\n",
              "      <td>0.541004</td>\n",
              "      <td>0.611928</td>\n",
              "      <td>0.262548</td>\n",
              "      <td>0.705052</td>\n",
              "      <td>0.474002</td>\n",
              "      <td>0.645398</td>\n",
              "      <td>0.382959</td>\n",
              "      <td>0.444748</td>\n",
              "      <td>0.715443</td>\n",
              "      <td>0.648589</td>\n",
              "      <td>0.545384</td>\n",
              "      <td>0.580342</td>\n",
              "      <td>0.562328</td>\n",
              "      <td>0.526549</td>\n",
              "      <td>0.661109</td>\n",
              "      <td>0.436518</td>\n",
              "      <td>0.591231</td>\n",
              "      <td>0.360359</td>\n",
              "      <td>0.235478</td>\n",
              "      <td>0.309142</td>\n",
              "    </tr>\n",
              "    <tr>\n",
              "      <th>227843</th>\n",
              "      <td>0.908200</td>\n",
              "      <td>0.792106</td>\n",
              "      <td>0.872242</td>\n",
              "      <td>0.083528</td>\n",
              "      <td>0.778280</td>\n",
              "      <td>0.290444</td>\n",
              "      <td>0.262481</td>\n",
              "      <td>0.809173</td>\n",
              "      <td>0.586190</td>\n",
              "      <td>0.616577</td>\n",
              "      <td>0.260373</td>\n",
              "      <td>0.725691</td>\n",
              "      <td>0.425565</td>\n",
              "      <td>0.677249</td>\n",
              "      <td>0.324156</td>\n",
              "      <td>0.462903</td>\n",
              "      <td>0.719619</td>\n",
              "      <td>0.588172</td>\n",
              "      <td>0.473998</td>\n",
              "      <td>0.584710</td>\n",
              "      <td>0.556115</td>\n",
              "      <td>0.461164</td>\n",
              "      <td>0.667562</td>\n",
              "      <td>0.473711</td>\n",
              "      <td>0.595853</td>\n",
              "      <td>0.495085</td>\n",
              "      <td>0.250369</td>\n",
              "      <td>0.319939</td>\n",
              "    </tr>\n",
              "    <tr>\n",
              "      <th>227844</th>\n",
              "      <td>0.979244</td>\n",
              "      <td>0.758977</td>\n",
              "      <td>0.927618</td>\n",
              "      <td>0.220964</td>\n",
              "      <td>0.758755</td>\n",
              "      <td>0.256615</td>\n",
              "      <td>0.262295</td>\n",
              "      <td>0.783368</td>\n",
              "      <td>0.530110</td>\n",
              "      <td>0.630901</td>\n",
              "      <td>0.252800</td>\n",
              "      <td>0.688833</td>\n",
              "      <td>0.518295</td>\n",
              "      <td>0.634412</td>\n",
              "      <td>0.398293</td>\n",
              "      <td>0.495395</td>\n",
              "      <td>0.729951</td>\n",
              "      <td>0.562918</td>\n",
              "      <td>0.615915</td>\n",
              "      <td>0.583861</td>\n",
              "      <td>0.561925</td>\n",
              "      <td>0.499091</td>\n",
              "      <td>0.664549</td>\n",
              "      <td>0.367537</td>\n",
              "      <td>0.594203</td>\n",
              "      <td>0.361240</td>\n",
              "      <td>0.238426</td>\n",
              "      <td>0.313907</td>\n",
              "    </tr>\n",
              "  </tbody>\n",
              "</table>\n",
              "<p>227845 rows × 28 columns</p>\n",
              "</div>\n",
              "      <button class=\"colab-df-convert\" onclick=\"convertToInteractive('df-9775060f-91d0-457b-bfd4-950524a02198')\"\n",
              "              title=\"Convert this dataframe to an interactive table.\"\n",
              "              style=\"display:none;\">\n",
              "        \n",
              "  <svg xmlns=\"http://www.w3.org/2000/svg\" height=\"24px\"viewBox=\"0 0 24 24\"\n",
              "       width=\"24px\">\n",
              "    <path d=\"M0 0h24v24H0V0z\" fill=\"none\"/>\n",
              "    <path d=\"M18.56 5.44l.94 2.06.94-2.06 2.06-.94-2.06-.94-.94-2.06-.94 2.06-2.06.94zm-11 1L8.5 8.5l.94-2.06 2.06-.94-2.06-.94L8.5 2.5l-.94 2.06-2.06.94zm10 10l.94 2.06.94-2.06 2.06-.94-2.06-.94-.94-2.06-.94 2.06-2.06.94z\"/><path d=\"M17.41 7.96l-1.37-1.37c-.4-.4-.92-.59-1.43-.59-.52 0-1.04.2-1.43.59L10.3 9.45l-7.72 7.72c-.78.78-.78 2.05 0 2.83L4 21.41c.39.39.9.59 1.41.59.51 0 1.02-.2 1.41-.59l7.78-7.78 2.81-2.81c.8-.78.8-2.07 0-2.86zM5.41 20L4 18.59l7.72-7.72 1.47 1.35L5.41 20z\"/>\n",
              "  </svg>\n",
              "      </button>\n",
              "      \n",
              "  <style>\n",
              "    .colab-df-container {\n",
              "      display:flex;\n",
              "      flex-wrap:wrap;\n",
              "      gap: 12px;\n",
              "    }\n",
              "\n",
              "    .colab-df-convert {\n",
              "      background-color: #E8F0FE;\n",
              "      border: none;\n",
              "      border-radius: 50%;\n",
              "      cursor: pointer;\n",
              "      display: none;\n",
              "      fill: #1967D2;\n",
              "      height: 32px;\n",
              "      padding: 0 0 0 0;\n",
              "      width: 32px;\n",
              "    }\n",
              "\n",
              "    .colab-df-convert:hover {\n",
              "      background-color: #E2EBFA;\n",
              "      box-shadow: 0px 1px 2px rgba(60, 64, 67, 0.3), 0px 1px 3px 1px rgba(60, 64, 67, 0.15);\n",
              "      fill: #174EA6;\n",
              "    }\n",
              "\n",
              "    [theme=dark] .colab-df-convert {\n",
              "      background-color: #3B4455;\n",
              "      fill: #D2E3FC;\n",
              "    }\n",
              "\n",
              "    [theme=dark] .colab-df-convert:hover {\n",
              "      background-color: #434B5C;\n",
              "      box-shadow: 0px 1px 3px 1px rgba(0, 0, 0, 0.15);\n",
              "      filter: drop-shadow(0px 1px 2px rgba(0, 0, 0, 0.3));\n",
              "      fill: #FFFFFF;\n",
              "    }\n",
              "  </style>\n",
              "\n",
              "      <script>\n",
              "        const buttonEl =\n",
              "          document.querySelector('#df-9775060f-91d0-457b-bfd4-950524a02198 button.colab-df-convert');\n",
              "        buttonEl.style.display =\n",
              "          google.colab.kernel.accessAllowed ? 'block' : 'none';\n",
              "\n",
              "        async function convertToInteractive(key) {\n",
              "          const element = document.querySelector('#df-9775060f-91d0-457b-bfd4-950524a02198');\n",
              "          const dataTable =\n",
              "            await google.colab.kernel.invokeFunction('convertToInteractive',\n",
              "                                                     [key], {});\n",
              "          if (!dataTable) return;\n",
              "\n",
              "          const docLinkHtml = 'Like what you see? Visit the ' +\n",
              "            '<a target=\"_blank\" href=https://colab.research.google.com/notebooks/data_table.ipynb>data table notebook</a>'\n",
              "            + ' to learn more about interactive tables.';\n",
              "          element.innerHTML = '';\n",
              "          dataTable['output_type'] = 'display_data';\n",
              "          await google.colab.output.renderOutput(dataTable, element);\n",
              "          const docLink = document.createElement('div');\n",
              "          docLink.innerHTML = docLinkHtml;\n",
              "          element.appendChild(docLink);\n",
              "        }\n",
              "      </script>\n",
              "    </div>\n",
              "  </div>\n",
              "  "
            ],
            "text/plain": [
              "              V1        V2        V3        V4        V5        V6        V7  \\\n",
              "0       0.991508  0.763241  0.914254  0.266566  0.762287  0.262153  0.261530   \n",
              "1       0.951482  0.760643  0.949870  0.162484  0.764991  0.264712  0.265465   \n",
              "2       0.959526  0.775917  0.909563  0.220461  0.772990  0.259406  0.270155   \n",
              "3       0.949204  0.777964  0.953590  0.374695  0.769083  0.273097  0.270521   \n",
              "4       0.889881  0.787278  0.912068  0.250619  0.759955  0.258190  0.262702   \n",
              "...          ...       ...       ...       ...       ...       ...       ...   \n",
              "227840  0.978230  0.768322  0.929593  0.272392  0.763721  0.260877  0.264349   \n",
              "227841  0.945111  0.768778  0.898498  0.196913  0.778779  0.302352  0.262516   \n",
              "227842  0.955803  0.777735  0.949285  0.273464  0.768068  0.254824  0.271915   \n",
              "227843  0.908200  0.792106  0.872242  0.083528  0.778280  0.290444  0.262481   \n",
              "227844  0.979244  0.758977  0.927618  0.220964  0.758755  0.256615  0.262295   \n",
              "\n",
              "              V8        V9       V10       V11       V12       V13       V14  \\\n",
              "0       0.785772  0.606194  0.616505  0.322452  0.767945  0.545538  0.637537   \n",
              "1       0.781077  0.563425  0.632611  0.169620  0.676807  0.530451  0.605929   \n",
              "2       0.786643  0.556187  0.601247  0.316323  0.701450  0.370287  0.624526   \n",
              "3       0.784513  0.577393  0.631342  0.234416  0.546662  0.470537  0.688797   \n",
              "4       0.799478  0.584328  0.647940  0.313391  0.764344  0.508523  0.652364   \n",
              "...          ...       ...       ...       ...       ...       ...       ...   \n",
              "227840  0.786664  0.556907  0.619255  0.379551  0.733478  0.411461  0.666259   \n",
              "227841  0.799981  0.578620  0.600850  0.260225  0.717250  0.445089  0.658986   \n",
              "227842  0.781145  0.541004  0.611928  0.262548  0.705052  0.474002  0.645398   \n",
              "227843  0.809173  0.586190  0.616577  0.260373  0.725691  0.425565  0.677249   \n",
              "227844  0.783368  0.530110  0.630901  0.252800  0.688833  0.518295  0.634412   \n",
              "\n",
              "             V15       V16       V17       V18       V19       V20       V21  \\\n",
              "0       0.305946  0.459123  0.704083  0.698111  0.576433  0.578930  0.565319   \n",
              "1       0.378502  0.444260  0.683756  0.798195  0.431123  0.575257  0.559005   \n",
              "2       0.270506  0.470918  0.732419  0.689188  0.578837  0.580396  0.556407   \n",
              "3       0.254703  0.495738  0.713311  0.709340  0.395643  0.577563  0.562504   \n",
              "4       0.251015  0.453910  0.731356  0.649453  0.618970  0.580134  0.553731   \n",
              "...          ...       ...       ...       ...       ...       ...       ...   \n",
              "227840  0.380599  0.456970  0.720763  0.625030  0.549064  0.578588  0.558481   \n",
              "227841  0.390157  0.451196  0.717691  0.648946  0.570710  0.577117  0.562077   \n",
              "227842  0.382959  0.444748  0.715443  0.648589  0.545384  0.580342  0.562328   \n",
              "227843  0.324156  0.462903  0.719619  0.588172  0.473998  0.584710  0.556115   \n",
              "227844  0.398293  0.495395  0.729951  0.562918  0.615915  0.583861  0.561925   \n",
              "\n",
              "             V22       V23       V24       V25       V26       V27       V28  \n",
              "0       0.555202  0.666224  0.344693  0.575381  0.390038  0.239485  0.312167  \n",
              "1       0.529703  0.667118  0.246933  0.511856  0.484568  0.229472  0.310186  \n",
              "2       0.469307  0.666672  0.402201  0.553688  0.444999  0.243369  0.314550  \n",
              "3       0.530717  0.664353  0.442628  0.541128  0.395876  0.236156  0.311806  \n",
              "4       0.499284  0.669157  0.391181  0.604333  0.465523  0.245309  0.306576  \n",
              "...          ...       ...       ...       ...       ...       ...       ...  \n",
              "227840  0.483241  0.667831  0.381407  0.583040  0.443292  0.237893  0.313204  \n",
              "227841  0.509118  0.669025  0.474244  0.486124  0.299517  0.239987  0.315905  \n",
              "227842  0.526549  0.661109  0.436518  0.591231  0.360359  0.235478  0.309142  \n",
              "227843  0.461164  0.667562  0.473711  0.595853  0.495085  0.250369  0.319939  \n",
              "227844  0.499091  0.664549  0.367537  0.594203  0.361240  0.238426  0.313907  \n",
              "\n",
              "[227845 rows x 28 columns]"
            ]
          },
          "execution_count": 11,
          "metadata": {},
          "output_type": "execute_result"
        }
      ],
      "source": [
        "# to be applied to only numeric columns\n",
        "num_clean = pd.DataFrame(num_pipeline.fit_transform(X_train.select_dtypes(include=np.number)),\n",
        "                         columns = num_pipeline.get_feature_names_out())\n",
        "num_clean"
      ]
    },
    {
      "cell_type": "markdown",
      "metadata": {
        "id": "0xwp-txyf7cG"
      },
      "source": [
        "## *Custom transformer - Clustering with MiniBatchKMeans\n",
        "- After feature scaling\n",
        "- Use silhouette score to measure performance of clustering\n",
        "- Perform soft clustering with KMeans to differentiate clusters"
      ]
    },
    {
      "cell_type": "code",
      "execution_count": null,
      "metadata": {
        "id": "2KEqB2TX4en8"
      },
      "outputs": [],
      "source": [
        "# from sklearn.cluster import MiniBatchKMeans"
      ]
    },
    {
      "cell_type": "code",
      "execution_count": null,
      "metadata": {
        "id": "nDZK9w6kgOVm"
      },
      "outputs": [],
      "source": [
        "# # create a custom transformer to cluster X_trains\n",
        "# class ClusterDistance(BaseEstimator, TransformerMixin):\n",
        "#   def __init__(self, n_clusters = 3, random_state = None, best_silh = False):\n",
        "#     self.n_clusters = n_clusters\n",
        "#     self.random_state = random_state\n",
        "#     self.best_silh = best_silh\n",
        "  \n",
        "#   def fit(self, X, y = None, sample_weight = None, plot_silh = False):\n",
        "#     self.feature_names_in_ = X.columns.values\n",
        "#     self.index_names = X.sort_index().index.values\n",
        "    \n",
        "#     # find best k number of clusters based on silhouette score\n",
        "#     if self.best_silh:\n",
        "#       # test performance with silhouette score (distance from one's center and from other centers) from 2 to 10 clusters\n",
        "#       # don't consider tuning k as hyperparameter because silhouette score is more intuitive\n",
        "#       # e.g. clustering based on records from 1996 to 2022 (full range) vs clustering based on records from 2010 to 2022 (1st fold)\n",
        "#       k_range = np.arange(2,11,1)\n",
        "#       silh_scores = []\n",
        "#       for k in range(2,11):\n",
        "#         self.n_clusters = k\n",
        "#         self.minibatchkmeans_ = MiniBatchKMeans(n_clusters = self.n_clusters, random_state=self.random_state)\n",
        "#         self.minibatchkmeans_.fit(X)\n",
        "#         silh_scores.append(silhouette_score(X, self.minibatchkmeans_.labels_))\n",
        "      \n",
        "#       max_k = k_range[np.argmax(silh_scores)]\n",
        "#       max_silh = max(silh_scores)\n",
        "#       self.n_clusters = max_k    \n",
        "\n",
        "#       # plot silhouette scores for 2 - 10 clusters\n",
        "#       if plot_silh:\n",
        "#         plt.plot(k_range, silh_scores)\n",
        "#         plt.xlabel(\"Number of clusters\")\n",
        "#         plt.ylabel(\"Silhouette score\")\n",
        "#         plt.title(f\"optimal no. of cluster = {max_k}, silhouette score = {max_silh:0.4f}\")\n",
        "#         plt.show()\n",
        "    \n",
        "#     self.minibatchkmeans_ = MiniBatchKMeans(n_clusters = self.n_clusters, random_state=self.random_state)\n",
        "#     self.minibatchkmeans_.fit(X)\n",
        "#     return self\n",
        "  \n",
        "#   def transform(self, X):\n",
        "#     # Soft Clustering: each column = distance to cluster i\n",
        "#     X_clusterdist = pd.DataFrame(self.minibatchkmeans_.transform(X),\n",
        "#                                  columns=[f\"cluster_{i}\" for i in range(self.n_clusters)])\n",
        "#     # Scaling: Quantile transform the cluster distances like other numerical columns\n",
        "#     # X_clusterdist = pd.DataFrame(MyQuantileTransformer(output_distribution=\"uniform\", random_state=42).fit_transform(X_clusterdist),\n",
        "#     #                              columns=[f\"cluster_{i}\" for i in range(self.n_clusters)])\n",
        "#     # Scaling: MinMaxScale transform the cluster distances like other numerical columns\n",
        "#     X_clusterdist = pd.DataFrame(MyMinMaxScaler().fit_transform(X_clusterdist),\n",
        "#                                  columns=[f\"cluster_{i}\" for i in range(self.n_clusters)])\n",
        "#     # merge with numerical columns to return\n",
        "#     output = pd.concat([X, X_clusterdist], axis=1)\n",
        "#     self.output_features = output.columns.values\n",
        "#     return output\n",
        "  \n",
        "#   def get_feature_names_out(self, names = None):\n",
        "#     return self.output_features"
      ]
    },
    {
      "cell_type": "code",
      "execution_count": null,
      "metadata": {
        "id": "AVQPYAAhsSZs"
      },
      "outputs": [],
      "source": [
        "# fit_similarity = ClusterDistance(random_state=42, best_silh=True).fit(num_clean, plot_silh=True)\n",
        "# X_train_prepared = pd.DataFrame(fit_similarity.transform(num_clean),\n",
        "#                                 columns = fit_similarity.get_feature_names_out())\n",
        "# X_train_prepared"
      ]
    },
    {
      "cell_type": "code",
      "execution_count": null,
      "metadata": {
        "id": "1PKDx7cLEVJZ"
      },
      "outputs": [],
      "source": [
        "# from sklearn.cluster import Birch\n",
        "# Birch(threshold=0.1).fit_transform(num_clean)"
      ]
    },
    {
      "cell_type": "markdown",
      "metadata": {
        "id": "uBeX6FtbbCzI"
      },
      "source": [
        "### add to num_pipeline"
      ]
    },
    {
      "cell_type": "code",
      "execution_count": null,
      "metadata": {
        "id": "mNAVJh-uY_Cj"
      },
      "outputs": [],
      "source": [
        "# # add to num_pipeline\n",
        "# num_pipeline.steps.append(\n",
        "#     ('X_train', SeasonSimilarity(random_state=42, n_clusters=2)) # choose 2 here instead of tuning as a hyperparameter\n",
        "# )"
      ]
    },
    {
      "cell_type": "code",
      "execution_count": null,
      "metadata": {
        "colab": {
          "base_uri": "https://localhost:8080/",
          "height": 92
        },
        "id": "b8WfheHNcwLX",
        "outputId": "e9df8f30-d2fe-490e-a8bd-c57659d0a7d1"
      },
      "outputs": [
        {
          "data": {
            "text/html": [
              "<style>#sk-880a0e93-b55e-428f-9609-4052d0bdf8c9 {color: black;background-color: white;}#sk-880a0e93-b55e-428f-9609-4052d0bdf8c9 pre{padding: 0;}#sk-880a0e93-b55e-428f-9609-4052d0bdf8c9 div.sk-toggleable {background-color: white;}#sk-880a0e93-b55e-428f-9609-4052d0bdf8c9 label.sk-toggleable__label {cursor: pointer;display: block;width: 100%;margin-bottom: 0;padding: 0.3em;box-sizing: border-box;text-align: center;}#sk-880a0e93-b55e-428f-9609-4052d0bdf8c9 label.sk-toggleable__label-arrow:before {content: \"▸\";float: left;margin-right: 0.25em;color: #696969;}#sk-880a0e93-b55e-428f-9609-4052d0bdf8c9 label.sk-toggleable__label-arrow:hover:before {color: black;}#sk-880a0e93-b55e-428f-9609-4052d0bdf8c9 div.sk-estimator:hover label.sk-toggleable__label-arrow:before {color: black;}#sk-880a0e93-b55e-428f-9609-4052d0bdf8c9 div.sk-toggleable__content {max-height: 0;max-width: 0;overflow: hidden;text-align: left;background-color: #f0f8ff;}#sk-880a0e93-b55e-428f-9609-4052d0bdf8c9 div.sk-toggleable__content pre {margin: 0.2em;color: black;border-radius: 0.25em;background-color: #f0f8ff;}#sk-880a0e93-b55e-428f-9609-4052d0bdf8c9 input.sk-toggleable__control:checked~div.sk-toggleable__content {max-height: 200px;max-width: 100%;overflow: auto;}#sk-880a0e93-b55e-428f-9609-4052d0bdf8c9 input.sk-toggleable__control:checked~label.sk-toggleable__label-arrow:before {content: \"▾\";}#sk-880a0e93-b55e-428f-9609-4052d0bdf8c9 div.sk-estimator input.sk-toggleable__control:checked~label.sk-toggleable__label {background-color: #d4ebff;}#sk-880a0e93-b55e-428f-9609-4052d0bdf8c9 div.sk-label input.sk-toggleable__control:checked~label.sk-toggleable__label {background-color: #d4ebff;}#sk-880a0e93-b55e-428f-9609-4052d0bdf8c9 input.sk-hidden--visually {border: 0;clip: rect(1px 1px 1px 1px);clip: rect(1px, 1px, 1px, 1px);height: 1px;margin: -1px;overflow: hidden;padding: 0;position: absolute;width: 1px;}#sk-880a0e93-b55e-428f-9609-4052d0bdf8c9 div.sk-estimator {font-family: monospace;background-color: #f0f8ff;border: 1px dotted black;border-radius: 0.25em;box-sizing: border-box;margin-bottom: 0.5em;}#sk-880a0e93-b55e-428f-9609-4052d0bdf8c9 div.sk-estimator:hover {background-color: #d4ebff;}#sk-880a0e93-b55e-428f-9609-4052d0bdf8c9 div.sk-parallel-item::after {content: \"\";width: 100%;border-bottom: 1px solid gray;flex-grow: 1;}#sk-880a0e93-b55e-428f-9609-4052d0bdf8c9 div.sk-label:hover label.sk-toggleable__label {background-color: #d4ebff;}#sk-880a0e93-b55e-428f-9609-4052d0bdf8c9 div.sk-serial::before {content: \"\";position: absolute;border-left: 1px solid gray;box-sizing: border-box;top: 2em;bottom: 0;left: 50%;}#sk-880a0e93-b55e-428f-9609-4052d0bdf8c9 div.sk-serial {display: flex;flex-direction: column;align-items: center;background-color: white;padding-right: 0.2em;padding-left: 0.2em;}#sk-880a0e93-b55e-428f-9609-4052d0bdf8c9 div.sk-item {z-index: 1;}#sk-880a0e93-b55e-428f-9609-4052d0bdf8c9 div.sk-parallel {display: flex;align-items: stretch;justify-content: center;background-color: white;}#sk-880a0e93-b55e-428f-9609-4052d0bdf8c9 div.sk-parallel::before {content: \"\";position: absolute;border-left: 1px solid gray;box-sizing: border-box;top: 2em;bottom: 0;left: 50%;}#sk-880a0e93-b55e-428f-9609-4052d0bdf8c9 div.sk-parallel-item {display: flex;flex-direction: column;position: relative;background-color: white;}#sk-880a0e93-b55e-428f-9609-4052d0bdf8c9 div.sk-parallel-item:first-child::after {align-self: flex-end;width: 50%;}#sk-880a0e93-b55e-428f-9609-4052d0bdf8c9 div.sk-parallel-item:last-child::after {align-self: flex-start;width: 50%;}#sk-880a0e93-b55e-428f-9609-4052d0bdf8c9 div.sk-parallel-item:only-child::after {width: 0;}#sk-880a0e93-b55e-428f-9609-4052d0bdf8c9 div.sk-dashed-wrapped {border: 1px dashed gray;margin: 0 0.4em 0.5em 0.4em;box-sizing: border-box;padding-bottom: 0.4em;background-color: white;position: relative;}#sk-880a0e93-b55e-428f-9609-4052d0bdf8c9 div.sk-label label {font-family: monospace;font-weight: bold;background-color: white;display: inline-block;line-height: 1.2em;}#sk-880a0e93-b55e-428f-9609-4052d0bdf8c9 div.sk-label-container {position: relative;z-index: 2;text-align: center;}#sk-880a0e93-b55e-428f-9609-4052d0bdf8c9 div.sk-container {/* jupyter's `normalize.less` sets `[hidden] { display: none; }` but bootstrap.min.css set `[hidden] { display: none !important; }` so we also need the `!important` here to be able to override the default hidden behavior on the sphinx rendered scikit-learn.org. See: https://github.com/scikit-learn/scikit-learn/issues/21755 */display: inline-block !important;position: relative;}#sk-880a0e93-b55e-428f-9609-4052d0bdf8c9 div.sk-text-repr-fallback {display: none;}</style><div id=\"sk-880a0e93-b55e-428f-9609-4052d0bdf8c9\" class=\"sk-top-container\"><div class=\"sk-text-repr-fallback\"><pre>Pipeline(steps=[(&#x27;myminmaxscaler&#x27;, MyMinMaxScaler())])</pre><b>Please rerun this cell to show the HTML repr or trust the notebook.</b></div><div class=\"sk-container\" hidden><div class=\"sk-item sk-dashed-wrapped\"><div class=\"sk-label-container\"><div class=\"sk-label sk-toggleable\"><input class=\"sk-toggleable__control sk-hidden--visually\" id=\"255ba727-be83-4161-b587-a4687ed04a72\" type=\"checkbox\" ><label for=\"255ba727-be83-4161-b587-a4687ed04a72\" class=\"sk-toggleable__label sk-toggleable__label-arrow\">Pipeline</label><div class=\"sk-toggleable__content\"><pre>Pipeline(steps=[(&#x27;myminmaxscaler&#x27;, MyMinMaxScaler())])</pre></div></div></div><div class=\"sk-serial\"><div class=\"sk-item\"><div class=\"sk-estimator sk-toggleable\"><input class=\"sk-toggleable__control sk-hidden--visually\" id=\"0621146b-a6c6-490d-af02-db11d7a154cd\" type=\"checkbox\" ><label for=\"0621146b-a6c6-490d-af02-db11d7a154cd\" class=\"sk-toggleable__label sk-toggleable__label-arrow\">MyMinMaxScaler</label><div class=\"sk-toggleable__content\"><pre>MyMinMaxScaler()</pre></div></div></div></div></div></div></div>"
            ],
            "text/plain": [
              "Pipeline(steps=[('myminmaxscaler', MyMinMaxScaler())])"
            ]
          },
          "execution_count": 17,
          "metadata": {},
          "output_type": "execute_result"
        }
      ],
      "source": [
        "num_pipeline"
      ]
    },
    {
      "cell_type": "markdown",
      "metadata": {
        "id": "eqzWNwddewrS"
      },
      "source": [
        "### Alternative: agglomerative clustering"
      ]
    },
    {
      "cell_type": "code",
      "execution_count": null,
      "metadata": {
        "id": "12UZm12d6414"
      },
      "outputs": [],
      "source": [
        "# from sklearn.cluster import AgglomerativeClustering\n",
        "# from scipy.cluster.hierarchy import dendrogram\n",
        "\n",
        "# # create a custom transformer to cluster nba seasons into era\n",
        "# class SeasonSimilarity2(BaseEstimator, TransformerMixin):\n",
        "#   def __init__(self, n_clusters = 3, compute_distances = True):\n",
        "#     self.n_clusters = n_clusters\n",
        "#     self.compute_distances = compute_distances\n",
        "  \n",
        "#   def fit(self, X, y = None, sample_weight = None):\n",
        "#     # group by season to get league average\n",
        "#     X_season = X.groupby(\"SEASON\").mean().sort_index()\n",
        "#     self.feature_names_in_ = X.columns.values\n",
        "#     self.index_names = X_season.sort_index().index.values\n",
        "#     self.agg_cluster_ = AgglomerativeClustering(n_clusters=self.n_clusters, compute_distances=self.compute_distances)\n",
        "#     self.agg_cluster_.fit(X_season)\n",
        "#     return self\n",
        "  \n",
        "#   def transform(self, X):\n",
        "#     X_season = X.groupby(\"SEASON\").mean().sort_index()\n",
        "#     X_cluster = pd.DataFrame(self.agg_cluster_.predict(X_season), index = X_season.index, columns=[f\"ERA_{i}\" for i in range(self.n_clusters)]).reset_index()\n",
        "#     output = X[[\"SEASON\"]].merge(X_cluster, how = \"inner\", on = \"SEASON\")\n",
        "#     output.drop(columns = [\"SEASON\"], inplace = True)\n",
        "#     output.index = X[[\"SEASON\"]]\n",
        "#     self.output_features = output.columns.values\n",
        "#     return output\n",
        "  \n",
        "#   def get_feature_names_out(self, names = None):\n",
        "#     return self.output_features\n",
        "\n",
        "#   def plot_dendrogram(self, **kwargs):\n",
        "#     model = self.agg_cluster_\n",
        "#     def create_plot(model, **kwargs):\n",
        "#       # Create linkage matrix and then plot the dendrogram\n",
        "\n",
        "#       # create the counts of samples under each node\n",
        "#       counts = np.zeros(model.children_.shape[0])\n",
        "#       n_samples = len(model.labels_)\n",
        "#       for i, merge in enumerate(model.children_):\n",
        "#           current_count = 0\n",
        "#           for child_idx in merge:\n",
        "#               if child_idx < n_samples:\n",
        "#                   current_count += 1  # leaf node\n",
        "#               else:\n",
        "#                   current_count += counts[child_idx - n_samples]\n",
        "#           counts[i] = current_count\n",
        "\n",
        "#       linkage_matrix = np.column_stack(\n",
        "#           [model.children_, model.distances_, counts]\n",
        "#       )\n",
        "\n",
        "#       # Plot the corresponding dendrogram\n",
        "#       dendrogram(linkage_matrix, **kwargs)\n",
        "\n",
        "#     create_plot(model, truncate_mode=\"level\", p=20)\n",
        "#     plt.xlabel(\"Number of points in node (or index of point if no parenthesis).\")\n",
        "#     locs, labels = plt.xticks() \n",
        "#     plt.xticks(locs, [season['SEASON'].unique().to_list()[int(x.get_text())] for x in labels])\n",
        "#     plt.show()"
      ]
    },
    {
      "cell_type": "code",
      "execution_count": null,
      "metadata": {
        "id": "jI2hl6VXsW8Z"
      },
      "outputs": [],
      "source": [
        "# agg_cluster = SeasonSimilarity2(n_clusters = 3, compute_distances=True).fit(X_train)\n",
        "# agg_cluster.plot_dendrogram()"
      ]
    },
    {
      "cell_type": "markdown",
      "metadata": {
        "id": "46LZqr5inobL"
      },
      "source": [
        "## Feature selection with lasso penalty\n",
        "- use lasso penalty with logistic regression to select useful features\n",
        "- threshold = hyperparameter to tune"
      ]
    },
    {
      "cell_type": "code",
      "execution_count": null,
      "metadata": {
        "id": "e9y9nL98p1mh"
      },
      "outputs": [],
      "source": [
        "selector = SelectFromModel(\n",
        "    SGDClassifier(random_state=42, loss='log', penalty='l1'),\n",
        "    threshold=None # hyperparameter to tune\n",
        "    ).fit(num_clean, y_train.reshape(-1,))"
      ]
    },
    {
      "cell_type": "code",
      "execution_count": null,
      "metadata": {
        "colab": {
          "base_uri": "https://localhost:8080/"
        },
        "id": "qVC5jLIV_uQq",
        "outputId": "8c7309f6-d953-42d8-9f41-f39006a26bc5"
      },
      "outputs": [
        {
          "data": {
            "text/plain": [
              "1e-05"
            ]
          },
          "execution_count": 24,
          "metadata": {},
          "output_type": "execute_result"
        }
      ],
      "source": [
        "# hyperparameter to tune\n",
        "selector.threshold_"
      ]
    },
    {
      "cell_type": "code",
      "execution_count": null,
      "metadata": {
        "colab": {
          "base_uri": "https://localhost:8080/"
        },
        "id": "FSgTHgk8covZ",
        "outputId": "0bc779ac-2cef-4b0b-8f07-d27412bb4bcf"
      },
      "outputs": [
        {
          "data": {
            "text/plain": [
              "(227845, 28)"
            ]
          },
          "execution_count": 25,
          "metadata": {},
          "output_type": "execute_result"
        }
      ],
      "source": [
        "# original training set\n",
        "X_train.shape"
      ]
    },
    {
      "cell_type": "code",
      "execution_count": null,
      "metadata": {
        "colab": {
          "base_uri": "https://localhost:8080/"
        },
        "id": "z7LllqgpcZGC",
        "outputId": "358384ce-ee91-44de-aa32-bf9bc7ccc860"
      },
      "outputs": [
        {
          "data": {
            "text/plain": [
              "(227845, 6)"
            ]
          },
          "execution_count": 26,
          "metadata": {},
          "output_type": "execute_result"
        }
      ],
      "source": [
        "# reduced no. of features\n",
        "selector.transform(num_clean).shape"
      ]
    },
    {
      "cell_type": "code",
      "execution_count": null,
      "metadata": {
        "colab": {
          "base_uri": "https://localhost:8080/"
        },
        "id": "Bo-MeRJwdbUU",
        "outputId": "edef269b-7a19-4c14-d304-c94b77a99f06"
      },
      "outputs": [
        {
          "data": {
            "text/plain": [
              "Index(['V1', 'V2', 'V3', 'V5', 'V6', 'V7', 'V8', 'V9', 'V13', 'V15', 'V16',\n",
              "       'V18', 'V19', 'V20', 'V21', 'V22', 'V23', 'V24', 'V25', 'V26', 'V27',\n",
              "       'V28'],\n",
              "      dtype='object')"
            ]
          },
          "execution_count": 27,
          "metadata": {},
          "output_type": "execute_result"
        }
      ],
      "source": [
        "# columns dropped\n",
        "num_clean.columns[~selector.get_support()]"
      ]
    },
    {
      "cell_type": "code",
      "execution_count": null,
      "metadata": {
        "colab": {
          "base_uri": "https://localhost:8080/"
        },
        "id": "LxVj7gjMd5rT",
        "outputId": "773250b9-46c6-4384-afda-b38dfbe6fc78"
      },
      "outputs": [
        {
          "data": {
            "text/plain": [
              "array(['V4', 'V10', 'V11', 'V12', 'V14', 'V17'], dtype=object)"
            ]
          },
          "execution_count": 28,
          "metadata": {},
          "output_type": "execute_result"
        }
      ],
      "source": [
        "# columns retained\n",
        "selector.get_feature_names_out()"
      ]
    },
    {
      "cell_type": "markdown",
      "metadata": {
        "id": "v4cUAtjkc6gf"
      },
      "source": [
        "## Final pipeline = data_preparation\n",
        "\n"
      ]
    },
    {
      "cell_type": "code",
      "execution_count": null,
      "metadata": {
        "colab": {
          "base_uri": "https://localhost:8080/",
          "height": 92
        },
        "id": "E_3iCSGkC_6b",
        "outputId": "5f3217ac-7c7a-4d2a-bb6e-875865194616"
      },
      "outputs": [
        {
          "data": {
            "text/html": [
              "<style>#sk-5b14f904-d5dd-4736-9915-97ffc6903d65 {color: black;background-color: white;}#sk-5b14f904-d5dd-4736-9915-97ffc6903d65 pre{padding: 0;}#sk-5b14f904-d5dd-4736-9915-97ffc6903d65 div.sk-toggleable {background-color: white;}#sk-5b14f904-d5dd-4736-9915-97ffc6903d65 label.sk-toggleable__label {cursor: pointer;display: block;width: 100%;margin-bottom: 0;padding: 0.3em;box-sizing: border-box;text-align: center;}#sk-5b14f904-d5dd-4736-9915-97ffc6903d65 label.sk-toggleable__label-arrow:before {content: \"▸\";float: left;margin-right: 0.25em;color: #696969;}#sk-5b14f904-d5dd-4736-9915-97ffc6903d65 label.sk-toggleable__label-arrow:hover:before {color: black;}#sk-5b14f904-d5dd-4736-9915-97ffc6903d65 div.sk-estimator:hover label.sk-toggleable__label-arrow:before {color: black;}#sk-5b14f904-d5dd-4736-9915-97ffc6903d65 div.sk-toggleable__content {max-height: 0;max-width: 0;overflow: hidden;text-align: left;background-color: #f0f8ff;}#sk-5b14f904-d5dd-4736-9915-97ffc6903d65 div.sk-toggleable__content pre {margin: 0.2em;color: black;border-radius: 0.25em;background-color: #f0f8ff;}#sk-5b14f904-d5dd-4736-9915-97ffc6903d65 input.sk-toggleable__control:checked~div.sk-toggleable__content {max-height: 200px;max-width: 100%;overflow: auto;}#sk-5b14f904-d5dd-4736-9915-97ffc6903d65 input.sk-toggleable__control:checked~label.sk-toggleable__label-arrow:before {content: \"▾\";}#sk-5b14f904-d5dd-4736-9915-97ffc6903d65 div.sk-estimator input.sk-toggleable__control:checked~label.sk-toggleable__label {background-color: #d4ebff;}#sk-5b14f904-d5dd-4736-9915-97ffc6903d65 div.sk-label input.sk-toggleable__control:checked~label.sk-toggleable__label {background-color: #d4ebff;}#sk-5b14f904-d5dd-4736-9915-97ffc6903d65 input.sk-hidden--visually {border: 0;clip: rect(1px 1px 1px 1px);clip: rect(1px, 1px, 1px, 1px);height: 1px;margin: -1px;overflow: hidden;padding: 0;position: absolute;width: 1px;}#sk-5b14f904-d5dd-4736-9915-97ffc6903d65 div.sk-estimator {font-family: monospace;background-color: #f0f8ff;border: 1px dotted black;border-radius: 0.25em;box-sizing: border-box;margin-bottom: 0.5em;}#sk-5b14f904-d5dd-4736-9915-97ffc6903d65 div.sk-estimator:hover {background-color: #d4ebff;}#sk-5b14f904-d5dd-4736-9915-97ffc6903d65 div.sk-parallel-item::after {content: \"\";width: 100%;border-bottom: 1px solid gray;flex-grow: 1;}#sk-5b14f904-d5dd-4736-9915-97ffc6903d65 div.sk-label:hover label.sk-toggleable__label {background-color: #d4ebff;}#sk-5b14f904-d5dd-4736-9915-97ffc6903d65 div.sk-serial::before {content: \"\";position: absolute;border-left: 1px solid gray;box-sizing: border-box;top: 2em;bottom: 0;left: 50%;}#sk-5b14f904-d5dd-4736-9915-97ffc6903d65 div.sk-serial {display: flex;flex-direction: column;align-items: center;background-color: white;padding-right: 0.2em;padding-left: 0.2em;}#sk-5b14f904-d5dd-4736-9915-97ffc6903d65 div.sk-item {z-index: 1;}#sk-5b14f904-d5dd-4736-9915-97ffc6903d65 div.sk-parallel {display: flex;align-items: stretch;justify-content: center;background-color: white;}#sk-5b14f904-d5dd-4736-9915-97ffc6903d65 div.sk-parallel::before {content: \"\";position: absolute;border-left: 1px solid gray;box-sizing: border-box;top: 2em;bottom: 0;left: 50%;}#sk-5b14f904-d5dd-4736-9915-97ffc6903d65 div.sk-parallel-item {display: flex;flex-direction: column;position: relative;background-color: white;}#sk-5b14f904-d5dd-4736-9915-97ffc6903d65 div.sk-parallel-item:first-child::after {align-self: flex-end;width: 50%;}#sk-5b14f904-d5dd-4736-9915-97ffc6903d65 div.sk-parallel-item:last-child::after {align-self: flex-start;width: 50%;}#sk-5b14f904-d5dd-4736-9915-97ffc6903d65 div.sk-parallel-item:only-child::after {width: 0;}#sk-5b14f904-d5dd-4736-9915-97ffc6903d65 div.sk-dashed-wrapped {border: 1px dashed gray;margin: 0 0.4em 0.5em 0.4em;box-sizing: border-box;padding-bottom: 0.4em;background-color: white;position: relative;}#sk-5b14f904-d5dd-4736-9915-97ffc6903d65 div.sk-label label {font-family: monospace;font-weight: bold;background-color: white;display: inline-block;line-height: 1.2em;}#sk-5b14f904-d5dd-4736-9915-97ffc6903d65 div.sk-label-container {position: relative;z-index: 2;text-align: center;}#sk-5b14f904-d5dd-4736-9915-97ffc6903d65 div.sk-container {/* jupyter's `normalize.less` sets `[hidden] { display: none; }` but bootstrap.min.css set `[hidden] { display: none !important; }` so we also need the `!important` here to be able to override the default hidden behavior on the sphinx rendered scikit-learn.org. See: https://github.com/scikit-learn/scikit-learn/issues/21755 */display: inline-block !important;position: relative;}#sk-5b14f904-d5dd-4736-9915-97ffc6903d65 div.sk-text-repr-fallback {display: none;}</style><div id=\"sk-5b14f904-d5dd-4736-9915-97ffc6903d65\" class=\"sk-top-container\"><div class=\"sk-text-repr-fallback\"><pre>Pipeline(steps=[(&#x27;myminmaxscaler&#x27;, MyMinMaxScaler())])</pre><b>Please rerun this cell to show the HTML repr or trust the notebook.</b></div><div class=\"sk-container\" hidden><div class=\"sk-item sk-dashed-wrapped\"><div class=\"sk-label-container\"><div class=\"sk-label sk-toggleable\"><input class=\"sk-toggleable__control sk-hidden--visually\" id=\"e45866a5-c3c7-46eb-882f-2d5612878d69\" type=\"checkbox\" ><label for=\"e45866a5-c3c7-46eb-882f-2d5612878d69\" class=\"sk-toggleable__label sk-toggleable__label-arrow\">Pipeline</label><div class=\"sk-toggleable__content\"><pre>Pipeline(steps=[(&#x27;myminmaxscaler&#x27;, MyMinMaxScaler())])</pre></div></div></div><div class=\"sk-serial\"><div class=\"sk-item\"><div class=\"sk-estimator sk-toggleable\"><input class=\"sk-toggleable__control sk-hidden--visually\" id=\"dc6509fa-8a40-4260-a573-5bf35d02d231\" type=\"checkbox\" ><label for=\"dc6509fa-8a40-4260-a573-5bf35d02d231\" class=\"sk-toggleable__label sk-toggleable__label-arrow\">MyMinMaxScaler</label><div class=\"sk-toggleable__content\"><pre>MyMinMaxScaler()</pre></div></div></div></div></div></div></div>"
            ],
            "text/plain": [
              "Pipeline(steps=[('myminmaxscaler', MyMinMaxScaler())])"
            ]
          },
          "execution_count": 29,
          "metadata": {},
          "output_type": "execute_result"
        }
      ],
      "source": [
        "num_pipeline"
      ]
    },
    {
      "cell_type": "code",
      "execution_count": null,
      "metadata": {
        "id": "HJqzqiF0_jTT"
      },
      "outputs": [],
      "source": [
        "data_preparation = make_pipeline(\n",
        "    \n",
        "    # data cleaning\n",
        "    ColumnTransformer([\n",
        "        (\"num\", num_pipeline, make_column_selector(dtype_include=np.number)),\n",
        "      ], \n",
        "      # drop remaining columns if any\n",
        "      remainder=\"drop\",\n",
        "      # drop column prefix\n",
        "      verbose_feature_names_out = False, \n",
        "    ),\n",
        "\n",
        "    # feature selection\n",
        "    SelectFromModel(\n",
        "      SGDClassifier(random_state=42, loss='log', penalty='l1'),\n",
        "      threshold=None # hyperparameter to tune\n",
        "    )\n",
        ")"
      ]
    },
    {
      "cell_type": "code",
      "execution_count": null,
      "metadata": {
        "colab": {
          "base_uri": "https://localhost:8080/",
          "height": 233
        },
        "id": "UEo-UfN5jfNg",
        "outputId": "77260ca9-ae6a-43c3-b396-16f2d0520dba"
      },
      "outputs": [
        {
          "data": {
            "text/html": [
              "<style>#sk-efeeb87f-fc0f-4d20-901b-e23fd557ece4 {color: black;background-color: white;}#sk-efeeb87f-fc0f-4d20-901b-e23fd557ece4 pre{padding: 0;}#sk-efeeb87f-fc0f-4d20-901b-e23fd557ece4 div.sk-toggleable {background-color: white;}#sk-efeeb87f-fc0f-4d20-901b-e23fd557ece4 label.sk-toggleable__label {cursor: pointer;display: block;width: 100%;margin-bottom: 0;padding: 0.3em;box-sizing: border-box;text-align: center;}#sk-efeeb87f-fc0f-4d20-901b-e23fd557ece4 label.sk-toggleable__label-arrow:before {content: \"▸\";float: left;margin-right: 0.25em;color: #696969;}#sk-efeeb87f-fc0f-4d20-901b-e23fd557ece4 label.sk-toggleable__label-arrow:hover:before {color: black;}#sk-efeeb87f-fc0f-4d20-901b-e23fd557ece4 div.sk-estimator:hover label.sk-toggleable__label-arrow:before {color: black;}#sk-efeeb87f-fc0f-4d20-901b-e23fd557ece4 div.sk-toggleable__content {max-height: 0;max-width: 0;overflow: hidden;text-align: left;background-color: #f0f8ff;}#sk-efeeb87f-fc0f-4d20-901b-e23fd557ece4 div.sk-toggleable__content pre {margin: 0.2em;color: black;border-radius: 0.25em;background-color: #f0f8ff;}#sk-efeeb87f-fc0f-4d20-901b-e23fd557ece4 input.sk-toggleable__control:checked~div.sk-toggleable__content {max-height: 200px;max-width: 100%;overflow: auto;}#sk-efeeb87f-fc0f-4d20-901b-e23fd557ece4 input.sk-toggleable__control:checked~label.sk-toggleable__label-arrow:before {content: \"▾\";}#sk-efeeb87f-fc0f-4d20-901b-e23fd557ece4 div.sk-estimator input.sk-toggleable__control:checked~label.sk-toggleable__label {background-color: #d4ebff;}#sk-efeeb87f-fc0f-4d20-901b-e23fd557ece4 div.sk-label input.sk-toggleable__control:checked~label.sk-toggleable__label {background-color: #d4ebff;}#sk-efeeb87f-fc0f-4d20-901b-e23fd557ece4 input.sk-hidden--visually {border: 0;clip: rect(1px 1px 1px 1px);clip: rect(1px, 1px, 1px, 1px);height: 1px;margin: -1px;overflow: hidden;padding: 0;position: absolute;width: 1px;}#sk-efeeb87f-fc0f-4d20-901b-e23fd557ece4 div.sk-estimator {font-family: monospace;background-color: #f0f8ff;border: 1px dotted black;border-radius: 0.25em;box-sizing: border-box;margin-bottom: 0.5em;}#sk-efeeb87f-fc0f-4d20-901b-e23fd557ece4 div.sk-estimator:hover {background-color: #d4ebff;}#sk-efeeb87f-fc0f-4d20-901b-e23fd557ece4 div.sk-parallel-item::after {content: \"\";width: 100%;border-bottom: 1px solid gray;flex-grow: 1;}#sk-efeeb87f-fc0f-4d20-901b-e23fd557ece4 div.sk-label:hover label.sk-toggleable__label {background-color: #d4ebff;}#sk-efeeb87f-fc0f-4d20-901b-e23fd557ece4 div.sk-serial::before {content: \"\";position: absolute;border-left: 1px solid gray;box-sizing: border-box;top: 2em;bottom: 0;left: 50%;}#sk-efeeb87f-fc0f-4d20-901b-e23fd557ece4 div.sk-serial {display: flex;flex-direction: column;align-items: center;background-color: white;padding-right: 0.2em;padding-left: 0.2em;}#sk-efeeb87f-fc0f-4d20-901b-e23fd557ece4 div.sk-item {z-index: 1;}#sk-efeeb87f-fc0f-4d20-901b-e23fd557ece4 div.sk-parallel {display: flex;align-items: stretch;justify-content: center;background-color: white;}#sk-efeeb87f-fc0f-4d20-901b-e23fd557ece4 div.sk-parallel::before {content: \"\";position: absolute;border-left: 1px solid gray;box-sizing: border-box;top: 2em;bottom: 0;left: 50%;}#sk-efeeb87f-fc0f-4d20-901b-e23fd557ece4 div.sk-parallel-item {display: flex;flex-direction: column;position: relative;background-color: white;}#sk-efeeb87f-fc0f-4d20-901b-e23fd557ece4 div.sk-parallel-item:first-child::after {align-self: flex-end;width: 50%;}#sk-efeeb87f-fc0f-4d20-901b-e23fd557ece4 div.sk-parallel-item:last-child::after {align-self: flex-start;width: 50%;}#sk-efeeb87f-fc0f-4d20-901b-e23fd557ece4 div.sk-parallel-item:only-child::after {width: 0;}#sk-efeeb87f-fc0f-4d20-901b-e23fd557ece4 div.sk-dashed-wrapped {border: 1px dashed gray;margin: 0 0.4em 0.5em 0.4em;box-sizing: border-box;padding-bottom: 0.4em;background-color: white;position: relative;}#sk-efeeb87f-fc0f-4d20-901b-e23fd557ece4 div.sk-label label {font-family: monospace;font-weight: bold;background-color: white;display: inline-block;line-height: 1.2em;}#sk-efeeb87f-fc0f-4d20-901b-e23fd557ece4 div.sk-label-container {position: relative;z-index: 2;text-align: center;}#sk-efeeb87f-fc0f-4d20-901b-e23fd557ece4 div.sk-container {/* jupyter's `normalize.less` sets `[hidden] { display: none; }` but bootstrap.min.css set `[hidden] { display: none !important; }` so we also need the `!important` here to be able to override the default hidden behavior on the sphinx rendered scikit-learn.org. See: https://github.com/scikit-learn/scikit-learn/issues/21755 */display: inline-block !important;position: relative;}#sk-efeeb87f-fc0f-4d20-901b-e23fd557ece4 div.sk-text-repr-fallback {display: none;}</style><div id=\"sk-efeeb87f-fc0f-4d20-901b-e23fd557ece4\" class=\"sk-top-container\"><div class=\"sk-text-repr-fallback\"><pre>Pipeline(steps=[(&#x27;columntransformer&#x27;,\n",
              "                 ColumnTransformer(transformers=[(&#x27;num&#x27;,\n",
              "                                                  Pipeline(steps=[(&#x27;myminmaxscaler&#x27;,\n",
              "                                                                   MyMinMaxScaler())]),\n",
              "                                                  &lt;sklearn.compose._column_transformer.make_column_selector object at 0x7f6805378ad0&gt;)],\n",
              "                                   verbose_feature_names_out=False)),\n",
              "                (&#x27;selectfrommodel&#x27;,\n",
              "                 SelectFromModel(estimator=SGDClassifier(loss=&#x27;log&#x27;,\n",
              "                                                         penalty=&#x27;l1&#x27;,\n",
              "                                                         random_state=42)))])</pre><b>Please rerun this cell to show the HTML repr or trust the notebook.</b></div><div class=\"sk-container\" hidden><div class=\"sk-item sk-dashed-wrapped\"><div class=\"sk-label-container\"><div class=\"sk-label sk-toggleable\"><input class=\"sk-toggleable__control sk-hidden--visually\" id=\"16bba9da-dba3-4c18-9378-6b7f72003be9\" type=\"checkbox\" ><label for=\"16bba9da-dba3-4c18-9378-6b7f72003be9\" class=\"sk-toggleable__label sk-toggleable__label-arrow\">Pipeline</label><div class=\"sk-toggleable__content\"><pre>Pipeline(steps=[(&#x27;columntransformer&#x27;,\n",
              "                 ColumnTransformer(transformers=[(&#x27;num&#x27;,\n",
              "                                                  Pipeline(steps=[(&#x27;myminmaxscaler&#x27;,\n",
              "                                                                   MyMinMaxScaler())]),\n",
              "                                                  &lt;sklearn.compose._column_transformer.make_column_selector object at 0x7f6805378ad0&gt;)],\n",
              "                                   verbose_feature_names_out=False)),\n",
              "                (&#x27;selectfrommodel&#x27;,\n",
              "                 SelectFromModel(estimator=SGDClassifier(loss=&#x27;log&#x27;,\n",
              "                                                         penalty=&#x27;l1&#x27;,\n",
              "                                                         random_state=42)))])</pre></div></div></div><div class=\"sk-serial\"><div class=\"sk-item sk-dashed-wrapped\"><div class=\"sk-label-container\"><div class=\"sk-label sk-toggleable\"><input class=\"sk-toggleable__control sk-hidden--visually\" id=\"2f61bde2-6196-4708-925f-21b2f7e2801d\" type=\"checkbox\" ><label for=\"2f61bde2-6196-4708-925f-21b2f7e2801d\" class=\"sk-toggleable__label sk-toggleable__label-arrow\">columntransformer: ColumnTransformer</label><div class=\"sk-toggleable__content\"><pre>ColumnTransformer(transformers=[(&#x27;num&#x27;,\n",
              "                                 Pipeline(steps=[(&#x27;myminmaxscaler&#x27;,\n",
              "                                                  MyMinMaxScaler())]),\n",
              "                                 &lt;sklearn.compose._column_transformer.make_column_selector object at 0x7f6805378ad0&gt;)],\n",
              "                  verbose_feature_names_out=False)</pre></div></div></div><div class=\"sk-parallel\"><div class=\"sk-parallel-item\"><div class=\"sk-item\"><div class=\"sk-label-container\"><div class=\"sk-label sk-toggleable\"><input class=\"sk-toggleable__control sk-hidden--visually\" id=\"4877b222-dc00-42c5-84e6-5b43b61958f4\" type=\"checkbox\" ><label for=\"4877b222-dc00-42c5-84e6-5b43b61958f4\" class=\"sk-toggleable__label sk-toggleable__label-arrow\">num</label><div class=\"sk-toggleable__content\"><pre>&lt;sklearn.compose._column_transformer.make_column_selector object at 0x7f6805378ad0&gt;</pre></div></div></div><div class=\"sk-serial\"><div class=\"sk-item\"><div class=\"sk-serial\"><div class=\"sk-item\"><div class=\"sk-estimator sk-toggleable\"><input class=\"sk-toggleable__control sk-hidden--visually\" id=\"4f152711-9e89-4868-8347-b55da72e8205\" type=\"checkbox\" ><label for=\"4f152711-9e89-4868-8347-b55da72e8205\" class=\"sk-toggleable__label sk-toggleable__label-arrow\">MyMinMaxScaler</label><div class=\"sk-toggleable__content\"><pre>MyMinMaxScaler()</pre></div></div></div></div></div></div></div></div></div></div><div class=\"sk-item sk-dashed-wrapped\"><div class=\"sk-label-container\"><div class=\"sk-label sk-toggleable\"><input class=\"sk-toggleable__control sk-hidden--visually\" id=\"083fa5f5-2e80-4f87-b360-93327128c7f3\" type=\"checkbox\" ><label for=\"083fa5f5-2e80-4f87-b360-93327128c7f3\" class=\"sk-toggleable__label sk-toggleable__label-arrow\">selectfrommodel: SelectFromModel</label><div class=\"sk-toggleable__content\"><pre>SelectFromModel(estimator=SGDClassifier(loss=&#x27;log&#x27;, penalty=&#x27;l1&#x27;,\n",
              "                                        random_state=42))</pre></div></div></div><div class=\"sk-parallel\"><div class=\"sk-parallel-item\"><div class=\"sk-item\"><div class=\"sk-serial\"><div class=\"sk-item\"><div class=\"sk-estimator sk-toggleable\"><input class=\"sk-toggleable__control sk-hidden--visually\" id=\"0d1fd6a3-29bc-4f8c-bcd1-fe3a1195d960\" type=\"checkbox\" ><label for=\"0d1fd6a3-29bc-4f8c-bcd1-fe3a1195d960\" class=\"sk-toggleable__label sk-toggleable__label-arrow\">SGDClassifier</label><div class=\"sk-toggleable__content\"><pre>SGDClassifier(loss=&#x27;log&#x27;, penalty=&#x27;l1&#x27;, random_state=42)</pre></div></div></div></div></div></div></div></div></div></div></div></div>"
            ],
            "text/plain": [
              "Pipeline(steps=[('columntransformer',\n",
              "                 ColumnTransformer(transformers=[('num',\n",
              "                                                  Pipeline(steps=[('myminmaxscaler',\n",
              "                                                                   MyMinMaxScaler())]),\n",
              "                                                  <sklearn.compose._column_transformer.make_column_selector object at 0x7f6805378ad0>)],\n",
              "                                   verbose_feature_names_out=False)),\n",
              "                ('selectfrommodel',\n",
              "                 SelectFromModel(estimator=SGDClassifier(loss='log',\n",
              "                                                         penalty='l1',\n",
              "                                                         random_state=42)))])"
            ]
          },
          "execution_count": 11,
          "metadata": {},
          "output_type": "execute_result"
        }
      ],
      "source": [
        "data_preparation"
      ]
    },
    {
      "cell_type": "code",
      "execution_count": null,
      "metadata": {
        "colab": {
          "base_uri": "https://localhost:8080/",
          "height": 1000
        },
        "id": "J06-gkFrDRhu",
        "outputId": "cef7da25-df0b-42ce-a6fd-9a1fe7433666"
      },
      "outputs": [
        {
          "data": {
            "image/png": "[encoded data removed]",
            "text/plain": [
              "<Figure size 1440x1440 with 10 Axes>"
            ]
          },
          "metadata": {},
          "output_type": "display_data"
        }
      ],
      "source": [
        "# plot distributions of each feature in X_train\n",
        "plot_df = pd.DataFrame(data_preparation.fit_transform(X_train, y_train), \n",
        "                       columns = data_preparation.get_feature_names_out()).astype(float)\n",
        "plot_df.hist(bins = 20, layout = (int(plot_df.shape[1] / 5) + 1, 5), figsize = (20,20))\n",
        "plt.title(\"Distribution of each feature after cleaning\")\n",
        "plt.tight_layout()"
      ]
    },
    {
      "cell_type": "markdown",
      "metadata": {
        "id": "FeGQiK77IffA"
      },
      "source": [
        "# Shortlist promising models"
      ]
    },
    {
      "cell_type": "code",
      "execution_count": null,
      "metadata": {
        "id": "6Fy6QrBrIjDQ"
      },
      "outputs": [],
      "source": [
        "# create a list of models using standard hyperparameters to compare performance\n",
        "# those with n_jobs available\n",
        "dict_clf = {\n",
        "    # need predict_proba() for all classifiers such that we can use some ensemble methods later\n",
        "    \n",
        "    \"sgd_log\": SGDClassifier(random_state=42, loss='log', penalty='elasticnet', class_weight='balanced'), \n",
        "    \"sgd_huber\": SGDClassifier(random_state=42, loss='modified_huber', penalty='elasticnet', class_weight='balanced'),\n",
        "    \"tree\": DecisionTreeClassifier(random_state=42, class_weight = 'balanced'),\n",
        "    \"extree\": ExtraTreesClassifier(random_state=42, class_weight = 'balanced'),\n",
        "    \"forest\": RandomForestClassifier(random_state=42, class_weight = 'balanced'),\n",
        "    \"xgb\": XGBClassifier(random_state=42, scale_pos_weight=(y_train.size/y_train.sum() - 1)),\n",
        "    \"xgbrf\": XGBRFClassifier(random_state=42, scale_pos_weight=(y_train.size/y_train.sum() - 1))\n",
        "}"
      ]
    },
    {
      "cell_type": "code",
      "execution_count": null,
      "metadata": {
        "colab": {
          "base_uri": "https://localhost:8080/"
        },
        "id": "XeMi4Ua_2UGI",
        "outputId": "64b49bd0-8340-411a-d968-1fc96191e0e3"
      },
      "outputs": [
        {
          "name": "stderr",
          "output_type": "stream",
          "text": [
            "\r  0%|          | 0/7 [00:00<?, ?it/s]"
          ]
        },
        {
          "name": "stdout",
          "output_type": "stream",
          "text": [
            "sgd_log\n"
          ]
        },
        {
          "name": "stderr",
          "output_type": "stream",
          "text": [
            "\r 14%|█▍        | 1/7 [00:20<02:01, 20.28s/it]"
          ]
        },
        {
          "name": "stdout",
          "output_type": "stream",
          "text": [
            "sgd_huber\n"
          ]
        },
        {
          "name": "stderr",
          "output_type": "stream",
          "text": [
            "\r 29%|██▊       | 2/7 [00:45<01:55, 23.15s/it]"
          ]
        },
        {
          "name": "stdout",
          "output_type": "stream",
          "text": [
            "tree\n"
          ]
        },
        {
          "name": "stderr",
          "output_type": "stream",
          "text": [
            "\r 43%|████▎     | 3/7 [01:10<01:36, 24.03s/it]"
          ]
        },
        {
          "name": "stdout",
          "output_type": "stream",
          "text": [
            "extree\n"
          ]
        },
        {
          "name": "stderr",
          "output_type": "stream",
          "text": [
            "\r 57%|█████▋    | 4/7 [03:04<02:58, 59.58s/it]"
          ]
        },
        {
          "name": "stdout",
          "output_type": "stream",
          "text": [
            "forest\n"
          ]
        },
        {
          "name": "stderr",
          "output_type": "stream",
          "text": [
            "\r 71%|███████▏  | 5/7 [09:22<05:48, 174.30s/it]"
          ]
        },
        {
          "name": "stdout",
          "output_type": "stream",
          "text": [
            "xgb\n"
          ]
        },
        {
          "name": "stderr",
          "output_type": "stream",
          "text": [
            "\r 86%|████████▌ | 6/7 [11:51<02:45, 165.94s/it]"
          ]
        },
        {
          "name": "stdout",
          "output_type": "stream",
          "text": [
            "xgbrf\n"
          ]
        },
        {
          "name": "stderr",
          "output_type": "stream",
          "text": [
            "100%|██████████| 7/7 [13:27<00:00, 115.40s/it]\n"
          ]
        }
      ],
      "source": [
        "list_clf = []\n",
        "AP_CVs = []\n",
        "AP_train = []\n",
        "list_precision = []\n",
        "list_recall = []\n",
        "list_thresholds = []\n",
        "store_clf = []\n",
        "\n",
        "cv = 10\n",
        "\n",
        "# fit each classification algorithm and calculate 10-fold CV AP\n",
        "for key, item in tqdm(dict_clf.items()):\n",
        "  with parallel_backend('threading',n_jobs=-1):\n",
        "    print(key)\n",
        "    # add estimator after data_preparation pipeline\n",
        "    clf = Pipeline(\n",
        "        data_preparation.steps + [(key, item)]\n",
        "        ).fit(X_train, y_train)\n",
        "    \n",
        "    # cross validation score\n",
        "    AP_CV = cross_val_score(clf, X_train, y_train, cv = cv, scoring = 'average_precision')\n",
        "\n",
        "    store_clf.append(clf)\n",
        "    list_clf.append(key)\n",
        "    AP_CVs.append(AP_CV)\n",
        "    AP_train.append(average_precision_score(y_train, clf.predict_proba(X_train)[:,1]))"
      ]
    },
    {
      "cell_type": "code",
      "execution_count": null,
      "metadata": {
        "colab": {
          "base_uri": "https://localhost:8080/"
        },
        "id": "S_3R2uwZdmnU",
        "outputId": "0da56055-fdde-4d57-f4ca-268be05a106d"
      },
      "outputs": [
        {
          "name": "stdout",
          "output_type": "stream",
          "text": [
            "Models sorted by cross validation AP score\n",
            "CV AP: AVG 0.8252 / SD 0.0379 / forest\n",
            "CV AP: AVG 0.8233 / SD 0.0360 / extree\n",
            "CV AP: AVG 0.7563 / SD 0.0466 / xgb\n",
            "CV AP: AVG 0.7427 / SD 0.0665 / sgd_huber\n",
            "CV AP: AVG 0.7282 / SD 0.0381 / xgbrf\n",
            "CV AP: AVG 0.7262 / SD 0.0624 / sgd_log\n",
            "CV AP: AVG 0.5767 / SD 0.0273 / tree\n"
          ]
        }
      ],
      "source": [
        "# sort the models by AP but not other performance metrics dependent on decision threshold, e.g. precision and recall\n",
        "mean_AP = [np.mean(AP) for AP in AP_CVs]\n",
        "sd_AP = [np.std(AP) for AP in AP_CVs]\n",
        "print(\"Models sorted by cross validation AP score\")\n",
        "for mean, sd, clf_name in sorted(zip(mean_AP, sd_AP, list_clf), reverse = True):\n",
        "  print(f\"CV AP: AVG {mean:0.4f} / SD {sd:0.4f} / {clf_name}\")"
      ]
    },
    {
      "cell_type": "code",
      "execution_count": null,
      "metadata": {
        "colab": {
          "base_uri": "https://localhost:8080/",
          "height": 351
        },
        "id": "5K8_-9iSmSP3",
        "outputId": "d02bd0d0-2faa-4c80-a9af-ee1b6381d599"
      },
      "outputs": [
        {
          "data": {
            "image/png": "[encoded data removed]",
            "text/plain": [
              "<Figure size 1440x360 with 1 Axes>"
            ]
          },
          "metadata": {},
          "output_type": "display_data"
        }
      ],
      "source": [
        "# sort the models and plot the spread of CV AP scores\n",
        "mean_AP = [np.mean(AP) for AP in AP_CVs]\n",
        "sorted_AP_CV = [i for _, i in [(mean_AP[i], AP_CVs[i]) for i in np.argsort(mean_AP)[::-1]]]\n",
        "sorted_clf = [i for _, i in [(mean_AP[i], list_clf[i]) for i in np.argsort(mean_AP)[::-1]]]\n",
        "sorted_AP_train = [i for _, i in [(mean_AP[i], AP_train[i]) for i in np.argsort(mean_AP)[::-1]]]\n",
        "plt.boxplot(sorted_AP_CV, labels=sorted_clf)\n",
        "# add dots for CV AP scores\n",
        "for i, AP in enumerate(sorted_AP_CV):\n",
        "  plt.plot([i+1]*len(AP), AP, \".\")\n",
        "plt.plot([*range(1,len(sorted_AP_CV)+1,1)], sorted_AP_train, \"ks\", label='AP on train set')\n",
        "plt.title(f\"Models sorted by {cv}-fold cross validation AP score\")\n",
        "plt.xlabel(\"Models\")\n",
        "plt.ylabel(\"CV AP score\")\n",
        "plt.legend()\n",
        "plt.show()"
      ]
    },
    {
      "cell_type": "markdown",
      "metadata": {
        "id": "ojBZz2orkoke"
      },
      "source": [
        "# Fine-tune hyperparameters of shortlisted models with RandomizedSearchCV"
      ]
    },
    {
      "cell_type": "code",
      "execution_count": null,
      "metadata": {
        "colab": {
          "base_uri": "https://localhost:8080/"
        },
        "id": "31THeZ6sBCTv",
        "outputId": "190b02fb-6954-4b04-8d27-8b64e81d72cf"
      },
      "outputs": [
        {
          "name": "stdout",
          "output_type": "stream",
          "text": [
            "forest RandomForestClassifier(class_weight='balanced', random_state=42)\n",
            "extree ExtraTreesClassifier(class_weight='balanced', random_state=42)\n",
            "xgb XGBClassifier(random_state=42, scale_pos_weight=577.2868020304569)\n"
          ]
        }
      ],
      "source": [
        "# print top models to tune\n",
        "top = 3\n",
        "for name in sorted_clf[:top]:\n",
        "  print(name, dict_clf[name])"
      ]
    },
    {
      "cell_type": "markdown",
      "metadata": {
        "id": "dNV4o1qIlonQ"
      },
      "source": [
        "## Test the range of hyperparameters"
      ]
    },
    {
      "cell_type": "code",
      "execution_count": 44,
      "metadata": {
        "id": "5nyhyLV7cLRC"
      },
      "outputs": [],
      "source": [
        "# create a list of hyperparameters to tune for each shortlisted classifier\n",
        "shortlisted_clfs = {\n",
        "    \"extree\": ExtraTreesClassifier(class_weight='balanced', random_state=42),\n",
        "    \"forest\": RandomForestClassifier(class_weight='balanced', random_state=42),\n",
        "    \"xgb\": XGBClassifier(random_state=42, scale_pos_weight=(y_train.size/y_train.sum() - 1))\n",
        "    \n",
        "}\n",
        "\n",
        "param_grids = {\n",
        "    # https://scikit-learn.org/stable/modules/generated/sklearn.ensemble.RandomForestClassifier.html?highlight=randomforestclassifier#sklearn.ensemble.RandomForestClassifier\n",
        "    \"forest\": {\n",
        "        \"forest__max_depth\": randint(low = 50, high = 100), \n",
        "        \"forest__criterion\": [\"gini\", \"entropy\"],\n",
        "        \"forest__min_samples_split\": uniform(loc = 0, scale = 0.3), # doesn't matter\n",
        "        \"forest__min_samples_leaf\": uniform(loc = 0, scale = 0.1),\n",
        "        \"forest__min_impurity_decrease\": uniform(loc = 0, scale = 0.001),\n",
        "        \"forest__max_features\": uniform(loc = 0, scale = 0.4),\n",
        "        \"forest__min_impurity_decrease\": uniform(loc = 0, scale = 0.07),\n",
        "    },\n",
        "\n",
        "     # https://scikit-learn.org/stable/modules/generated/sklearn.ensemble.RandomForestClassifier.html?highlight=randomforestclassifier#sklearn.ensemble.RandomForestClassifier\n",
        "    \"extree\": {\n",
        "        \"extree__max_depth\": randint(low=50, high=100), \n",
        "        # \"extree__criterion\": [\"gini\", \"entropy\"],\n",
        "        \"extree__min_samples_leaf\": randint(low = 1, high = 5),\n",
        "        # \"extree__min_impurity_decrease\": loguniform(a = 10**-8, b = 10**-5),\n",
        "    },\n",
        "     # https://github.com/dmlc/xgboost/blob/master/doc/parameter.rst\n",
        "    \"xgb\": {\n",
        "        \"xgb__learning_rate\": uniform(loc = 0.08, scale = 0.3 - 0.08),\n",
        "        \"xgb__gamma\": uniform(loc = 0, scale = 20),\n",
        "        # \"xgb__max_depth\": randint(low = 1, high = 10),\n",
        "        # \"xgb__min_child_weight\": randint(low = 5, high = 50),\n",
        "        # \"xgb__subsample\": uniform(loc = 0.01, scale = 1 - 0.01),\n",
        "        # \"xgb__colsample_bytree\": uniform(loc = 0.5, scale = 1 - 0.5),\n",
        "        \"xgb__reg_lambda\": loguniform(a = 10**-5, b = 10**-4),\n",
        "        # \"xgb__reg_alpha\": uniform(loc = 0, scale = 100),\n",
        "    },\n",
        "    \n",
        "}"
      ]
    },
    {
      "cell_type": "code",
      "execution_count": 46,
      "metadata": {
        "colab": {
          "base_uri": "https://localhost:8080/"
        },
        "id": "lBxJPCmlcPmp",
        "outputId": "29bfe6c6-169c-46c2-cecc-edf3b34443f3"
      },
      "outputs": [
        {
          "output_type": "stream",
          "name": "stdout",
          "text": [
            "XGBClassifier(random_state=42, scale_pos_weight=577.2868020304569)\n",
            "  param_xgb__learning_rate param_xgb__gamma param_xgb__reg_lambda  \\\n",
            "1                 0.114324         11.97317              0.000014   \n",
            "4                 0.126715        16.648853              0.000015   \n",
            "2                 0.270559         1.161672               0.00004   \n",
            "0                 0.289157         7.490802              0.000054   \n",
            "3                 0.084529        14.161452              0.000093   \n",
            "\n",
            "   mean_test_score  mean_fit_time  std_test_score  \n",
            "1         0.762814      15.487731        0.028239  \n",
            "4         0.764967      14.940691        0.029311  \n",
            "2         0.794771      15.409983        0.021527  \n",
            "0         0.793214      15.713857        0.030002  \n",
            "3         0.755614      15.502951        0.035639  \n"
          ]
        }
      ],
      "source": [
        "# testing reasonable range of hyperparameters before RandomizedSearchCV\n",
        "clf_name = 'xgb'\n",
        "full_pipeline = Pipeline(\n",
        "      data_preparation.steps + [(clf_name, shortlisted_clfs[clf_name])]\n",
        "      )\n",
        "print(shortlisted_clfs[clf_name])\n",
        "\n",
        "param_grid = copy.deepcopy(param_grids[clf_name])\n",
        "\n",
        "with parallel_backend('threading', n_jobs=-1):\n",
        "  random_search = RandomizedSearchCV(full_pipeline, \n",
        "                                    param_grid, \n",
        "                                    cv = 10, \n",
        "                                    n_iter = 5, \n",
        "                                    scoring = \"average_precision\",\n",
        "                                    random_state = 42,\n",
        "                                    # n_jobs = -1,\n",
        "                                    error_score = 'raise')\n",
        "  random_search.fit(X_train, y_train)\n",
        "  print(pd.DataFrame(random_search.cv_results_).sort_values(['param_' + list(param_grid.keys())[-1]])[['param_' + x for x in list(param_grid.keys())] + ['mean_test_score', 'mean_fit_time', 'std_test_score']].head(5))"
      ]
    },
    {
      "cell_type": "markdown",
      "metadata": {
        "id": "bN3raj6AoOtC"
      },
      "source": [
        "## Set up hyperparameter grid"
      ]
    },
    {
      "cell_type": "code",
      "execution_count": null,
      "metadata": {
        "id": "RT3gA4rOBSwC"
      },
      "outputs": [],
      "source": [
        "# create a list of hyperparameters to tune for each shortlisted classifier\n",
        "shortlisted_clfs = {\n",
        "    \"extree\": ExtraTreesClassifier(random_state=42), \n",
        "    \"xgb\": XGBClassifier(random_state=42),\n",
        "    # \"sgd_huber\": SGDClassifier(loss='modified_huber', penalty='elasticnet', random_state=42),\n",
        "    # \"ada\": AdaBoostClassifier(random_state=42),\n",
        "    # \"gb\": GradientBoostingClassifier(random_state=42),\n",
        "    # \"forest\": RandomForestClassifier(random_state=42),\n",
        "    # \"xgbrf\": XGBRFClassifier(random_state=42),\n",
        "    # \"logistic\": LogisticRegression(random_state=42, penalty='elasticnet', solver='saga', l1_ratio=0.15, max_iter=10**4),\n",
        "    # \"svc\": SVC(kernel='linear', probability=True, max_iter=10**5, random_state=42),\n",
        "    # \"svc_poly\": SVC(kernel='poly', probability=True, random_state=42),\n",
        "    # \"svc_rbf\": SVC(kernel='rbf', probability=True, random_state=42),\n",
        "    # \"sgd\": SGDClassifier(random_state=42, penalty='elasticnet', loss='log')\n",
        "    \n",
        "}\n",
        "\n",
        "param_grids = {\n",
        "    # https://github.com/dmlc/xgboost/blob/master/doc/parameter.rst\n",
        "    \"xgb\": {\n",
        "        \"xgb__learning_rate\": uniform(loc = 0.08, scale = 0.3 - 0.08),\n",
        "        \"xgb__gamma\": uniform(loc = 0, scale = 20),\n",
        "        # \"xgb__max_depth\": randint(low = 1, high = 10),\n",
        "        # \"xgb__min_child_weight\": randint(low = 5, high = 50),\n",
        "        # \"xgb__subsample\": uniform(loc = 0.01, scale = 1 - 0.01),\n",
        "        # \"xgb__colsample_bytree\": uniform(loc = 0.5, scale = 1 - 0.5),\n",
        "        \"xgb__reg_lambda\": loguniform(a = 10**-5, b = 10**-4),\n",
        "        # \"xgb__reg_alpha\": uniform(loc = 0, scale = 100),\n",
        "    },\n",
        "\n",
        "    \"xgbrf\": {\n",
        "        \"xgbrf__gamma\": uniform(loc = 0, scale = 10),\n",
        "        \"xgbrf__reg_alpha\": uniform(loc = 0, scale = 10),\n",
        "        \"xgbrf__reg_gamma\": uniform(loc = 0, scale = 10),\n",
        "        \"xgbrf__learning_rate\": uniform(loc = 0.01, scale = 1),\n",
        "        \"xgbrf__max_depth\": randint(low = 1, high = 5),\n",
        "        \"xgbrf__min_child_weight\": randint(low = 1, high = 30),\n",
        "    },\n",
        "\n",
        "    # https://scikit-learn.org/stable/modules/generated/sklearn.ensemble.RandomForestClassifier.html?highlight=randomforestclassifier#sklearn.ensemble.RandomForestClassifier\n",
        "    \"forest\": {\n",
        "        \"forest__max_depth\": randint(low = 5, high = 50), \n",
        "        \"forest__criterion\": [\"gini\", \"entropy\"],\n",
        "        \"forest__min_samples_split\": uniform(loc = 0, scale = 0.3), # doesn't matter\n",
        "        \"forest__min_samples_leaf\": uniform(loc = 0, scale = 0.1),\n",
        "        \"forest__min_impurity_decrease\": uniform(loc = 0, scale = 0.001),\n",
        "        \"forest__max_features\": uniform(loc = 0, scale = 0.4),\n",
        "        \"forest__min_impurity_decrease\": uniform(loc = 0, scale = 0.07),\n",
        "    },\n",
        "\n",
        "    # https://scikit-learn.org/stable/modules/generated/sklearn.ensemble.RandomForestClassifier.html?highlight=randomforestclassifier#sklearn.ensemble.RandomForestClassifier\n",
        "    \"extree\": {\n",
        "        \"extree__max_depth\": randint(low=20, high=500), \n",
        "        \"extree__criterion\": [\"gini\", \"entropy\"],\n",
        "        # \"extree__min_samples_split\": randint(low = 2, high = 30),\n",
        "        \"extree__min_samples_leaf\": randint(low = 1, high = 10),\n",
        "        # \"extree__min_impurity_decrease\": uniform(loc = 0, scale = 0.07),\n",
        "    },\n",
        "\n",
        "    # https://scikit-learn.org/stable/modules/generated/sklearn.ensemble.AdaBoostClassifier.html?highlight=adaboost#sklearn.ensemble.AdaBoostClassifier\n",
        "    \"ada\": {\n",
        "        \"ada__learning_rate\": loguniform(a = 10**-2, b = 10**0),\n",
        "    },\n",
        "\n",
        "    # https://scikit-learn.org/stable/modules/generated/sklearn.ensemble.GradientBoostingClassifier.html?highlight=gradientboost#sklearn.ensemble.GradientBoostingClassifier\n",
        "    \"gb\": {\n",
        "        \"gb__min_samples_split\": uniform(loc = 0.1, scale = 0.5),\n",
        "        \"gb__max_depth\": randint(low = 1, high = 5),\n",
        "    },\n",
        "\n",
        "    # https://scikit-learn.org/stable/modules/generated/sklearn.linear_model.LogisticRegression.html\n",
        "    \"logistic\": {\n",
        "        \"logistic__C\": loguniform(a = 10**-3, b = 10**-1),\n",
        "        \"logistic__l1_ratio\": uniform(loc = 0, scale = 1),\n",
        "    },\n",
        "\n",
        "     # https://scikit-learn.org/stable/modules/generated/sklearn.svm.SVC.html?highlight=svc#sklearn.svm.SVC\n",
        "    \"svc_poly\": {\n",
        "        \"svc_poly__C\": loguniform(a = 10**-20, b = 10**1)\n",
        "    },\n",
        "\n",
        "    # https://scikit-learn.org/stable/modules/generated/sklearn.svm.SVC.html?highlight=svc#sklearn.svm.SVC\n",
        "    \"svc\": {\n",
        "        \"svc__C\": loguniform(a = 10**-20, b = 10**1)\n",
        "    },\n",
        "\n",
        "\n",
        "    # https://scikit-learn.org/stable/modules/generated/sklearn.svm.SVC.html?highlight=svc#sklearn.svm.SVC\n",
        "    \"svc_rbf\": {\n",
        "        \"svc_rbf__C\": loguniform(a = 10**-20, b = 10**1)\n",
        "    },\n",
        "\n",
        "    # https://scikit-learn.org/stable/modules/generated/sklearn.linear_model.SGDClassifier.html?highlight=sgdclassifier#sklearn.linear_model.SGDClassifier\n",
        "    \"sgd_huber\": {\n",
        "        \"sgd_huber__l1_ratio\": uniform(loc = 0, scale = 1),\n",
        "        \"sgd_huber__alpha\": loguniform(a = 10**-3, b = 10**-1),\n",
        "        \"sgd_huber__learning_rate\": ['optimal', 'adaptive'],\n",
        "        \"sgd_huber__eta0\": loguniform(a = 10**-3, b = 10**-1)\n",
        "    }\n",
        "    \n",
        "}"
      ]
    },
    {
      "cell_type": "code",
      "execution_count": null,
      "metadata": {
        "colab": {
          "base_uri": "https://localhost:8080/"
        },
        "id": "Tdg5zrx2tZKW",
        "outputId": "c792213d-9c59-440f-b392-e8bc31c3a08d"
      },
      "outputs": [
        {
          "name": "stdout",
          "output_type": "stream",
          "text": [
            "Drive already mounted at /content/drive; to attempt to forcibly remount, call drive.mount(\"/content/drive\", force_remount=True).\n"
          ]
        }
      ],
      "source": [
        "# specify folder to dump tuned models\n",
        "drive.mount('/content/drive')\n",
        "os.chdir('/content/drive/MyDrive/Colab Notebooks/Project-KaggleCreditCard')"
      ]
    },
    {
      "cell_type": "code",
      "execution_count": null,
      "metadata": {
        "colab": {
          "base_uri": "https://localhost:8080/"
        },
        "id": "vqcYO7r_KKYW",
        "outputId": "b771a67e-d399-4861-c403-f2eac44ed937"
      },
      "outputs": [
        {
          "name": "stderr",
          "output_type": "stream",
          "text": [
            "\r  0%|          | 0/2 [00:00<?, ?it/s]"
          ]
        },
        {
          "name": "stdout",
          "output_type": "stream",
          "text": [
            "extree\n",
            "ExtraTreesClassifier(random_state=42)\n",
            "{'extree__max_depth': <scipy.stats._distn_infrastructure.rv_frozen object at 0x7f4780919810>, 'extree__criterion': ['gini', 'entropy'], 'extree__min_samples_leaf': <scipy.stats._distn_infrastructure.rv_frozen object at 0x7f47809196d0>, 'selectfrommodel__threshold': <scipy.stats._distn_infrastructure.rv_frozen object at 0x7f47809207d0>}\n",
            "\n",
            "best_score: 0.807623552887492\n",
            "best_params: {'extree__criterion': 'entropy', 'extree__max_depth': 403, 'extree__min_samples_leaf': 8, 'selectfrommodel__threshold': 0.17624510039685526}\n",
            "extree ADASYN AP extree dumped 20221021_124632\n"
          ]
        },
        {
          "name": "stderr",
          "output_type": "stream",
          "text": [
            "\r 50%|█████     | 1/2 [2:27:42<2:27:42, 8862.74s/it]"
          ]
        },
        {
          "name": "stdout",
          "output_type": "stream",
          "text": [
            "xgb\n",
            "XGBClassifier(random_state=42)\n",
            "{'xgb__learning_rate': <scipy.stats._distn_infrastructure.rv_frozen object at 0x7f477d7b0fd0>, 'xgb__gamma': <scipy.stats._distn_infrastructure.rv_frozen object at 0x7f477d7b0490>, 'xgb__reg_lambda': <scipy.stats._distn_infrastructure.rv_frozen object at 0x7f477d877f90>, 'selectfrommodel__threshold': <scipy.stats._distn_infrastructure.rv_frozen object at 0x7f477d7b06d0>}\n"
          ]
        },
        {
          "name": "stderr",
          "output_type": "stream",
          "text": [
            "100%|██████████| 2/2 [6:39:06<00:00, 11973.25s/it]"
          ]
        },
        {
          "name": "stdout",
          "output_type": "stream",
          "text": [
            "\n",
            "best_score: 0.780852335099457\n",
            "best_params: {'selectfrommodel__threshold': 0.000724586818114303, 'xgb__gamma': 15.528259214839936, 'xgb__learning_rate': 0.1549767788556639, 'xgb__reg_lambda': 8.526235532185119e-05}\n",
            "xgb ADASYN AP xgb dumped 20221021_124632\n"
          ]
        },
        {
          "name": "stderr",
          "output_type": "stream",
          "text": [
            "\n"
          ]
        }
      ],
      "source": [
        "# Run RandomizedSearchCV to tune shortlisted models\n",
        "random_clfs = []\n",
        "current_time = datetime.now().strftime(\"%Y%m%d_%H%M%S\")\n",
        "\n",
        "for clf_name, clf in tqdm(shortlisted_clfs.items()):\n",
        "\n",
        "  full_pipeline = Pipeline(\n",
        "      data_preparation.steps + [(clf_name, clf)]\n",
        "      )\n",
        "\n",
        "  print(clf_name)\n",
        "  print(clf)\n",
        "  \n",
        "  param_grid = copy.deepcopy(param_grids[clf_name])\n",
        "  # tune threshold for feature selection in data_prepartion pipeline\n",
        "  param_grid[\"selectfrommodel__threshold\"] = loguniform(a = 10**-5, b = 10**0)\n",
        "  \n",
        "  print(param_grid)\n",
        "\n",
        "  with parallel_backend('threading', n_jobs=-1):\n",
        "    random_search = RandomizedSearchCV(full_pipeline, \n",
        "                                      param_grid, \n",
        "                                      cv = 10, \n",
        "                                      n_iter = 100, \n",
        "                                      scoring = \"average_precision\",\n",
        "                                      random_state = 42,\n",
        "                                      # n_jobs = -1,\n",
        "                                      error_score = 'raise')\n",
        "\n",
        "    random_search.fit(X_train, y_train)\n",
        "    random_clfs.append(random_search)\n",
        "\n",
        "    # print best scores\n",
        "    print(f\"\\nbest_score: {random_search.best_score_}\")\n",
        "    print(f\"best_params: {random_search.best_params_}\")\n",
        "\n",
        "    # dump the best model\n",
        "    print(f'{clf_name} class balance AP {random_search.best_estimator_.steps[-1][0]} dumped {current_time}')\n",
        "    dump(random_search, f'{clf_name}_AP_class_balanced_{current_time}.joblib') "
      ]
    },
    {
      "cell_type": "markdown",
      "metadata": {
        "id": "6ZAC44G4dq_0"
      },
      "source": [
        "## Check model performance after hyperparameter tuning"
      ]
    },
    {
      "cell_type": "code",
      "execution_count": null,
      "metadata": {
        "colab": {
          "base_uri": "https://localhost:8080/"
        },
        "id": "vgIr-D57dwUp",
        "outputId": "bff0e3ce-1733-4ceb-d23c-2015e41f6b71"
      },
      "outputs": [
        {
          "name": "stdout",
          "output_type": "stream",
          "text": [
            "Drive already mounted at /content/drive; to attempt to forcibly remount, call drive.mount(\"/content/drive\", force_remount=True).\n"
          ]
        }
      ],
      "source": [
        "drive.mount('/content/drive')\n",
        "os.chdir('/content/drive/MyDrive/Colab Notebooks/Project-KaggleCreditCard')"
      ]
    },
    {
      "cell_type": "code",
      "execution_count": null,
      "metadata": {
        "colab": {
          "base_uri": "https://localhost:8080/"
        },
        "id": "MnqEk50AtiOL",
        "outputId": "8f4a2b65-a3be-46de-c62c-7c2bbbf271ec"
      },
      "outputs": [
        {
          "name": "stdout",
          "output_type": "stream",
          "text": [
            "extree ADASYN AP loaded 20221021_124632\n",
            "xgb ADASYN AP loaded 20221021_124632\n"
          ]
        }
      ],
      "source": [
        "tuned_models = {}\n",
        "time_list = []\n",
        "time_diff = []\n",
        "# specify regex pattern to load latest models\n",
        "match_pattern = '_AP_class_balanced_(\\w+).joblib'\n",
        "\n",
        "for time in [re.search(match_pattern, x).group(1) for x in os.listdir() if re.search(match_pattern, x) is not None]:\n",
        "  time_diff.append(datetime.now() - datetime.strptime(time, \"%Y%m%d_%H%M%S\"))\n",
        "  time_list.append(time)\n",
        "\n",
        "latest = time_list[np.argmin(time_diff)]\n",
        "for file in [x for x in os.listdir() if (re.search(match_pattern, x) is not None) and latest in x]:\n",
        "  model = load(file)\n",
        "  tuned_models[model.best_estimator_.steps[-1][0]] = model\n",
        "  print(model.best_estimator_.steps[-1][0], \"class balanced AP loaded\", latest)"
      ]
    },
    {
      "cell_type": "markdown",
      "metadata": {
        "id": "NDNTxJi_oSGE"
      },
      "source": [
        "### Average precision (AUPRC)"
      ]
    },
    {
      "cell_type": "code",
      "execution_count": null,
      "metadata": {
        "id": "wngmlrqth1V4"
      },
      "outputs": [],
      "source": [
        "# pull the CV AP results from RandomizedSearchCV\n",
        "tuned_AP = []\n",
        "for clf_name, model in tuned_models.items():\n",
        "  # tuned_AP.append(cross_val_score(model.best_estimator_, X_train, y_train, cv = 10, scoring='average_precision'))\n",
        "  cv_AP_colindex = [i for i, x in enumerate(model.cv_results_.keys()) if re.search('split\\w+_test_score', x) is not None]\n",
        "  tuned_AP.append(pd.DataFrame(model.cv_results_).iloc[model.best_index_,cv_AP_colindex].values)"
      ]
    },
    {
      "cell_type": "code",
      "execution_count": null,
      "metadata": {
        "id": "ecnVHBgkiKEV"
      },
      "outputs": [],
      "source": [
        "# sort the models and plot the spread of CV AP scores\n",
        "mean_tuned_AP = [np.mean(auc) for auc in tuned_AP]\n",
        "mean_train_AP = [average_precision_score(y_train, model.best_estimator_.predict_proba(X_train)[:,1]) for _, model in tuned_models.items()]\n",
        "sorted_tuned_AP = [i for _, i in sorted(zip(mean_tuned_AP, tuned_AP), reverse = True)]\n",
        "sorted_tuned_clf = [i for _, i in sorted(zip(mean_tuned_AP, tuned_models.keys()), reverse = True)]\n",
        "sorted_train_AP = [i for _, i in sorted(zip(mean_tuned_AP, mean_train_AP), reverse = True)]"
      ]
    },
    {
      "cell_type": "code",
      "execution_count": null,
      "metadata": {
        "colab": {
          "base_uri": "https://localhost:8080/",
          "height": 350
        },
        "id": "5q-7n4zWgCz_",
        "outputId": "2b3b8384-46ad-468a-cccf-1d665437a9da"
      },
      "outputs": [
        {
          "data": {
            "image/png": "[encoded data removed]",
            "text/plain": [
              "<Figure size 1440x360 with 1 Axes>"
            ]
          },
          "metadata": {},
          "output_type": "display_data"
        }
      ],
      "source": [
        "plt.boxplot(sorted_tuned_AP, labels=sorted_tuned_clf)\n",
        "# add dots for CV AP scores\n",
        "for i, AP in enumerate(sorted_tuned_AP):\n",
        "  plt.plot([i+1]*len(AP), AP, \".\")\n",
        "  plt.annotate(f\"mean = {np.mean(AP):0.4f}\\nsd = {np.std(AP):0.4f}\",(i+1, 0.7), ha = 'center', va = 'center')\n",
        "\n",
        "plt.plot([*range(1,len(sorted_tuned_AP)+1,1)], sorted(mean_tuned_AP, reverse=True), \n",
        "         \"ks\", label = 'mean CV AP after tuning')\n",
        "plt.plot([*range(1,len(sorted_tuned_AP)+1,1)], sorted_train_AP, \n",
        "         \"b^\", label = 'Train set AP after tuning')\n",
        "plt.legend()\n",
        "plt.title(f\"Models sorted by 10-fold cross validation AP score (after hyperparameter tuning)\")\n",
        "plt.xlabel(\"Models\")\n",
        "plt.ylim(0,1)\n",
        "plt.ylabel(\"CV AP score\")\n",
        "plt.show()"
      ]
    },
    {
      "cell_type": "markdown",
      "metadata": {
        "id": "niTKFRcjoW81"
      },
      "source": [
        "### AUROC"
      ]
    },
    {
      "cell_type": "code",
      "execution_count": null,
      "metadata": {
        "colab": {
          "base_uri": "https://localhost:8080/"
        },
        "id": "Sj_54PcEMSwm",
        "outputId": "84ce279b-f2f1-4f37-a369-b618d6b49ab8"
      },
      "outputs": [
        {
          "name": "stderr",
          "output_type": "stream",
          "text": [
            "100%|██████████| 2/2 [05:54<00:00, 177.00s/it]\n"
          ]
        }
      ],
      "source": [
        "list_clf = []\n",
        "auc_CVs = []\n",
        "auc_train = []\n",
        "list_precision = []\n",
        "list_recall = []\n",
        "list_thresholds = []\n",
        "\n",
        "cv = 10\n",
        "\n",
        "# fit each classification algorithm and calculate 10-fold CV AUC\n",
        "for key, item in tqdm(tuned_models.items()):\n",
        "  clf = item.best_estimator_.fit(X_train, y_train)\n",
        "  auc_CV = cross_val_score(clf, X_train, y_train, cv = cv, scoring = 'roc_auc')\n",
        "  try:\n",
        "    y_scores = cross_val_predict(clf, X_train, y_train, cv = cv, method = 'predict_proba')[:,1] # second column = probability of positive class\n",
        "  # if the classifier does not have decision_function attribute, then use predict_proba\n",
        "  except AttributeError:\n",
        "    print(f\"{key} doesn't have predict_proba() method\")\n",
        "    y_scores = cross_val_predict(clf, X_train, y_train, cv = cv, method = 'decision_function')\n",
        "  \n",
        "  precision, recall, thresholds = precision_recall_curve(y_train, y_scores)\n",
        "\n",
        "  list_clf.append(key)\n",
        "  auc_CVs.append(auc_CV)\n",
        "  auc_train.append(roc_auc_score(y_train, clf.predict_proba(X_train)[:,1]))\n",
        "  list_precision.append(precision)\n",
        "  list_recall.append(recall)\n",
        "  list_thresholds.append(thresholds)"
      ]
    },
    {
      "cell_type": "code",
      "execution_count": null,
      "metadata": {
        "id": "JlTHQ3mYHn0W"
      },
      "outputs": [],
      "source": [
        "sorted_tuned_AUC = [i for _, i in sorted(zip(mean_tuned_AP, auc_CVs), reverse = True)]\n",
        "sorted_train_AUC = [i for _, i in sorted(zip(mean_tuned_AP, auc_train), reverse = True)]"
      ]
    },
    {
      "cell_type": "code",
      "execution_count": null,
      "metadata": {
        "colab": {
          "base_uri": "https://localhost:8080/",
          "height": 196
        },
        "id": "mAgwTuDY2Gon",
        "outputId": "a6bd2b64-46e1-49d5-9d45-f1a19de6bbed"
      },
      "outputs": [
        {
          "data": {
            "image/png": "[encoded data removed]",
            "text/plain": [
              "<Figure size 1440x360 with 1 Axes>"
            ]
          },
          "metadata": {},
          "output_type": "display_data"
        }
      ],
      "source": [
        "plt.boxplot(sorted_tuned_AUC, labels=sorted_tuned_clf)\n",
        "# add dots for CV AUC scores\n",
        "for i, AUC in enumerate(sorted_tuned_AUC):\n",
        "  plt.plot([i+1]*len(AUC), AUC, \".\")\n",
        "  plt.annotate(f\"mean = {np.mean(AUC):0.4f}\\nsd = {np.std(AUC):0.4f}\",(i+1, 0.7), ha = 'center', va = 'center')\n",
        "\n",
        "plt.plot([*range(1,len(sorted_tuned_AUC)+1,1)], [np.mean(x) for x in sorted_tuned_AUC], \n",
        "         \"ks\", label = 'mean CV AUC after tuning')\n",
        "plt.plot([*range(1,len(sorted_tuned_AUC)+1,1)], sorted_train_AUC, \n",
        "         \"b^\", label = 'Train set AUC after tuning')\n",
        "plt.legend()\n",
        "plt.title(f\"Models sorted by 10-fold cross validation AUC score (after hyperparameter tuning)\")\n",
        "plt.xlabel(\"Models\")\n",
        "plt.ylim(0,1)\n",
        "plt.ylabel(\"CV AUC score\")\n",
        "plt.show()"
      ]
    },
    {
      "cell_type": "markdown",
      "metadata": {
        "id": "zOJhVdhOoYhf"
      },
      "source": [
        "### Coefficients and PR curve"
      ]
    },
    {
      "cell_type": "code",
      "execution_count": null,
      "metadata": {
        "id": "S_FPuVqM2I8L"
      },
      "outputs": [],
      "source": [
        "best_model = tuned_models['extree'].best_estimator_"
      ]
    },
    {
      "cell_type": "code",
      "execution_count": null,
      "metadata": {
        "colab": {
          "base_uri": "https://localhost:8080/",
          "height": 192
        },
        "id": "YLZTkulk2K0f",
        "outputId": "1462db77-3c0b-40f8-c55b-447cd59b4481"
      },
      "outputs": [
        {
          "data": {
            "image/png": "[encoded data removed]",
            "text/plain": [
              "<Figure size 1440x360 with 1 Axes>"
            ]
          },
          "metadata": {},
          "output_type": "display_data"
        }
      ],
      "source": [
        "idx = list_clf.index(best_model.steps[-1][0])\n",
        "precisions = list_precision[idx]\n",
        "recalls = list_recall[idx]\n",
        "thresholds = list_thresholds[idx]\n",
        "plt.plot(thresholds, precisions[:-1], 'b--o', label = \"Precision\", linewidth = 2)\n",
        "plt.plot(thresholds, recalls[:-1], \"g--o\", label = \"Recall\", linewidth = 2)\n",
        "# plt.axhline(0.9, c='k')\n",
        "plt.xlabel(\"Threshold\")\n",
        "plt.ylim(0,1)\n",
        "plt.legend()\n",
        "plt.show()"
      ]
    },
    {
      "cell_type": "code",
      "execution_count": null,
      "metadata": {
        "colab": {
          "base_uri": "https://localhost:8080/",
          "height": 257
        },
        "id": "q7D83ptYodPX",
        "outputId": "970330d5-cf15-4c2d-f2f3-607aca0becfc"
      },
      "outputs": [
        {
          "name": "stdout",
          "output_type": "stream",
          "text": [
            "Number of features after fitting estimator with regularization: \n",
            "6\n",
            "features = ['V4', 'V14', 'V17', 'V12', 'V11', 'V10']\n",
            "coefficient = [0.2445, 0.2227, 0.1734, 0.1634, 0.1154, 0.0805]\n"
          ]
        },
        {
          "data": {
            "image/png": "[encoded data removed]",
            "text/plain": [
              "<Figure size 1440x360 with 1 Axes>"
            ]
          },
          "metadata": {},
          "output_type": "display_data"
        }
      ],
      "source": [
        "# non-zero (signficant) features after regularization in fitting estimator\n",
        "features_out = best_model[:-1].get_feature_names_out() \n",
        "coef = best_model.steps[-1][1].feature_importances_\n",
        "print(f\"Number of features after fitting estimator with regularization: \\n{np.count_nonzero(coef)}\")\n",
        "features_non_zero = [features_out[loc] for loc in np.nonzero(coef)[0]]\n",
        "coef_non_zero = [np.around(coef[loc], decimals=4) for loc in np.nonzero(coef)[0]]\n",
        "print(f\"features = {[feature_ for _, feature_ in sorted(zip(np.abs(coef_non_zero), features_non_zero), reverse=True)]}\")\n",
        "print(f\"coefficient = {[coef_ for _, coef_ in sorted(zip(np.abs(coef_non_zero), coef_non_zero), reverse=True)]}\")\n",
        "\n",
        "abs_coef = np.abs(coef)\n",
        "fig, ax = plt.subplots(1,1)\n",
        "top_n = 10\n",
        "for i, (_, coef, name) in enumerate(sorted(zip(abs_coef, coef, features_out), reverse=True)[:top_n]):\n",
        "  ax.bar(name, coef)\n",
        "for rect in ax.patches:\n",
        "    height = rect.get_height()\n",
        "    ax.annotate(f\"{height:0.4f}\",\n",
        "                xy=(rect.get_x() + rect.get_width() / 2, height/2),\n",
        "                xytext=(0, 0),  # 3 points vertical offset\n",
        "                textcoords=\"offset points\",\n",
        "                color = 'white',\n",
        "                ha='center', va='center')\n",
        "plt.title(f\"Top features\")\n",
        "plt.ylabel(\"Coefficients\")\n",
        "plt.show()"
      ]
    },
    {
      "cell_type": "markdown",
      "metadata": {
        "id": "TCx4HctV3hVt"
      },
      "source": [
        "# Ensemble methods\n",
        "- Combining tuned models with ensemble learning"
      ]
    },
    {
      "cell_type": "code",
      "execution_count": null,
      "metadata": {
        "colab": {
          "background_save": true,
          "base_uri": "https://localhost:8080/"
        },
        "id": "kS9qFNBi3ips",
        "outputId": "1db55192-d7f4-418e-9db4-feb079b28f5d"
      },
      "outputs": [
        {
          "name": "stdout",
          "output_type": "stream",
          "text": [
            "mean AP = 0.7876, std AP = 0.0374, Adaboost extree\n",
            "mean AP = 0.0017, std AP = 0.0000, Adaboost xgb\n",
            "mean AP = 0.7971, std AP = 0.0398, Bagging extree\n"
          ]
        }
      ],
      "source": [
        "# get performance from adaboost and bagging ensemble methods on each tuned model\n",
        "single_clf_ensemble_models = {\n",
        "    \"Adaboost\": AdaBoostClassifier(random_state = 42),\n",
        "    \"Bagging\": BaggingClassifier(random_state = 42, n_estimators=50)\n",
        "}\n",
        "\n",
        "for ensemble_key, ensemble_model in single_clf_ensemble_models.items():\n",
        "  for model in sorted_tuned_clf:\n",
        "    ensemble_model.base_estimator = tuned_models[model].best_estimator_.steps[-1][1]\n",
        "    ensemble_pipeline = Pipeline(data_preparation.steps + [(ensemble_key, ensemble_model)])\n",
        "\n",
        "    ensemble_pipeline.fit(X_train, y_train)\n",
        "    cv_score = cross_val_score(ensemble_pipeline, X_train, y_train, cv = 10, scoring = 'average_precision')\n",
        "    print(f\"mean AP = {np.mean(cv_score):0.4f}, std AP = {np.std(cv_score):0.4f}, {ensemble_key} {model}\")"
      ]
    },
    {
      "cell_type": "code",
      "execution_count": null,
      "metadata": {
        "id": "pBHMiPRjBsKp"
      },
      "outputs": [],
      "source": [
        "# get performance from voting and stacking ensemble methods on an increasing basket of tuned models\n",
        "multiple_clf_ensemble_models = {\n",
        "    \"Voting\": VotingClassifier(voting = 'soft', estimators = []),\n",
        "    \"Stacking\": StackingClassifier(cv = 10, final_estimator=RandomForestClassifier(random_state=43), estimators = [])\n",
        "}\n",
        "\n",
        "for ensemble_key, ensemble_model in multiple_clf_ensemble_models.items():\n",
        "  for i in range(1,len(tuned_models)):\n",
        "    ensemble_model.estimators = [(model, tuned_models[model].best_estimator_.steps[-1][1]) for model in sorted_tuned_clf[:(i+1)]]\n",
        "    ensemble_pipeline = Pipeline(data_preparation.steps + [(ensemble_key, ensemble_model)])\n",
        "\n",
        "    ensemble_pipeline.fit(X_train, y_train)\n",
        "    cv_score = cross_val_score(ensemble_pipeline, X_train, y_train, cv = 10, scoring = 'average_precision')\n",
        "    print(f\"mean AP = {np.mean(cv_score):0.4f}, std AP = {np.std(cv_score):0.4f}, {ensemble_key} {[model for model in sorted_tuned_clf[:(i+1)]]}\")"
      ]
    }
  ],
  "metadata": {
    "colab": {
      "collapsed_sections": [],
      "provenance": [],
      "toc_visible": true,
      "include_colab_link": true
    },
    "kernelspec": {
      "display_name": "Python 3.10.5 ('nba')",
      "language": "python",
      "name": "python3"
    },
    "language_info": {
      "codemirror_mode": {
        "name": "ipython",
        "version": 3
      },
      "file_extension": ".py",
      "mimetype": "text/x-python",
      "name": "python",
      "nbconvert_exporter": "python",
      "pygments_lexer": "ipython3",
      "version": "3.10.5"
    },
    "vscode": {
      "interpreter": {
        "hash": "1a9a5b42adc7f3119e1c5f977e1d82e0f4ffea65da5dcdfc0153128275767151"
      }
    }
  },
  "nbformat": 4,
  "nbformat_minor": 0
}